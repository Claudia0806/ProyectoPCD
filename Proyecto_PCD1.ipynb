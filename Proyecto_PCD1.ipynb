{
 "cells": [
  {
   "cell_type": "markdown",
   "id": "666db64f",
   "metadata": {
    "id": "666db64f"
   },
   "source": [
    "<img style=\"float: right; margin: 0px 0px 15px 15px;\" src=\"https://wallpaperaccess.com/full/7006038.jpg\" width=\"350px\" height=\"300\" />\n",
    "\n",
    "# Book clasification\n",
    "\n",
    "+ Ana Rosaura Zamarrón Álvarez - 736222\n",
    "+ Claudia Celeste Castillejos Jáuregui - 735868"
   ]
  },
  {
   "cell_type": "markdown",
   "id": "4ae4929b",
   "metadata": {
    "id": "4ae4929b"
   },
   "source": [
    "## Introducción\n",
    "Hoy en día los sistemas de recomendación son parte de la vida cotidiana de gran parte de las personas, lo podemos ver en muchos sitios de internet como las redes sociales, sitios de E-Commerce como Amazon o Mercado Libre, o algúna plataforma de streaming como Netflix o Spotify. Los sistemas de recomendación afectan significativamente en el contenido que consumimos diariamente, por eso es importante que un científico de datos aprenda a utilizaros, tienen un valor significativo para muchas empresas o proyectos.\n",
    "\n",
    "Para este proyecto se creará un sistema de recomendación donde los productos a recomendar son libros. Es un tema interesante porque dentro del mundo de los sistemas de recomendación los productos a tratar normalmente son películas, productos de una tienda departamental, canciones, etc.; pero no hay muchos ejemplos sobre libros.\n",
    "\n",
    "El modelo se desplegará en un API donde el usuario podrá hacer la petición para recibir una recomendación de un libro con base en otro que ya leyó. El dataset contiene ratings de 278,858 usuarios que proveen 1,149,780 ratings (explicito / implicito) de alrededor de 271,379 libros.\n",
    "\n",
    "Los datos se obtuvieron de Kaggle: https://www.kaggle.com/datasets/ruchi798/bookcrossing-dataset.\n"
   ]
  },
  {
   "cell_type": "markdown",
   "id": "b20a4927",
   "metadata": {
    "id": "b20a4927"
   },
   "source": [
    "## Antecedentes\n",
    "Para crear nuestro sistema de recomendación se utilizará un filtrado colaborativo basado en items. Este algoritmo calcula la similitud que hay entre los productos utilizando los ratings que le dieron los usuarios a cada uno y recomienda el producto más similar a los que ya consumió el usuario. Amazon desarrolló el filtrado colaborativo basado en items. En un sistema donde hay más usuarios que elementos, el filtrado basado en items es más rápido y más estable que el basado en usuarios. Es efectivo porque, por lo general, la calificación promedio que recibe un item no cambia tan rápido como la calificación promedio otorgada por un usuario a diferentes items."
   ]
  },
  {
   "cell_type": "markdown",
   "id": "66c96cbe",
   "metadata": {
    "id": "66c96cbe"
   },
   "source": [
    "## Objetivos\n",
    "+ Crear un sistema de recomendación de libros utilizando el algoritmo de filtrado colaborativo\n",
    "+ Hacer un despliegue del modelo utilizando un API."
   ]
  },
  {
   "cell_type": "markdown",
   "id": "11859a2f",
   "metadata": {
    "id": "11859a2f"
   },
   "source": [
    "## Planteamineto del problema\n",
    "El producto final del proyecto será un programa que sea capaz de recomendar un libro a un usuario. El API que se creará debe ser capaz de recibir información del usuario, puede ser uno o varios libros que le hayan gustado, pero solo pueden ser libros que estén en nuestra base de datos."
   ]
  },
  {
   "cell_type": "code",
   "execution_count": 2,
   "id": "09e8110d",
   "metadata": {
    "id": "09e8110d",
    "colab": {
     "base_uri": "https://localhost:8080/",
     "height": 374
    },
    "outputId": "b7da3b7a-b78b-4fc9-aa75-e04fef0a1149"
   },
   "outputs": [],
   "source": [
    "# Librerías\n",
    "import matplotlib.pyplot as plt\n",
    "import pandas as pd\n",
    "from surprise import Reader\n",
    "from surprise import Dataset\n",
    "import plotly.express as px\n",
    "from surprise.model_selection import GridSearchCV\n",
    "from surprise import SVD\n",
    "from surprise import KNNWithMeans\n",
    "from surprise.model_selection import cross_validate\n",
    "from surprise import accuracy\n",
    "from langdetect import detect\n",
    "import time\n",
    "import numpy as np"
   ]
  },
  {
   "cell_type": "markdown",
   "id": "d27484f0",
   "metadata": {
    "id": "d27484f0"
   },
   "source": [
    "## Exploratory Data Analysis"
   ]
  },
  {
   "cell_type": "code",
   "execution_count": 2,
   "id": "1a287587",
   "metadata": {
    "id": "1a287587"
   },
   "outputs": [],
   "source": [
    "ratings = pd.read_csv(\"./archive/Book reviews/Book reviews/BX-Book-Ratings.csv\",\n",
    "                   encoding=\"latin\",\n",
    "                   sep=';',\n",
    "                   dtype={\"User-ID\":str, \"ISBN\":str, \"Book-Rating\":int})\n",
    "\n",
    "books = pd.read_csv(\"./archive/Book reviews/Book reviews/BX_Books.csv\",\n",
    "                    encoding=\"latin\",\n",
    "                    sep=\";\",\n",
    "                    dtype={\"ISBN\":str})\n",
    "\n",
    "users = pd.read_csv(\"./archive/Book reviews/Book reviews/BX-Users.csv\",\n",
    "                    encoding=\"latin\",\n",
    "                    sep=\";\",\n",
    "                    dtype={\"User-ID\":str, \"Age\":float})"
   ]
  },
  {
   "cell_type": "code",
   "execution_count": 3,
   "outputs": [
    {
     "data": {
      "text/plain": "(271379, 8)"
     },
     "execution_count": 3,
     "metadata": {},
     "output_type": "execute_result"
    }
   ],
   "source": [
    "books.shape"
   ],
   "metadata": {
    "collapsed": false
   }
  },
  {
   "cell_type": "code",
   "execution_count": 4,
   "outputs": [
    {
     "data": {
      "text/plain": "            ISBN Book-Title  Book-Author  Year-Of-Publication Publisher  \\\n1905  0006550789        253  Geoff Ryman                    0  Flamingo   \n\n                                            Image-URL-S  \\\n1905  http://images.amazon.com/images/P/0006550789.0...   \n\n                                            Image-URL-M  \\\n1905  http://images.amazon.com/images/P/0006550789.0...   \n\n                                            Image-URL-L  \n1905  http://images.amazon.com/images/P/0006550789.0...  ",
      "text/html": "<div>\n<style scoped>\n    .dataframe tbody tr th:only-of-type {\n        vertical-align: middle;\n    }\n\n    .dataframe tbody tr th {\n        vertical-align: top;\n    }\n\n    .dataframe thead th {\n        text-align: right;\n    }\n</style>\n<table border=\"1\" class=\"dataframe\">\n  <thead>\n    <tr style=\"text-align: right;\">\n      <th></th>\n      <th>ISBN</th>\n      <th>Book-Title</th>\n      <th>Book-Author</th>\n      <th>Year-Of-Publication</th>\n      <th>Publisher</th>\n      <th>Image-URL-S</th>\n      <th>Image-URL-M</th>\n      <th>Image-URL-L</th>\n    </tr>\n  </thead>\n  <tbody>\n    <tr>\n      <th>1905</th>\n      <td>0006550789</td>\n      <td>253</td>\n      <td>Geoff Ryman</td>\n      <td>0</td>\n      <td>Flamingo</td>\n      <td>http://images.amazon.com/images/P/0006550789.0...</td>\n      <td>http://images.amazon.com/images/P/0006550789.0...</td>\n      <td>http://images.amazon.com/images/P/0006550789.0...</td>\n    </tr>\n  </tbody>\n</table>\n</div>"
     },
     "execution_count": 4,
     "metadata": {},
     "output_type": "execute_result"
    }
   ],
   "source": [
    "books[books[\"Book-Title\"] == \"253\"]"
   ],
   "metadata": {
    "collapsed": false
   }
  },
  {
   "cell_type": "code",
   "execution_count": 5,
   "outputs": [
    {
     "data": {
      "text/plain": "(271367, 8)"
     },
     "execution_count": 5,
     "metadata": {},
     "output_type": "execute_result"
    }
   ],
   "source": [
    "books = books[(books[\"Book-Title\"] != \"1984\") & (books[\"Book-Title\"] != \"253\") & (books[\"Book-Title\"] != \"24/7\")]\n",
    "books.shape"
   ],
   "metadata": {
    "collapsed": false
   }
  },
  {
   "cell_type": "code",
   "execution_count": 6,
   "outputs": [
    {
     "data": {
      "text/plain": "              ISBN                                         Book-Title  \\\n0       0195153448                                Classical Mythology   \n1       0002005018                                       Clara Callan   \n2       0060973129                               Decision in Normandy   \n3       0393045218                             The Mummies of Urumchi   \n4       0671870432                                    PLEADING GUILTY   \n...            ...                                                ...   \n202411  1845170423                                  Cocktail Classics   \n202412  014002803X                                  Anti Death League   \n202413  0449906736      Flashpoints: Promise and Peril in a New World   \n202414  0525447644                            From One to One Hundred   \n202415  006008667X  Lily Dale : The True Story of the Town that Ta...   \n\n                 Book-Author  Year-Of-Publication                Publisher  \\\n0         Mark P. O. Morford                 2002  Oxford University Press   \n1       Richard Bruce Wright                 2001    HarperFlamingo Canada   \n2               Carlo D'Este                 1991          HarperPerennial   \n3            E. J. W. Barber                 1999   W. W. Norton & Company   \n4                Scott Turow                 1993               Audioworks   \n...                      ...                  ...                      ...   \n202411           David Biggs                 2004                Connaught   \n202412         Kingsley Amis                 1975             Viking Press   \n202413          Robin Wright                 1993         Ballantine Books   \n202414            Teri Sloat                 1991             Dutton Books   \n202415      Christine Wicker                 2004       HarperSanFrancisco   \n\n                                              Image-URL-S  \\\n0       http://images.amazon.com/images/P/0195153448.0...   \n1       http://images.amazon.com/images/P/0002005018.0...   \n2       http://images.amazon.com/images/P/0060973129.0...   \n3       http://images.amazon.com/images/P/0393045218.0...   \n4       http://images.amazon.com/images/P/0671870432.0...   \n...                                                   ...   \n202411  http://images.amazon.com/images/P/1845170423.0...   \n202412  http://images.amazon.com/images/P/014002803X.0...   \n202413  http://images.amazon.com/images/P/0449906736.0...   \n202414  http://images.amazon.com/images/P/0525447644.0...   \n202415  http://images.amazon.com/images/P/006008667X.0...   \n\n                                              Image-URL-M  \\\n0       http://images.amazon.com/images/P/0195153448.0...   \n1       http://images.amazon.com/images/P/0002005018.0...   \n2       http://images.amazon.com/images/P/0060973129.0...   \n3       http://images.amazon.com/images/P/0393045218.0...   \n4       http://images.amazon.com/images/P/0671870432.0...   \n...                                                   ...   \n202411  http://images.amazon.com/images/P/1845170423.0...   \n202412  http://images.amazon.com/images/P/014002803X.0...   \n202413  http://images.amazon.com/images/P/0449906736.0...   \n202414  http://images.amazon.com/images/P/0525447644.0...   \n202415  http://images.amazon.com/images/P/006008667X.0...   \n\n                                              Image-URL-L  \n0       http://images.amazon.com/images/P/0195153448.0...  \n1       http://images.amazon.com/images/P/0002005018.0...  \n2       http://images.amazon.com/images/P/0060973129.0...  \n3       http://images.amazon.com/images/P/0393045218.0...  \n4       http://images.amazon.com/images/P/0671870432.0...  \n...                                                   ...  \n202411  http://images.amazon.com/images/P/1845170423.0...  \n202412  http://images.amazon.com/images/P/014002803X.0...  \n202413  http://images.amazon.com/images/P/0449906736.0...  \n202414  http://images.amazon.com/images/P/0525447644.0...  \n202415  http://images.amazon.com/images/P/006008667X.0...  \n\n[202416 rows x 8 columns]",
      "text/html": "<div>\n<style scoped>\n    .dataframe tbody tr th:only-of-type {\n        vertical-align: middle;\n    }\n\n    .dataframe tbody tr th {\n        vertical-align: top;\n    }\n\n    .dataframe thead th {\n        text-align: right;\n    }\n</style>\n<table border=\"1\" class=\"dataframe\">\n  <thead>\n    <tr style=\"text-align: right;\">\n      <th></th>\n      <th>ISBN</th>\n      <th>Book-Title</th>\n      <th>Book-Author</th>\n      <th>Year-Of-Publication</th>\n      <th>Publisher</th>\n      <th>Image-URL-S</th>\n      <th>Image-URL-M</th>\n      <th>Image-URL-L</th>\n    </tr>\n  </thead>\n  <tbody>\n    <tr>\n      <th>0</th>\n      <td>0195153448</td>\n      <td>Classical Mythology</td>\n      <td>Mark P. O. Morford</td>\n      <td>2002</td>\n      <td>Oxford University Press</td>\n      <td>http://images.amazon.com/images/P/0195153448.0...</td>\n      <td>http://images.amazon.com/images/P/0195153448.0...</td>\n      <td>http://images.amazon.com/images/P/0195153448.0...</td>\n    </tr>\n    <tr>\n      <th>1</th>\n      <td>0002005018</td>\n      <td>Clara Callan</td>\n      <td>Richard Bruce Wright</td>\n      <td>2001</td>\n      <td>HarperFlamingo Canada</td>\n      <td>http://images.amazon.com/images/P/0002005018.0...</td>\n      <td>http://images.amazon.com/images/P/0002005018.0...</td>\n      <td>http://images.amazon.com/images/P/0002005018.0...</td>\n    </tr>\n    <tr>\n      <th>2</th>\n      <td>0060973129</td>\n      <td>Decision in Normandy</td>\n      <td>Carlo D'Este</td>\n      <td>1991</td>\n      <td>HarperPerennial</td>\n      <td>http://images.amazon.com/images/P/0060973129.0...</td>\n      <td>http://images.amazon.com/images/P/0060973129.0...</td>\n      <td>http://images.amazon.com/images/P/0060973129.0...</td>\n    </tr>\n    <tr>\n      <th>3</th>\n      <td>0393045218</td>\n      <td>The Mummies of Urumchi</td>\n      <td>E. J. W. Barber</td>\n      <td>1999</td>\n      <td>W. W. Norton &amp; Company</td>\n      <td>http://images.amazon.com/images/P/0393045218.0...</td>\n      <td>http://images.amazon.com/images/P/0393045218.0...</td>\n      <td>http://images.amazon.com/images/P/0393045218.0...</td>\n    </tr>\n    <tr>\n      <th>4</th>\n      <td>0671870432</td>\n      <td>PLEADING GUILTY</td>\n      <td>Scott Turow</td>\n      <td>1993</td>\n      <td>Audioworks</td>\n      <td>http://images.amazon.com/images/P/0671870432.0...</td>\n      <td>http://images.amazon.com/images/P/0671870432.0...</td>\n      <td>http://images.amazon.com/images/P/0671870432.0...</td>\n    </tr>\n    <tr>\n      <th>...</th>\n      <td>...</td>\n      <td>...</td>\n      <td>...</td>\n      <td>...</td>\n      <td>...</td>\n      <td>...</td>\n      <td>...</td>\n      <td>...</td>\n    </tr>\n    <tr>\n      <th>202411</th>\n      <td>1845170423</td>\n      <td>Cocktail Classics</td>\n      <td>David Biggs</td>\n      <td>2004</td>\n      <td>Connaught</td>\n      <td>http://images.amazon.com/images/P/1845170423.0...</td>\n      <td>http://images.amazon.com/images/P/1845170423.0...</td>\n      <td>http://images.amazon.com/images/P/1845170423.0...</td>\n    </tr>\n    <tr>\n      <th>202412</th>\n      <td>014002803X</td>\n      <td>Anti Death League</td>\n      <td>Kingsley Amis</td>\n      <td>1975</td>\n      <td>Viking Press</td>\n      <td>http://images.amazon.com/images/P/014002803X.0...</td>\n      <td>http://images.amazon.com/images/P/014002803X.0...</td>\n      <td>http://images.amazon.com/images/P/014002803X.0...</td>\n    </tr>\n    <tr>\n      <th>202413</th>\n      <td>0449906736</td>\n      <td>Flashpoints: Promise and Peril in a New World</td>\n      <td>Robin Wright</td>\n      <td>1993</td>\n      <td>Ballantine Books</td>\n      <td>http://images.amazon.com/images/P/0449906736.0...</td>\n      <td>http://images.amazon.com/images/P/0449906736.0...</td>\n      <td>http://images.amazon.com/images/P/0449906736.0...</td>\n    </tr>\n    <tr>\n      <th>202414</th>\n      <td>0525447644</td>\n      <td>From One to One Hundred</td>\n      <td>Teri Sloat</td>\n      <td>1991</td>\n      <td>Dutton Books</td>\n      <td>http://images.amazon.com/images/P/0525447644.0...</td>\n      <td>http://images.amazon.com/images/P/0525447644.0...</td>\n      <td>http://images.amazon.com/images/P/0525447644.0...</td>\n    </tr>\n    <tr>\n      <th>202415</th>\n      <td>006008667X</td>\n      <td>Lily Dale : The True Story of the Town that Ta...</td>\n      <td>Christine Wicker</td>\n      <td>2004</td>\n      <td>HarperSanFrancisco</td>\n      <td>http://images.amazon.com/images/P/006008667X.0...</td>\n      <td>http://images.amazon.com/images/P/006008667X.0...</td>\n      <td>http://images.amazon.com/images/P/006008667X.0...</td>\n    </tr>\n  </tbody>\n</table>\n<p>202416 rows × 8 columns</p>\n</div>"
     },
     "execution_count": 6,
     "metadata": {},
     "output_type": "execute_result"
    }
   ],
   "source": [
    "books = books[books[\"Book-Title\"].str.contains(\"Ã\") == False]\n",
    "books = books[books[\"Book-Title\"].str.contains(\"r'\\?.*'\") == False]\n",
    "books = books[books[\"Book-Title\"].str.contains(\"@\") == False]\n",
    "books = books[books[\"Book-Title\"].str.contains(\"¶\") == False]\n",
    "books = books[books[\"Book-Title\"].str.contains(\"'\") == False]\n",
    "books = books[books[\"Book-Title\"].str.contains(\"1\") == False]\n",
    "books = books[books[\"Book-Title\"].str.contains(\"2\") == False]\n",
    "books = books[books[\"Book-Title\"].str.contains(\"3\") == False]\n",
    "books = books[books[\"Book-Title\"].str.contains(\"4\") == False]\n",
    "books = books[books[\"Book-Title\"].str.contains(\"5\") == False]\n",
    "books = books[books[\"Book-Title\"].str.contains(\"6\") == False]\n",
    "books = books[books[\"Book-Title\"].str.contains(\"7\") == False]\n",
    "books = books[books[\"Book-Title\"].str.contains(\"8\") == False]\n",
    "books = books[books[\"Book-Title\"].str.contains(\"9\") == False]\n",
    "books = books[books[\"Book-Title\"].str.isnumeric() == False]\n",
    "books = books.reset_index(drop=True)\n",
    "books"
   ],
   "metadata": {
    "collapsed": false
   }
  },
  {
   "cell_type": "code",
   "execution_count": 7,
   "outputs": [
    {
     "data": {
      "text/plain": "                                               Book-Title\n0                                     Classical Mythology\n1                                            Clara Callan\n2                                    Decision in Normandy\n3                                  The Mummies of Urumchi\n4                                         PLEADING GUILTY\n...                                                   ...\n202411                                  Cocktail Classics\n202412                                  Anti Death League\n202413      Flashpoints: Promise and Peril in a New World\n202414                            From One to One Hundred\n202415  Lily Dale : The True Story of the Town that Ta...\n\n[175972 rows x 1 columns]",
      "text/html": "<div>\n<style scoped>\n    .dataframe tbody tr th:only-of-type {\n        vertical-align: middle;\n    }\n\n    .dataframe tbody tr th {\n        vertical-align: top;\n    }\n\n    .dataframe thead th {\n        text-align: right;\n    }\n</style>\n<table border=\"1\" class=\"dataframe\">\n  <thead>\n    <tr style=\"text-align: right;\">\n      <th></th>\n      <th>Book-Title</th>\n    </tr>\n  </thead>\n  <tbody>\n    <tr>\n      <th>0</th>\n      <td>Classical Mythology</td>\n    </tr>\n    <tr>\n      <th>1</th>\n      <td>Clara Callan</td>\n    </tr>\n    <tr>\n      <th>2</th>\n      <td>Decision in Normandy</td>\n    </tr>\n    <tr>\n      <th>3</th>\n      <td>The Mummies of Urumchi</td>\n    </tr>\n    <tr>\n      <th>4</th>\n      <td>PLEADING GUILTY</td>\n    </tr>\n    <tr>\n      <th>...</th>\n      <td>...</td>\n    </tr>\n    <tr>\n      <th>202411</th>\n      <td>Cocktail Classics</td>\n    </tr>\n    <tr>\n      <th>202412</th>\n      <td>Anti Death League</td>\n    </tr>\n    <tr>\n      <th>202413</th>\n      <td>Flashpoints: Promise and Peril in a New World</td>\n    </tr>\n    <tr>\n      <th>202414</th>\n      <td>From One to One Hundred</td>\n    </tr>\n    <tr>\n      <th>202415</th>\n      <td>Lily Dale : The True Story of the Town that Ta...</td>\n    </tr>\n  </tbody>\n</table>\n<p>175972 rows × 1 columns</p>\n</div>"
     },
     "execution_count": 7,
     "metadata": {},
     "output_type": "execute_result"
    }
   ],
   "source": [
    "unique_books = books[[\"Book-Title\"]].drop_duplicates([\"Book-Title\"])\n",
    "unique_books"
   ],
   "metadata": {
    "collapsed": false
   }
  },
  {
   "cell_type": "code",
   "execution_count": 8,
   "outputs": [
    {
     "name": "stdout",
     "output_type": "stream",
     "text": [
      "3541.870498895645\n"
     ]
    }
   ],
   "source": [
    "inicio = time.time()\n",
    "unique_books['Language'] = unique_books['Book-Title'].apply(detect)\n",
    "unique_books.head()\n",
    "final= time.time()\n",
    "print(final-inicio) # https://stackoverflow.com/questions/43916600/text-language-detection-in-python"
   ],
   "metadata": {
    "collapsed": false
   }
  },
  {
   "cell_type": "code",
   "execution_count": 10,
   "outputs": [
    {
     "name": "stdout",
     "output_type": "stream",
     "text": [
      "59.031174981594084\n"
     ]
    }
   ],
   "source": [
    "print((final-inicio)/60)"
   ],
   "metadata": {
    "collapsed": false
   }
  },
  {
   "cell_type": "code",
   "execution_count": null,
   "outputs": [],
   "source": [
    "unique_books"
   ],
   "metadata": {
    "collapsed": false
   }
  },
  {
   "cell_type": "code",
   "execution_count": 11,
   "outputs": [
    {
     "data": {
      "text/plain": "              ISBN                                         Book-Title  \\\n0       0195153448                                Classical Mythology   \n1       0801319536                                Classical Mythology   \n2       0002005018                                       Clara Callan   \n3       0060973129                               Decision in Normandy   \n4       0393045218                             The Mummies of Urumchi   \n...            ...                                                ...   \n202411  1845170423                                  Cocktail Classics   \n202412  014002803X                                  Anti Death League   \n202413  0449906736      Flashpoints: Promise and Peril in a New World   \n202414  0525447644                            From One to One Hundred   \n202415  006008667X  Lily Dale : The True Story of the Town that Ta...   \n\n                 Book-Author  Year-Of-Publication                Publisher  \\\n0         Mark P. O. Morford                 2002  Oxford University Press   \n1         Mark P. O. Morford                 1998        John Wiley & Sons   \n2       Richard Bruce Wright                 2001    HarperFlamingo Canada   \n3               Carlo D'Este                 1991          HarperPerennial   \n4            E. J. W. Barber                 1999   W. W. Norton & Company   \n...                      ...                  ...                      ...   \n202411           David Biggs                 2004                Connaught   \n202412         Kingsley Amis                 1975             Viking Press   \n202413          Robin Wright                 1993         Ballantine Books   \n202414            Teri Sloat                 1991             Dutton Books   \n202415      Christine Wicker                 2004       HarperSanFrancisco   \n\n                                              Image-URL-S  \\\n0       http://images.amazon.com/images/P/0195153448.0...   \n1       http://images.amazon.com/images/P/0801319536.0...   \n2       http://images.amazon.com/images/P/0002005018.0...   \n3       http://images.amazon.com/images/P/0060973129.0...   \n4       http://images.amazon.com/images/P/0393045218.0...   \n...                                                   ...   \n202411  http://images.amazon.com/images/P/1845170423.0...   \n202412  http://images.amazon.com/images/P/014002803X.0...   \n202413  http://images.amazon.com/images/P/0449906736.0...   \n202414  http://images.amazon.com/images/P/0525447644.0...   \n202415  http://images.amazon.com/images/P/006008667X.0...   \n\n                                              Image-URL-M  \\\n0       http://images.amazon.com/images/P/0195153448.0...   \n1       http://images.amazon.com/images/P/0801319536.0...   \n2       http://images.amazon.com/images/P/0002005018.0...   \n3       http://images.amazon.com/images/P/0060973129.0...   \n4       http://images.amazon.com/images/P/0393045218.0...   \n...                                                   ...   \n202411  http://images.amazon.com/images/P/1845170423.0...   \n202412  http://images.amazon.com/images/P/014002803X.0...   \n202413  http://images.amazon.com/images/P/0449906736.0...   \n202414  http://images.amazon.com/images/P/0525447644.0...   \n202415  http://images.amazon.com/images/P/006008667X.0...   \n\n                                              Image-URL-L Language  \n0       http://images.amazon.com/images/P/0195153448.0...       en  \n1       http://images.amazon.com/images/P/0801319536.0...       en  \n2       http://images.amazon.com/images/P/0002005018.0...       it  \n3       http://images.amazon.com/images/P/0060973129.0...       en  \n4       http://images.amazon.com/images/P/0393045218.0...       en  \n...                                                   ...      ...  \n202411  http://images.amazon.com/images/P/1845170423.0...       en  \n202412  http://images.amazon.com/images/P/014002803X.0...       en  \n202413  http://images.amazon.com/images/P/0449906736.0...       en  \n202414  http://images.amazon.com/images/P/0525447644.0...       en  \n202415  http://images.amazon.com/images/P/006008667X.0...       en  \n\n[202416 rows x 9 columns]",
      "text/html": "<div>\n<style scoped>\n    .dataframe tbody tr th:only-of-type {\n        vertical-align: middle;\n    }\n\n    .dataframe tbody tr th {\n        vertical-align: top;\n    }\n\n    .dataframe thead th {\n        text-align: right;\n    }\n</style>\n<table border=\"1\" class=\"dataframe\">\n  <thead>\n    <tr style=\"text-align: right;\">\n      <th></th>\n      <th>ISBN</th>\n      <th>Book-Title</th>\n      <th>Book-Author</th>\n      <th>Year-Of-Publication</th>\n      <th>Publisher</th>\n      <th>Image-URL-S</th>\n      <th>Image-URL-M</th>\n      <th>Image-URL-L</th>\n      <th>Language</th>\n    </tr>\n  </thead>\n  <tbody>\n    <tr>\n      <th>0</th>\n      <td>0195153448</td>\n      <td>Classical Mythology</td>\n      <td>Mark P. O. Morford</td>\n      <td>2002</td>\n      <td>Oxford University Press</td>\n      <td>http://images.amazon.com/images/P/0195153448.0...</td>\n      <td>http://images.amazon.com/images/P/0195153448.0...</td>\n      <td>http://images.amazon.com/images/P/0195153448.0...</td>\n      <td>en</td>\n    </tr>\n    <tr>\n      <th>1</th>\n      <td>0801319536</td>\n      <td>Classical Mythology</td>\n      <td>Mark P. O. Morford</td>\n      <td>1998</td>\n      <td>John Wiley &amp; Sons</td>\n      <td>http://images.amazon.com/images/P/0801319536.0...</td>\n      <td>http://images.amazon.com/images/P/0801319536.0...</td>\n      <td>http://images.amazon.com/images/P/0801319536.0...</td>\n      <td>en</td>\n    </tr>\n    <tr>\n      <th>2</th>\n      <td>0002005018</td>\n      <td>Clara Callan</td>\n      <td>Richard Bruce Wright</td>\n      <td>2001</td>\n      <td>HarperFlamingo Canada</td>\n      <td>http://images.amazon.com/images/P/0002005018.0...</td>\n      <td>http://images.amazon.com/images/P/0002005018.0...</td>\n      <td>http://images.amazon.com/images/P/0002005018.0...</td>\n      <td>it</td>\n    </tr>\n    <tr>\n      <th>3</th>\n      <td>0060973129</td>\n      <td>Decision in Normandy</td>\n      <td>Carlo D'Este</td>\n      <td>1991</td>\n      <td>HarperPerennial</td>\n      <td>http://images.amazon.com/images/P/0060973129.0...</td>\n      <td>http://images.amazon.com/images/P/0060973129.0...</td>\n      <td>http://images.amazon.com/images/P/0060973129.0...</td>\n      <td>en</td>\n    </tr>\n    <tr>\n      <th>4</th>\n      <td>0393045218</td>\n      <td>The Mummies of Urumchi</td>\n      <td>E. J. W. Barber</td>\n      <td>1999</td>\n      <td>W. W. Norton &amp; Company</td>\n      <td>http://images.amazon.com/images/P/0393045218.0...</td>\n      <td>http://images.amazon.com/images/P/0393045218.0...</td>\n      <td>http://images.amazon.com/images/P/0393045218.0...</td>\n      <td>en</td>\n    </tr>\n    <tr>\n      <th>...</th>\n      <td>...</td>\n      <td>...</td>\n      <td>...</td>\n      <td>...</td>\n      <td>...</td>\n      <td>...</td>\n      <td>...</td>\n      <td>...</td>\n      <td>...</td>\n    </tr>\n    <tr>\n      <th>202411</th>\n      <td>1845170423</td>\n      <td>Cocktail Classics</td>\n      <td>David Biggs</td>\n      <td>2004</td>\n      <td>Connaught</td>\n      <td>http://images.amazon.com/images/P/1845170423.0...</td>\n      <td>http://images.amazon.com/images/P/1845170423.0...</td>\n      <td>http://images.amazon.com/images/P/1845170423.0...</td>\n      <td>en</td>\n    </tr>\n    <tr>\n      <th>202412</th>\n      <td>014002803X</td>\n      <td>Anti Death League</td>\n      <td>Kingsley Amis</td>\n      <td>1975</td>\n      <td>Viking Press</td>\n      <td>http://images.amazon.com/images/P/014002803X.0...</td>\n      <td>http://images.amazon.com/images/P/014002803X.0...</td>\n      <td>http://images.amazon.com/images/P/014002803X.0...</td>\n      <td>en</td>\n    </tr>\n    <tr>\n      <th>202413</th>\n      <td>0449906736</td>\n      <td>Flashpoints: Promise and Peril in a New World</td>\n      <td>Robin Wright</td>\n      <td>1993</td>\n      <td>Ballantine Books</td>\n      <td>http://images.amazon.com/images/P/0449906736.0...</td>\n      <td>http://images.amazon.com/images/P/0449906736.0...</td>\n      <td>http://images.amazon.com/images/P/0449906736.0...</td>\n      <td>en</td>\n    </tr>\n    <tr>\n      <th>202414</th>\n      <td>0525447644</td>\n      <td>From One to One Hundred</td>\n      <td>Teri Sloat</td>\n      <td>1991</td>\n      <td>Dutton Books</td>\n      <td>http://images.amazon.com/images/P/0525447644.0...</td>\n      <td>http://images.amazon.com/images/P/0525447644.0...</td>\n      <td>http://images.amazon.com/images/P/0525447644.0...</td>\n      <td>en</td>\n    </tr>\n    <tr>\n      <th>202415</th>\n      <td>006008667X</td>\n      <td>Lily Dale : The True Story of the Town that Ta...</td>\n      <td>Christine Wicker</td>\n      <td>2004</td>\n      <td>HarperSanFrancisco</td>\n      <td>http://images.amazon.com/images/P/006008667X.0...</td>\n      <td>http://images.amazon.com/images/P/006008667X.0...</td>\n      <td>http://images.amazon.com/images/P/006008667X.0...</td>\n      <td>en</td>\n    </tr>\n  </tbody>\n</table>\n<p>202416 rows × 9 columns</p>\n</div>"
     },
     "execution_count": 11,
     "metadata": {},
     "output_type": "execute_result"
    }
   ],
   "source": [
    "books2 = books.merge(unique_books, on=\"Book-Title\")\n",
    "books2"
   ],
   "metadata": {
    "collapsed": false
   }
  },
  {
   "cell_type": "code",
   "execution_count": 12,
   "outputs": [],
   "source": [
    "books2.to_parquet(\"book_languages.parquet.gzip\", compression='gzip')"
   ],
   "metadata": {
    "collapsed": false
   }
  },
  {
   "cell_type": "code",
   "execution_count": 13,
   "outputs": [
    {
     "data": {
      "text/plain": "en    153411\nde     14570\nes      3772\nfr      3719\nnl      2774\nit      2414\naf      2260\ntl      2228\nno      1706\nid      1676\nca      1660\nda      1529\npt      1418\nro      1289\ncy       961\nso       933\nsv       828\net       815\nsw       650\nfi       617\nvi       562\npl       531\ntr       502\nlt       363\nsl       289\nhu       283\nhr       247\nsq       144\nsk       105\ncs        86\nlv        74\nName: Language, dtype: int64"
     },
     "execution_count": 13,
     "metadata": {},
     "output_type": "execute_result"
    }
   ],
   "source": [
    "books2[\"Language\"].value_counts()"
   ],
   "metadata": {
    "collapsed": false
   }
  },
  {
   "cell_type": "code",
   "execution_count": 15,
   "id": "0032b80f",
   "metadata": {
    "id": "0032b80f"
   },
   "outputs": [
    {
     "data": {
      "text/plain": "Text(0.5, 1.0, 'Histograma de distribución de ratings')"
     },
     "execution_count": 15,
     "metadata": {},
     "output_type": "execute_result"
    },
    {
     "data": {
      "text/plain": "<Figure size 720x360 with 1 Axes>",
      "image/png": "[encoded data removed]"
     },
     "metadata": {
      "needs_background": "light"
     },
     "output_type": "display_data"
    }
   ],
   "source": [
    "plt.figure(figsize=(10,5))\n",
    "ratings[\"Book-Rating\"].hist(bins=15, color=\"orange\")\n",
    "plt.title(\"Histograma de distribución de ratings\", fontsize=20)"
   ]
  },
  {
   "cell_type": "code",
   "execution_count": 16,
   "id": "a7768faf",
   "metadata": {
    "id": "a7768faf"
   },
   "outputs": [
    {
     "data": {
      "text/plain": "0     716109\n8     103736\n10     78610\n7      76457\n9      67541\n5      50974\n6      36924\n4       8904\n3       5996\n2       2759\n1       1770\nName: Book-Rating, dtype: int64"
     },
     "execution_count": 16,
     "metadata": {},
     "output_type": "execute_result"
    }
   ],
   "source": [
    "ratings[\"Book-Rating\"].value_counts()"
   ]
  },
  {
   "cell_type": "markdown",
   "id": "157c4f9b",
   "metadata": {
    "id": "157c4f9b"
   },
   "source": [
    "El rating más frecuente es de 0."
   ]
  },
  {
   "cell_type": "code",
   "execution_count": 32,
   "id": "528e54bf",
   "metadata": {
    "id": "528e54bf"
   },
   "outputs": [
    {
     "data": {
      "text/plain": "  User-ID        ISBN  Book-Rating            Book-Title Book-Author  \\\n0  276725  034545104X            0  Flesh Tones: A Novel  M. J. Rose   \n1    2313  034545104X            5  Flesh Tones: A Novel  M. J. Rose   \n2    6543  034545104X            0  Flesh Tones: A Novel  M. J. Rose   \n3    8680  034545104X            5  Flesh Tones: A Novel  M. J. Rose   \n4   10314  034545104X            9  Flesh Tones: A Novel  M. J. Rose   \n5   23768  034545104X            0  Flesh Tones: A Novel  M. J. Rose   \n6   28266  034545104X            0  Flesh Tones: A Novel  M. J. Rose   \n7   28523  034545104X            0  Flesh Tones: A Novel  M. J. Rose   \n8   39002  034545104X            0  Flesh Tones: A Novel  M. J. Rose   \n9   50403  034545104X            9  Flesh Tones: A Novel  M. J. Rose   \n\n   Year-Of-Publication         Publisher  \\\n0                 2002  Ballantine Books   \n1                 2002  Ballantine Books   \n2                 2002  Ballantine Books   \n3                 2002  Ballantine Books   \n4                 2002  Ballantine Books   \n5                 2002  Ballantine Books   \n6                 2002  Ballantine Books   \n7                 2002  Ballantine Books   \n8                 2002  Ballantine Books   \n9                 2002  Ballantine Books   \n\n                                         Image-URL-S  \\\n0  http://images.amazon.com/images/P/034545104X.0...   \n1  http://images.amazon.com/images/P/034545104X.0...   \n2  http://images.amazon.com/images/P/034545104X.0...   \n3  http://images.amazon.com/images/P/034545104X.0...   \n4  http://images.amazon.com/images/P/034545104X.0...   \n5  http://images.amazon.com/images/P/034545104X.0...   \n6  http://images.amazon.com/images/P/034545104X.0...   \n7  http://images.amazon.com/images/P/034545104X.0...   \n8  http://images.amazon.com/images/P/034545104X.0...   \n9  http://images.amazon.com/images/P/034545104X.0...   \n\n                                         Image-URL-M  \\\n0  http://images.amazon.com/images/P/034545104X.0...   \n1  http://images.amazon.com/images/P/034545104X.0...   \n2  http://images.amazon.com/images/P/034545104X.0...   \n3  http://images.amazon.com/images/P/034545104X.0...   \n4  http://images.amazon.com/images/P/034545104X.0...   \n5  http://images.amazon.com/images/P/034545104X.0...   \n6  http://images.amazon.com/images/P/034545104X.0...   \n7  http://images.amazon.com/images/P/034545104X.0...   \n8  http://images.amazon.com/images/P/034545104X.0...   \n9  http://images.amazon.com/images/P/034545104X.0...   \n\n                                         Image-URL-L Language  \\\n0  http://images.amazon.com/images/P/034545104X.0...       en   \n1  http://images.amazon.com/images/P/034545104X.0...       en   \n2  http://images.amazon.com/images/P/034545104X.0...       en   \n3  http://images.amazon.com/images/P/034545104X.0...       en   \n4  http://images.amazon.com/images/P/034545104X.0...       en   \n5  http://images.amazon.com/images/P/034545104X.0...       en   \n6  http://images.amazon.com/images/P/034545104X.0...       en   \n7  http://images.amazon.com/images/P/034545104X.0...       en   \n8  http://images.amazon.com/images/P/034545104X.0...       en   \n9  http://images.amazon.com/images/P/034545104X.0...       en   \n\n                            Location   Age  \n0                  tyler, texas, usa   NaN  \n1              cincinnati, ohio, usa  23.0  \n2           strafford, missouri, usa  34.0  \n3  st. charles county, missouri, usa   2.0  \n4             beaverton, oregon, usa   NaN  \n5           st. louis, missouri, usa  45.0  \n6              portland, oregon, usa   NaN  \n7         springfield, missouri, usa  24.0  \n8                        san jose, ,   NaN  \n9              conway, arkansas, usa   NaN  ",
      "text/html": "<div>\n<style scoped>\n    .dataframe tbody tr th:only-of-type {\n        vertical-align: middle;\n    }\n\n    .dataframe tbody tr th {\n        vertical-align: top;\n    }\n\n    .dataframe thead th {\n        text-align: right;\n    }\n</style>\n<table border=\"1\" class=\"dataframe\">\n  <thead>\n    <tr style=\"text-align: right;\">\n      <th></th>\n      <th>User-ID</th>\n      <th>ISBN</th>\n      <th>Book-Rating</th>\n      <th>Book-Title</th>\n      <th>Book-Author</th>\n      <th>Year-Of-Publication</th>\n      <th>Publisher</th>\n      <th>Image-URL-S</th>\n      <th>Image-URL-M</th>\n      <th>Image-URL-L</th>\n      <th>Language</th>\n      <th>Location</th>\n      <th>Age</th>\n    </tr>\n  </thead>\n  <tbody>\n    <tr>\n      <th>0</th>\n      <td>276725</td>\n      <td>034545104X</td>\n      <td>0</td>\n      <td>Flesh Tones: A Novel</td>\n      <td>M. J. Rose</td>\n      <td>2002</td>\n      <td>Ballantine Books</td>\n      <td>http://images.amazon.com/images/P/034545104X.0...</td>\n      <td>http://images.amazon.com/images/P/034545104X.0...</td>\n      <td>http://images.amazon.com/images/P/034545104X.0...</td>\n      <td>en</td>\n      <td>tyler, texas, usa</td>\n      <td>NaN</td>\n    </tr>\n    <tr>\n      <th>1</th>\n      <td>2313</td>\n      <td>034545104X</td>\n      <td>5</td>\n      <td>Flesh Tones: A Novel</td>\n      <td>M. J. Rose</td>\n      <td>2002</td>\n      <td>Ballantine Books</td>\n      <td>http://images.amazon.com/images/P/034545104X.0...</td>\n      <td>http://images.amazon.com/images/P/034545104X.0...</td>\n      <td>http://images.amazon.com/images/P/034545104X.0...</td>\n      <td>en</td>\n      <td>cincinnati, ohio, usa</td>\n      <td>23.0</td>\n    </tr>\n    <tr>\n      <th>2</th>\n      <td>6543</td>\n      <td>034545104X</td>\n      <td>0</td>\n      <td>Flesh Tones: A Novel</td>\n      <td>M. J. Rose</td>\n      <td>2002</td>\n      <td>Ballantine Books</td>\n      <td>http://images.amazon.com/images/P/034545104X.0...</td>\n      <td>http://images.amazon.com/images/P/034545104X.0...</td>\n      <td>http://images.amazon.com/images/P/034545104X.0...</td>\n      <td>en</td>\n      <td>strafford, missouri, usa</td>\n      <td>34.0</td>\n    </tr>\n    <tr>\n      <th>3</th>\n      <td>8680</td>\n      <td>034545104X</td>\n      <td>5</td>\n      <td>Flesh Tones: A Novel</td>\n      <td>M. J. Rose</td>\n      <td>2002</td>\n      <td>Ballantine Books</td>\n      <td>http://images.amazon.com/images/P/034545104X.0...</td>\n      <td>http://images.amazon.com/images/P/034545104X.0...</td>\n      <td>http://images.amazon.com/images/P/034545104X.0...</td>\n      <td>en</td>\n      <td>st. charles county, missouri, usa</td>\n      <td>2.0</td>\n    </tr>\n    <tr>\n      <th>4</th>\n      <td>10314</td>\n      <td>034545104X</td>\n      <td>9</td>\n      <td>Flesh Tones: A Novel</td>\n      <td>M. J. Rose</td>\n      <td>2002</td>\n      <td>Ballantine Books</td>\n      <td>http://images.amazon.com/images/P/034545104X.0...</td>\n      <td>http://images.amazon.com/images/P/034545104X.0...</td>\n      <td>http://images.amazon.com/images/P/034545104X.0...</td>\n      <td>en</td>\n      <td>beaverton, oregon, usa</td>\n      <td>NaN</td>\n    </tr>\n    <tr>\n      <th>5</th>\n      <td>23768</td>\n      <td>034545104X</td>\n      <td>0</td>\n      <td>Flesh Tones: A Novel</td>\n      <td>M. J. Rose</td>\n      <td>2002</td>\n      <td>Ballantine Books</td>\n      <td>http://images.amazon.com/images/P/034545104X.0...</td>\n      <td>http://images.amazon.com/images/P/034545104X.0...</td>\n      <td>http://images.amazon.com/images/P/034545104X.0...</td>\n      <td>en</td>\n      <td>st. louis, missouri, usa</td>\n      <td>45.0</td>\n    </tr>\n    <tr>\n      <th>6</th>\n      <td>28266</td>\n      <td>034545104X</td>\n      <td>0</td>\n      <td>Flesh Tones: A Novel</td>\n      <td>M. J. Rose</td>\n      <td>2002</td>\n      <td>Ballantine Books</td>\n      <td>http://images.amazon.com/images/P/034545104X.0...</td>\n      <td>http://images.amazon.com/images/P/034545104X.0...</td>\n      <td>http://images.amazon.com/images/P/034545104X.0...</td>\n      <td>en</td>\n      <td>portland, oregon, usa</td>\n      <td>NaN</td>\n    </tr>\n    <tr>\n      <th>7</th>\n      <td>28523</td>\n      <td>034545104X</td>\n      <td>0</td>\n      <td>Flesh Tones: A Novel</td>\n      <td>M. J. Rose</td>\n      <td>2002</td>\n      <td>Ballantine Books</td>\n      <td>http://images.amazon.com/images/P/034545104X.0...</td>\n      <td>http://images.amazon.com/images/P/034545104X.0...</td>\n      <td>http://images.amazon.com/images/P/034545104X.0...</td>\n      <td>en</td>\n      <td>springfield, missouri, usa</td>\n      <td>24.0</td>\n    </tr>\n    <tr>\n      <th>8</th>\n      <td>39002</td>\n      <td>034545104X</td>\n      <td>0</td>\n      <td>Flesh Tones: A Novel</td>\n      <td>M. J. Rose</td>\n      <td>2002</td>\n      <td>Ballantine Books</td>\n      <td>http://images.amazon.com/images/P/034545104X.0...</td>\n      <td>http://images.amazon.com/images/P/034545104X.0...</td>\n      <td>http://images.amazon.com/images/P/034545104X.0...</td>\n      <td>en</td>\n      <td>san jose, ,</td>\n      <td>NaN</td>\n    </tr>\n    <tr>\n      <th>9</th>\n      <td>50403</td>\n      <td>034545104X</td>\n      <td>9</td>\n      <td>Flesh Tones: A Novel</td>\n      <td>M. J. Rose</td>\n      <td>2002</td>\n      <td>Ballantine Books</td>\n      <td>http://images.amazon.com/images/P/034545104X.0...</td>\n      <td>http://images.amazon.com/images/P/034545104X.0...</td>\n      <td>http://images.amazon.com/images/P/034545104X.0...</td>\n      <td>en</td>\n      <td>conway, arkansas, usa</td>\n      <td>NaN</td>\n    </tr>\n  </tbody>\n</table>\n</div>"
     },
     "execution_count": 32,
     "metadata": {},
     "output_type": "execute_result"
    }
   ],
   "source": [
    "# Unión de los 3 dataframes\n",
    "data = ratings.merge(books2, on=[\"ISBN\"], how=\"inner\")\n",
    "data = data.merge(users, on=[\"User-ID\"], how=\"left\")\n",
    "data.head(10)"
   ]
  },
  {
   "cell_type": "code",
   "execution_count": 33,
   "id": "ea477d2d",
   "metadata": {
    "id": "ea477d2d"
   },
   "outputs": [
    {
     "data": {
      "text/plain": "(809765, 13)"
     },
     "execution_count": 33,
     "metadata": {},
     "output_type": "execute_result"
    }
   ],
   "source": [
    "data.shape"
   ]
  },
  {
   "cell_type": "code",
   "execution_count": 34,
   "outputs": [
    {
     "data": {
      "text/plain": "User-ID                     0\nISBN                        0\nBook-Rating                 0\nBook-Title                  0\nBook-Author                 1\nYear-Of-Publication         0\nPublisher                   2\nImage-URL-S                 0\nImage-URL-M                 0\nImage-URL-L                 0\nLanguage                    0\nLocation                    0\nAge                    221625\ndtype: int64"
     },
     "execution_count": 34,
     "metadata": {},
     "output_type": "execute_result"
    }
   ],
   "source": [
    "data.isna().sum()"
   ],
   "metadata": {
    "collapsed": false
   }
  },
  {
   "cell_type": "code",
   "execution_count": 19,
   "id": "5a532560",
   "metadata": {
    "id": "5a532560"
   },
   "outputs": [
    {
     "data": {
      "text/plain": "(105283, 340556)"
     },
     "execution_count": 19,
     "metadata": {},
     "output_type": "execute_result"
    }
   ],
   "source": [
    "len(data[\"User-ID\"].unique()), len(data[\"ISBN\"].unique())"
   ]
  },
  {
   "cell_type": "markdown",
   "id": "339e339e",
   "metadata": {
    "id": "339e339e"
   },
   "source": [
    "En total hay 105,283 usuarios y 340,556 libros."
   ]
  },
  {
   "cell_type": "code",
   "execution_count": 35,
   "outputs": [
    {
     "data": {
      "text/plain": "User-ID                 object\nISBN                    object\nBook-Rating              int64\nBook-Title              object\nBook-Author             object\nYear-Of-Publication      int64\nPublisher               object\nImage-URL-S             object\nImage-URL-M             object\nImage-URL-L             object\nLanguage                object\nLocation                object\nAge                    float64\ndtype: object"
     },
     "execution_count": 35,
     "metadata": {},
     "output_type": "execute_result"
    }
   ],
   "source": [
    "data.dtypes"
   ],
   "metadata": {
    "collapsed": false
   }
  },
  {
   "cell_type": "markdown",
   "id": "3d7ee901",
   "metadata": {
    "id": "3d7ee901"
   },
   "source": [
    "Tenemos 9 variables de tipo objeto, y 3 variables numéricas."
   ]
  },
  {
   "cell_type": "code",
   "execution_count": 36,
   "id": "a1face60",
   "metadata": {
    "id": "a1face60"
   },
   "outputs": [
    {
     "data": {
      "text/plain": "         Book-Rating  Year-Of-Publication            Age\ncount  809765.000000        809765.000000  588140.000000\nmean        2.846502          1962.810408      37.655179\nstd         3.851837           252.371774      14.149057\nmin         0.000000             0.000000       0.000000\n25%         0.000000          1991.000000      28.000000\n50%         0.000000          1997.000000      35.000000\n75%         7.000000          2001.000000      46.000000\nmax        10.000000          2050.000000     244.000000",
      "text/html": "<div>\n<style scoped>\n    .dataframe tbody tr th:only-of-type {\n        vertical-align: middle;\n    }\n\n    .dataframe tbody tr th {\n        vertical-align: top;\n    }\n\n    .dataframe thead th {\n        text-align: right;\n    }\n</style>\n<table border=\"1\" class=\"dataframe\">\n  <thead>\n    <tr style=\"text-align: right;\">\n      <th></th>\n      <th>Book-Rating</th>\n      <th>Year-Of-Publication</th>\n      <th>Age</th>\n    </tr>\n  </thead>\n  <tbody>\n    <tr>\n      <th>count</th>\n      <td>809765.000000</td>\n      <td>809765.000000</td>\n      <td>588140.000000</td>\n    </tr>\n    <tr>\n      <th>mean</th>\n      <td>2.846502</td>\n      <td>1962.810408</td>\n      <td>37.655179</td>\n    </tr>\n    <tr>\n      <th>std</th>\n      <td>3.851837</td>\n      <td>252.371774</td>\n      <td>14.149057</td>\n    </tr>\n    <tr>\n      <th>min</th>\n      <td>0.000000</td>\n      <td>0.000000</td>\n      <td>0.000000</td>\n    </tr>\n    <tr>\n      <th>25%</th>\n      <td>0.000000</td>\n      <td>1991.000000</td>\n      <td>28.000000</td>\n    </tr>\n    <tr>\n      <th>50%</th>\n      <td>0.000000</td>\n      <td>1997.000000</td>\n      <td>35.000000</td>\n    </tr>\n    <tr>\n      <th>75%</th>\n      <td>7.000000</td>\n      <td>2001.000000</td>\n      <td>46.000000</td>\n    </tr>\n    <tr>\n      <th>max</th>\n      <td>10.000000</td>\n      <td>2050.000000</td>\n      <td>244.000000</td>\n    </tr>\n  </tbody>\n</table>\n</div>"
     },
     "execution_count": 36,
     "metadata": {},
     "output_type": "execute_result"
    }
   ],
   "source": [
    "data.describe()"
   ]
  },
  {
   "cell_type": "markdown",
   "id": "e5abc98d",
   "metadata": {
    "id": "e5abc98d"
   },
   "source": [
    "#### Age"
   ]
  },
  {
   "cell_type": "code",
   "execution_count": 37,
   "id": "ea25ecef",
   "metadata": {
    "id": "ea25ecef"
   },
   "outputs": [
    {
     "data": {
      "text/plain": "       User-ID        ISBN  Book-Rating  \\\n188      13273  038550120X            0   \n590     226616  0449006522            0   \n639      52472  0553561618            8   \n778      52472  055356451X            0   \n1003     13273  0451192001            0   \n...        ...         ...          ...   \n806780  267830  0929398866            8   \n806781  267830  0931722179           10   \n806782  267830  0965870707            8   \n806783  267830  1559345233            8   \n809592  276048  0139531831            0   \n\n                                               Book-Title  \\\n188                                       A Painted House   \n590                                   Manhattan Hunt Club   \n639                                         Dark Paradise   \n778                                            Night Sins   \n1003                       How Stella Got Her Groove Back   \n...                                                   ...   \n806780  The Viewpoints of Stanley Marcus: A Ten-Year P...   \n806781                                      Nekkid cowboy   \n806782  Threadbear: A Story of Christian Healing for A...   \n806783  Frauds, Myths, and Mysteries: Science and Pseu...   \n809592    PC Power Secrets: How to Make Any PC Run Faster   \n\n                 Book-Author  Year-Of-Publication  \\\n188             JOHN GRISHAM                 2001   \n590                JOHN SAUL                 2002   \n639                TAMI HOAG                 1994   \n778                TAMI HOAG                 1995   \n1003          Terry McMillan                 1997   \n...                      ...                  ...   \n806780        Stanley Marcus                 1995   \n806781          Katie Breeze                 1982   \n806782         Tilda Norberg                 1997   \n806783      Kenneth L. Feder                 1996   \n809592  Stephen J. Dougherty                 1992   \n\n                              Publisher  \\\n188                           Doubleday   \n590                    Ballantine Books   \n639                              Bantam   \n778                              Bantam   \n1003                        Signet Book   \n...                                 ...   \n806780  University of North Texas Press   \n806781                   Corona Pub. Co   \n806782                  Penn Haus Press   \n806783          McGraw Hill College Div   \n809592                        M&T Press   \n\n                                              Image-URL-S  \\\n188     http://images.amazon.com/images/P/038550120X.0...   \n590     http://images.amazon.com/images/P/0449006522.0...   \n639     http://images.amazon.com/images/P/0553561618.0...   \n778     http://images.amazon.com/images/P/055356451X.0...   \n1003    http://images.amazon.com/images/P/0451192001.0...   \n...                                                   ...   \n806780  http://images.amazon.com/images/P/0929398866.0...   \n806781  http://images.amazon.com/images/P/0931722179.0...   \n806782  http://images.amazon.com/images/P/0965870707.0...   \n806783  http://images.amazon.com/images/P/1559345233.0...   \n809592  http://images.amazon.com/images/P/0139531831.0...   \n\n                                              Image-URL-M  \\\n188     http://images.amazon.com/images/P/038550120X.0...   \n590     http://images.amazon.com/images/P/0449006522.0...   \n639     http://images.amazon.com/images/P/0553561618.0...   \n778     http://images.amazon.com/images/P/055356451X.0...   \n1003    http://images.amazon.com/images/P/0451192001.0...   \n...                                                   ...   \n806780  http://images.amazon.com/images/P/0929398866.0...   \n806781  http://images.amazon.com/images/P/0931722179.0...   \n806782  http://images.amazon.com/images/P/0965870707.0...   \n806783  http://images.amazon.com/images/P/1559345233.0...   \n809592  http://images.amazon.com/images/P/0139531831.0...   \n\n                                              Image-URL-L Language  \\\n188     http://images.amazon.com/images/P/038550120X.0...       en   \n590     http://images.amazon.com/images/P/0449006522.0...       en   \n639     http://images.amazon.com/images/P/0553561618.0...       id   \n778     http://images.amazon.com/images/P/055356451X.0...       de   \n1003    http://images.amazon.com/images/P/0451192001.0...       en   \n...                                                   ...      ...   \n806780  http://images.amazon.com/images/P/0929398866.0...       en   \n806781  http://images.amazon.com/images/P/0931722179.0...       pl   \n806782  http://images.amazon.com/images/P/0965870707.0...       en   \n806783  http://images.amazon.com/images/P/1559345233.0...       en   \n809592  http://images.amazon.com/images/P/0139531831.0...       en   \n\n                             Location    Age  \n188     harrisburg, pennsylvania, usa  201.0  \n590              tucson, arizona, usa  204.0  \n639         frisco/dallas, texas, usa  209.0  \n778         frisco/dallas, texas, usa  209.0  \n1003    harrisburg, pennsylvania, usa  201.0  \n...                               ...    ...  \n806780         fort worth, texas, usa  101.0  \n806781         fort worth, texas, usa  101.0  \n806782         fort worth, texas, usa  101.0  \n806783         fort worth, texas, usa  101.0  \n809592            wien, wien, austria  127.0  \n\n[2397 rows x 13 columns]",
      "text/html": "<div>\n<style scoped>\n    .dataframe tbody tr th:only-of-type {\n        vertical-align: middle;\n    }\n\n    .dataframe tbody tr th {\n        vertical-align: top;\n    }\n\n    .dataframe thead th {\n        text-align: right;\n    }\n</style>\n<table border=\"1\" class=\"dataframe\">\n  <thead>\n    <tr style=\"text-align: right;\">\n      <th></th>\n      <th>User-ID</th>\n      <th>ISBN</th>\n      <th>Book-Rating</th>\n      <th>Book-Title</th>\n      <th>Book-Author</th>\n      <th>Year-Of-Publication</th>\n      <th>Publisher</th>\n      <th>Image-URL-S</th>\n      <th>Image-URL-M</th>\n      <th>Image-URL-L</th>\n      <th>Language</th>\n      <th>Location</th>\n      <th>Age</th>\n    </tr>\n  </thead>\n  <tbody>\n    <tr>\n      <th>188</th>\n      <td>13273</td>\n      <td>038550120X</td>\n      <td>0</td>\n      <td>A Painted House</td>\n      <td>JOHN GRISHAM</td>\n      <td>2001</td>\n      <td>Doubleday</td>\n      <td>http://images.amazon.com/images/P/038550120X.0...</td>\n      <td>http://images.amazon.com/images/P/038550120X.0...</td>\n      <td>http://images.amazon.com/images/P/038550120X.0...</td>\n      <td>en</td>\n      <td>harrisburg, pennsylvania, usa</td>\n      <td>201.0</td>\n    </tr>\n    <tr>\n      <th>590</th>\n      <td>226616</td>\n      <td>0449006522</td>\n      <td>0</td>\n      <td>Manhattan Hunt Club</td>\n      <td>JOHN SAUL</td>\n      <td>2002</td>\n      <td>Ballantine Books</td>\n      <td>http://images.amazon.com/images/P/0449006522.0...</td>\n      <td>http://images.amazon.com/images/P/0449006522.0...</td>\n      <td>http://images.amazon.com/images/P/0449006522.0...</td>\n      <td>en</td>\n      <td>tucson, arizona, usa</td>\n      <td>204.0</td>\n    </tr>\n    <tr>\n      <th>639</th>\n      <td>52472</td>\n      <td>0553561618</td>\n      <td>8</td>\n      <td>Dark Paradise</td>\n      <td>TAMI HOAG</td>\n      <td>1994</td>\n      <td>Bantam</td>\n      <td>http://images.amazon.com/images/P/0553561618.0...</td>\n      <td>http://images.amazon.com/images/P/0553561618.0...</td>\n      <td>http://images.amazon.com/images/P/0553561618.0...</td>\n      <td>id</td>\n      <td>frisco/dallas, texas, usa</td>\n      <td>209.0</td>\n    </tr>\n    <tr>\n      <th>778</th>\n      <td>52472</td>\n      <td>055356451X</td>\n      <td>0</td>\n      <td>Night Sins</td>\n      <td>TAMI HOAG</td>\n      <td>1995</td>\n      <td>Bantam</td>\n      <td>http://images.amazon.com/images/P/055356451X.0...</td>\n      <td>http://images.amazon.com/images/P/055356451X.0...</td>\n      <td>http://images.amazon.com/images/P/055356451X.0...</td>\n      <td>de</td>\n      <td>frisco/dallas, texas, usa</td>\n      <td>209.0</td>\n    </tr>\n    <tr>\n      <th>1003</th>\n      <td>13273</td>\n      <td>0451192001</td>\n      <td>0</td>\n      <td>How Stella Got Her Groove Back</td>\n      <td>Terry McMillan</td>\n      <td>1997</td>\n      <td>Signet Book</td>\n      <td>http://images.amazon.com/images/P/0451192001.0...</td>\n      <td>http://images.amazon.com/images/P/0451192001.0...</td>\n      <td>http://images.amazon.com/images/P/0451192001.0...</td>\n      <td>en</td>\n      <td>harrisburg, pennsylvania, usa</td>\n      <td>201.0</td>\n    </tr>\n    <tr>\n      <th>...</th>\n      <td>...</td>\n      <td>...</td>\n      <td>...</td>\n      <td>...</td>\n      <td>...</td>\n      <td>...</td>\n      <td>...</td>\n      <td>...</td>\n      <td>...</td>\n      <td>...</td>\n      <td>...</td>\n      <td>...</td>\n      <td>...</td>\n    </tr>\n    <tr>\n      <th>806780</th>\n      <td>267830</td>\n      <td>0929398866</td>\n      <td>8</td>\n      <td>The Viewpoints of Stanley Marcus: A Ten-Year P...</td>\n      <td>Stanley Marcus</td>\n      <td>1995</td>\n      <td>University of North Texas Press</td>\n      <td>http://images.amazon.com/images/P/0929398866.0...</td>\n      <td>http://images.amazon.com/images/P/0929398866.0...</td>\n      <td>http://images.amazon.com/images/P/0929398866.0...</td>\n      <td>en</td>\n      <td>fort worth, texas, usa</td>\n      <td>101.0</td>\n    </tr>\n    <tr>\n      <th>806781</th>\n      <td>267830</td>\n      <td>0931722179</td>\n      <td>10</td>\n      <td>Nekkid cowboy</td>\n      <td>Katie Breeze</td>\n      <td>1982</td>\n      <td>Corona Pub. Co</td>\n      <td>http://images.amazon.com/images/P/0931722179.0...</td>\n      <td>http://images.amazon.com/images/P/0931722179.0...</td>\n      <td>http://images.amazon.com/images/P/0931722179.0...</td>\n      <td>pl</td>\n      <td>fort worth, texas, usa</td>\n      <td>101.0</td>\n    </tr>\n    <tr>\n      <th>806782</th>\n      <td>267830</td>\n      <td>0965870707</td>\n      <td>8</td>\n      <td>Threadbear: A Story of Christian Healing for A...</td>\n      <td>Tilda Norberg</td>\n      <td>1997</td>\n      <td>Penn Haus Press</td>\n      <td>http://images.amazon.com/images/P/0965870707.0...</td>\n      <td>http://images.amazon.com/images/P/0965870707.0...</td>\n      <td>http://images.amazon.com/images/P/0965870707.0...</td>\n      <td>en</td>\n      <td>fort worth, texas, usa</td>\n      <td>101.0</td>\n    </tr>\n    <tr>\n      <th>806783</th>\n      <td>267830</td>\n      <td>1559345233</td>\n      <td>8</td>\n      <td>Frauds, Myths, and Mysteries: Science and Pseu...</td>\n      <td>Kenneth L. Feder</td>\n      <td>1996</td>\n      <td>McGraw Hill College Div</td>\n      <td>http://images.amazon.com/images/P/1559345233.0...</td>\n      <td>http://images.amazon.com/images/P/1559345233.0...</td>\n      <td>http://images.amazon.com/images/P/1559345233.0...</td>\n      <td>en</td>\n      <td>fort worth, texas, usa</td>\n      <td>101.0</td>\n    </tr>\n    <tr>\n      <th>809592</th>\n      <td>276048</td>\n      <td>0139531831</td>\n      <td>0</td>\n      <td>PC Power Secrets: How to Make Any PC Run Faster</td>\n      <td>Stephen J. Dougherty</td>\n      <td>1992</td>\n      <td>M&amp;T Press</td>\n      <td>http://images.amazon.com/images/P/0139531831.0...</td>\n      <td>http://images.amazon.com/images/P/0139531831.0...</td>\n      <td>http://images.amazon.com/images/P/0139531831.0...</td>\n      <td>en</td>\n      <td>wien, wien, austria</td>\n      <td>127.0</td>\n    </tr>\n  </tbody>\n</table>\n<p>2397 rows × 13 columns</p>\n</div>"
     },
     "execution_count": 37,
     "metadata": {},
     "output_type": "execute_result"
    }
   ],
   "source": [
    "data[data[\"Age\"] > 100]"
   ]
  },
  {
   "cell_type": "code",
   "execution_count": 38,
   "id": "d30179d1",
   "metadata": {
    "id": "d30179d1"
   },
   "outputs": [
    {
     "data": {
      "text/plain": "<AxesSubplot:>"
     },
     "execution_count": 38,
     "metadata": {},
     "output_type": "execute_result"
    },
    {
     "data": {
      "text/plain": "<Figure size 432x288 with 1 Axes>",
      "image/png": "[encoded data removed]"
     },
     "metadata": {
      "needs_background": "light"
     },
     "output_type": "display_data"
    }
   ],
   "source": [
    "data[\"Age\"].hist(bins = 50)"
   ]
  },
  {
   "cell_type": "markdown",
   "id": "ddf57174",
   "metadata": {
    "id": "ddf57174"
   },
   "source": [
    "+ La media de ratings es de 2.83, el mínimo es de 0 y el máximo es de 10.\n",
    "+ El promedio de edad de los usuarios es de 37 años. Hay 150 clientes que tienen más de 100 años, donde el máximo es de 244 años. Suponemos que hay muchos errores en esta variable. No la vamos a usar."
   ]
  },
  {
   "cell_type": "code",
   "execution_count": 39,
   "id": "66516100",
   "metadata": {
    "id": "66516100"
   },
   "outputs": [
    {
     "data": {
      "text/plain": "User-ID                     0\nISBN                        0\nBook-Rating                 0\nBook-Title                  0\nBook-Author                 1\nYear-Of-Publication         0\nPublisher                   2\nImage-URL-S                 0\nImage-URL-M                 0\nImage-URL-L                 0\nLanguage                    0\nLocation                    0\nAge                    221625\ndtype: int64"
     },
     "execution_count": 39,
     "metadata": {},
     "output_type": "execute_result"
    }
   ],
   "source": [
    "data.isna().sum()"
   ]
  },
  {
   "cell_type": "markdown",
   "id": "e518bc0e",
   "metadata": {
    "id": "e518bc0e"
   },
   "source": [
    "Después de hacer la unión de los 3 datasets quedan valores nulos en algunos datos sobre los libros y los clientes. Probablemente sea mejor eliminarlos antes de hacer el modelo de sistema de recoemndación, ya que no nos sirve hacer una recomendación de un libro si no sabemos cuál es porque no sabemos cuál es el título."
   ]
  },
  {
   "cell_type": "markdown",
   "id": "45cad74f",
   "metadata": {
    "id": "45cad74f"
   },
   "source": [
    "#### Book title"
   ]
  },
  {
   "cell_type": "code",
   "execution_count": 40,
   "id": "130a54c5",
   "metadata": {
    "id": "130a54c5"
   },
   "outputs": [
    {
     "data": {
      "text/plain": "Book-Title\nThe Da Vinci Code                        160\nThe Lovely Bones: A Novel                148\nTo Kill a Mockingbird                    133\nThe Secret Life of Bees                  112\nThe Notebook                              93\n                                        ... \nJean and Johnny                            1\nJe me souviens de Paris                    1\nJe hais les pigeons                        1\nJazz in the Bittersweet Blues of Life      1\nÂ¡Corre, perro, corre!                     1\nName: Book-Rating, Length: 29521, dtype: int64"
     },
     "execution_count": 40,
     "metadata": {},
     "output_type": "execute_result"
    }
   ],
   "source": [
    "data[data[\"Book-Rating\"] == data[\"Book-Rating\"].max()].groupby(\"Book-Title\")[\"Book-Rating\"].count().sort_values(ascending=False)"
   ]
  },
  {
   "cell_type": "markdown",
   "id": "202df6b9",
   "metadata": {
    "id": "202df6b9"
   },
   "source": [
    "El libro con más ratings de 10 es The Da Vinci Code, tuvo calificación de 10 160 veces. Los siguientes libros mejores calificados son los de Harry Poter, The Lovely Bones, y To Kill a Mockingbird."
   ]
  },
  {
   "cell_type": "code",
   "execution_count": 41,
   "id": "41a69dc4",
   "metadata": {
    "id": "41a69dc4"
   },
   "outputs": [
    {
     "data": {
      "text/plain": "Book-Title\nWild Animus                                                                                                                                                                                                        1921\nThe Lovely Bones: A Novel                                                                                                                                                                                           588\nA Painted House                                                                                                                                                                                                     472\nThe Nanny Diaries: A Novel                                                                                                                                                                                          435\nDivine Secrets of the Ya-Ya Sisterhood: A Novel                                                                                                                                                                     417\n                                                                                                                                                                                                                   ... \nLessons of the Lotus: Practical Spiritual Teachings of a Traveling Buddhist Monk                                                                                                                                      1\nLessons of the Locker Room: The Myth of School Sports                                                                                                                                                                 1\nLessons of the Heart: Four Novellas in Which Modern Teachers Learn About Love                                                                                                                                         1\nLessons of Experience : How Successful Executives Develop on the Job                                                                                                                                                  1\nÂ°Iyunim bi-Megilat Teman: Kehilat TsanÂ°a, ShabtaÂ®ut, mishpahat Â°Iraki, Maharits (Mekorot u-mehkarim / ha-Universitah ha-Â°Ivrit bi-Yerushalayim, ha-Makhon le-heker toldot YisraÂ®el Â°a. sh. B. Ts. Dinur)       1\nName: Book-Rating, Length: 131205, dtype: int64"
     },
     "execution_count": 41,
     "metadata": {},
     "output_type": "execute_result"
    }
   ],
   "source": [
    "data[data[\"Book-Rating\"] == data[\"Book-Rating\"].min()].groupby(\"Book-Title\")[\"Book-Rating\"].count().sort_values(ascending=False)"
   ]
  },
  {
   "cell_type": "markdown",
   "id": "31b7d89c",
   "metadata": {
    "id": "31b7d89c"
   },
   "source": [
    "El libro con peor calificación (de uno) fue Wild Animus, seguido de The Loveley Bones. Curiosamente este libro también es de los mejores calificados, seguramente sucede porque may muchos más datos de este libro que del resto."
   ]
  },
  {
   "cell_type": "markdown",
   "id": "758cfec8",
   "metadata": {
    "id": "758cfec8"
   },
   "source": [
    "#### Author"
   ]
  },
  {
   "cell_type": "code",
   "execution_count": 42,
   "id": "1d69911e",
   "metadata": {
    "id": "1d69911e"
   },
   "outputs": [
    {
     "data": {
      "text/plain": "Agatha Christie             529\nWilliam Shakespeare         455\nStephen King                400\nCharles Dickens             250\nIsaac Asimov                244\n                           ... \nNorma Gabler                  1\nJAMES C. HUMES                1\nSheilah B Bruce               1\nElizabeth M, M.D. Gallup      1\nTeri Sloat                    1\nName: Book-Author, Length: 83339, dtype: int64"
     },
     "execution_count": 42,
     "metadata": {},
     "output_type": "execute_result"
    }
   ],
   "source": [
    "books[\"Book-Author\"].value_counts()"
   ]
  },
  {
   "cell_type": "markdown",
   "id": "6e1fcd37",
   "metadata": {
    "id": "6e1fcd37"
   },
   "source": [
    "Los tres autores más frecuentes son Agatha Christie, William Shakespeare, y Stephen King."
   ]
  },
  {
   "cell_type": "markdown",
   "id": "ec2533ab",
   "metadata": {
    "id": "ec2533ab"
   },
   "source": [
    "#### Location"
   ]
  },
  {
   "cell_type": "code",
   "execution_count": 43,
   "id": "368de8e9",
   "metadata": {
    "id": "368de8e9"
   },
   "outputs": [
    {
     "data": {
      "text/plain": "toronto, ontario, canada         11843\nn/a, n/a, n/a                     8914\nchicago, illinois, usa            7063\nseattle, washington, usa          6886\nolympia, washington, usa          6540\n                                 ...  \npowell river, ,                      1\nsevrier, haute-savoie, france        1\namerica, limburg, netherlands        1\nla crescent, minnesota, usa          1\nstuttgart, \\n/a\\\"., germany\"         1\nName: Location, Length: 20678, dtype: int64"
     },
     "execution_count": 43,
     "metadata": {},
     "output_type": "execute_result"
    }
   ],
   "source": [
    "data[\"Location\"].value_counts()"
   ]
  },
  {
   "cell_type": "markdown",
   "id": "c7cf4a11",
   "metadata": {
    "id": "c7cf4a11"
   },
   "source": [
    "La ubicación más frecuente de los usuarios es Toronto, Canadá."
   ]
  },
  {
   "cell_type": "code",
   "execution_count": 44,
   "id": "e99782cb",
   "metadata": {
    "id": "e99782cb"
   },
   "outputs": [
    {
     "data": {
      "text/plain": "             country  User-ID\n354              usa    52052\n59            canada     7837\n118          germany     4142\n343   united kingdom     3767\n28         australia     2408\n303            spain     2019\n154            italy     1104\n110           france      796\n223      new zealand      610\n214      netherlands      556",
      "text/html": "<div>\n<style scoped>\n    .dataframe tbody tr th:only-of-type {\n        vertical-align: middle;\n    }\n\n    .dataframe tbody tr th {\n        vertical-align: top;\n    }\n\n    .dataframe thead th {\n        text-align: right;\n    }\n</style>\n<table border=\"1\" class=\"dataframe\">\n  <thead>\n    <tr style=\"text-align: right;\">\n      <th></th>\n      <th>country</th>\n      <th>User-ID</th>\n    </tr>\n  </thead>\n  <tbody>\n    <tr>\n      <th>354</th>\n      <td>usa</td>\n      <td>52052</td>\n    </tr>\n    <tr>\n      <th>59</th>\n      <td>canada</td>\n      <td>7837</td>\n    </tr>\n    <tr>\n      <th>118</th>\n      <td>germany</td>\n      <td>4142</td>\n    </tr>\n    <tr>\n      <th>343</th>\n      <td>united kingdom</td>\n      <td>3767</td>\n    </tr>\n    <tr>\n      <th>28</th>\n      <td>australia</td>\n      <td>2408</td>\n    </tr>\n    <tr>\n      <th>303</th>\n      <td>spain</td>\n      <td>2019</td>\n    </tr>\n    <tr>\n      <th>154</th>\n      <td>italy</td>\n      <td>1104</td>\n    </tr>\n    <tr>\n      <th>110</th>\n      <td>france</td>\n      <td>796</td>\n    </tr>\n    <tr>\n      <th>223</th>\n      <td>new zealand</td>\n      <td>610</td>\n    </tr>\n    <tr>\n      <th>214</th>\n      <td>netherlands</td>\n      <td>556</td>\n    </tr>\n  </tbody>\n</table>\n</div>"
     },
     "execution_count": 44,
     "metadata": {},
     "output_type": "execute_result"
    }
   ],
   "source": [
    "# Se separan los datos de la ubicación\n",
    "location = data[\"Location\"].str.split(\",\", expand=True)\n",
    "location.rename(columns={0:\"city\",1:\"state\",2:\"country\"}, inplace=True)\n",
    "\n",
    "# Se une al df original\n",
    "data1 = data.join(location)\n",
    "\n",
    "# Se agrupa por país para contar la cantidad de clientes de cada uno\n",
    "country = data1.drop_duplicates(\"User-ID\").groupby(\"country\")[\"User-ID\"].count().reset_index().sort_values(\"User-ID\", ascending=False)\n",
    "country.drop(0, inplace=True)\n",
    "country.head(10)"
   ]
  },
  {
   "cell_type": "code",
   "execution_count": 45,
   "id": "3a40d315",
   "metadata": {
    "id": "3a40d315"
   },
   "outputs": [
    {
     "data": {
      "application/vnd.plotly.v1+json": {
       "data": [
        {
         "alignmentgroup": "True",
         "hovertemplate": "country=%{x}<br>User-ID=%{y}<extra></extra>",
         "legendgroup": "",
         "marker": {
          "color": "#636efa",
          "pattern": {
           "shape": ""
          }
         },
         "name": "",
         "offsetgroup": "",
         "orientation": "v",
         "showlegend": false,
         "textposition": "auto",
         "x": [
          " usa",
          " canada",
          " germany",
          " united kingdom",
          " australia",
          " spain",
          " italy",
          " france",
          " new zealand",
          " netherlands",
          " switzerland",
          " portugal",
          " austria",
          " malaysia",
          " singapore",
          " sweden",
          " ireland",
          " finland",
          " brazil",
          " belgium"
         ],
         "xaxis": "x",
         "y": [
          52052,
          7837,
          4142,
          3767,
          2408,
          2019,
          1104,
          796,
          610,
          556,
          500,
          387,
          290,
          193,
          149,
          145,
          145,
          137,
          118,
          105
         ],
         "yaxis": "y",
         "type": "bar"
        }
       ],
       "layout": {
        "template": {
         "data": {
          "bar": [
           {
            "error_x": {
             "color": "#f2f5fa"
            },
            "error_y": {
             "color": "#f2f5fa"
            },
            "marker": {
             "line": {
              "color": "rgb(17,17,17)",
              "width": 0.5
             },
             "pattern": {
              "fillmode": "overlay",
              "size": 10,
              "solidity": 0.2
             }
            },
            "type": "bar"
           }
          ],
          "barpolar": [
           {
            "marker": {
             "line": {
              "color": "rgb(17,17,17)",
              "width": 0.5
             },
             "pattern": {
              "fillmode": "overlay",
              "size": 10,
              "solidity": 0.2
             }
            },
            "type": "barpolar"
           }
          ],
          "carpet": [
           {
            "aaxis": {
             "endlinecolor": "#A2B1C6",
             "gridcolor": "#506784",
             "linecolor": "#506784",
             "minorgridcolor": "#506784",
             "startlinecolor": "#A2B1C6"
            },
            "baxis": {
             "endlinecolor": "#A2B1C6",
             "gridcolor": "#506784",
             "linecolor": "#506784",
             "minorgridcolor": "#506784",
             "startlinecolor": "#A2B1C6"
            },
            "type": "carpet"
           }
          ],
          "choropleth": [
           {
            "colorbar": {
             "outlinewidth": 0,
             "ticks": ""
            },
            "type": "choropleth"
           }
          ],
          "contour": [
           {
            "colorbar": {
             "outlinewidth": 0,
             "ticks": ""
            },
            "colorscale": [
             [
              0.0,
              "#0d0887"
             ],
             [
              0.1111111111111111,
              "#46039f"
             ],
             [
              0.2222222222222222,
              "#7201a8"
             ],
             [
              0.3333333333333333,
              "#9c179e"
             ],
             [
              0.4444444444444444,
              "#bd3786"
             ],
             [
              0.5555555555555556,
              "#d8576b"
             ],
             [
              0.6666666666666666,
              "#ed7953"
             ],
             [
              0.7777777777777778,
              "#fb9f3a"
             ],
             [
              0.8888888888888888,
              "#fdca26"
             ],
             [
              1.0,
              "#f0f921"
             ]
            ],
            "type": "contour"
           }
          ],
          "contourcarpet": [
           {
            "colorbar": {
             "outlinewidth": 0,
             "ticks": ""
            },
            "type": "contourcarpet"
           }
          ],
          "heatmap": [
           {
            "colorbar": {
             "outlinewidth": 0,
             "ticks": ""
            },
            "colorscale": [
             [
              0.0,
              "#0d0887"
             ],
             [
              0.1111111111111111,
              "#46039f"
             ],
             [
              0.2222222222222222,
              "#7201a8"
             ],
             [
              0.3333333333333333,
              "#9c179e"
             ],
             [
              0.4444444444444444,
              "#bd3786"
             ],
             [
              0.5555555555555556,
              "#d8576b"
             ],
             [
              0.6666666666666666,
              "#ed7953"
             ],
             [
              0.7777777777777778,
              "#fb9f3a"
             ],
             [
              0.8888888888888888,
              "#fdca26"
             ],
             [
              1.0,
              "#f0f921"
             ]
            ],
            "type": "heatmap"
           }
          ],
          "heatmapgl": [
           {
            "colorbar": {
             "outlinewidth": 0,
             "ticks": ""
            },
            "colorscale": [
             [
              0.0,
              "#0d0887"
             ],
             [
              0.1111111111111111,
              "#46039f"
             ],
             [
              0.2222222222222222,
              "#7201a8"
             ],
             [
              0.3333333333333333,
              "#9c179e"
             ],
             [
              0.4444444444444444,
              "#bd3786"
             ],
             [
              0.5555555555555556,
              "#d8576b"
             ],
             [
              0.6666666666666666,
              "#ed7953"
             ],
             [
              0.7777777777777778,
              "#fb9f3a"
             ],
             [
              0.8888888888888888,
              "#fdca26"
             ],
             [
              1.0,
              "#f0f921"
             ]
            ],
            "type": "heatmapgl"
           }
          ],
          "histogram": [
           {
            "marker": {
             "pattern": {
              "fillmode": "overlay",
              "size": 10,
              "solidity": 0.2
             }
            },
            "type": "histogram"
           }
          ],
          "histogram2d": [
           {
            "colorbar": {
             "outlinewidth": 0,
             "ticks": ""
            },
            "colorscale": [
             [
              0.0,
              "#0d0887"
             ],
             [
              0.1111111111111111,
              "#46039f"
             ],
             [
              0.2222222222222222,
              "#7201a8"
             ],
             [
              0.3333333333333333,
              "#9c179e"
             ],
             [
              0.4444444444444444,
              "#bd3786"
             ],
             [
              0.5555555555555556,
              "#d8576b"
             ],
             [
              0.6666666666666666,
              "#ed7953"
             ],
             [
              0.7777777777777778,
              "#fb9f3a"
             ],
             [
              0.8888888888888888,
              "#fdca26"
             ],
             [
              1.0,
              "#f0f921"
             ]
            ],
            "type": "histogram2d"
           }
          ],
          "histogram2dcontour": [
           {
            "colorbar": {
             "outlinewidth": 0,
             "ticks": ""
            },
            "colorscale": [
             [
              0.0,
              "#0d0887"
             ],
             [
              0.1111111111111111,
              "#46039f"
             ],
             [
              0.2222222222222222,
              "#7201a8"
             ],
             [
              0.3333333333333333,
              "#9c179e"
             ],
             [
              0.4444444444444444,
              "#bd3786"
             ],
             [
              0.5555555555555556,
              "#d8576b"
             ],
             [
              0.6666666666666666,
              "#ed7953"
             ],
             [
              0.7777777777777778,
              "#fb9f3a"
             ],
             [
              0.8888888888888888,
              "#fdca26"
             ],
             [
              1.0,
              "#f0f921"
             ]
            ],
            "type": "histogram2dcontour"
           }
          ],
          "mesh3d": [
           {
            "colorbar": {
             "outlinewidth": 0,
             "ticks": ""
            },
            "type": "mesh3d"
           }
          ],
          "parcoords": [
           {
            "line": {
             "colorbar": {
              "outlinewidth": 0,
              "ticks": ""
             }
            },
            "type": "parcoords"
           }
          ],
          "pie": [
           {
            "automargin": true,
            "type": "pie"
           }
          ],
          "scatter": [
           {
            "marker": {
             "line": {
              "color": "#283442"
             }
            },
            "type": "scatter"
           }
          ],
          "scatter3d": [
           {
            "line": {
             "colorbar": {
              "outlinewidth": 0,
              "ticks": ""
             }
            },
            "marker": {
             "colorbar": {
              "outlinewidth": 0,
              "ticks": ""
             }
            },
            "type": "scatter3d"
           }
          ],
          "scattercarpet": [
           {
            "marker": {
             "colorbar": {
              "outlinewidth": 0,
              "ticks": ""
             }
            },
            "type": "scattercarpet"
           }
          ],
          "scattergeo": [
           {
            "marker": {
             "colorbar": {
              "outlinewidth": 0,
              "ticks": ""
             }
            },
            "type": "scattergeo"
           }
          ],
          "scattergl": [
           {
            "marker": {
             "line": {
              "color": "#283442"
             }
            },
            "type": "scattergl"
           }
          ],
          "scattermapbox": [
           {
            "marker": {
             "colorbar": {
              "outlinewidth": 0,
              "ticks": ""
             }
            },
            "type": "scattermapbox"
           }
          ],
          "scatterpolar": [
           {
            "marker": {
             "colorbar": {
              "outlinewidth": 0,
              "ticks": ""
             }
            },
            "type": "scatterpolar"
           }
          ],
          "scatterpolargl": [
           {
            "marker": {
             "colorbar": {
              "outlinewidth": 0,
              "ticks": ""
             }
            },
            "type": "scatterpolargl"
           }
          ],
          "scatterternary": [
           {
            "marker": {
             "colorbar": {
              "outlinewidth": 0,
              "ticks": ""
             }
            },
            "type": "scatterternary"
           }
          ],
          "surface": [
           {
            "colorbar": {
             "outlinewidth": 0,
             "ticks": ""
            },
            "colorscale": [
             [
              0.0,
              "#0d0887"
             ],
             [
              0.1111111111111111,
              "#46039f"
             ],
             [
              0.2222222222222222,
              "#7201a8"
             ],
             [
              0.3333333333333333,
              "#9c179e"
             ],
             [
              0.4444444444444444,
              "#bd3786"
             ],
             [
              0.5555555555555556,
              "#d8576b"
             ],
             [
              0.6666666666666666,
              "#ed7953"
             ],
             [
              0.7777777777777778,
              "#fb9f3a"
             ],
             [
              0.8888888888888888,
              "#fdca26"
             ],
             [
              1.0,
              "#f0f921"
             ]
            ],
            "type": "surface"
           }
          ],
          "table": [
           {
            "cells": {
             "fill": {
              "color": "#506784"
             },
             "line": {
              "color": "rgb(17,17,17)"
             }
            },
            "header": {
             "fill": {
              "color": "#2a3f5f"
             },
             "line": {
              "color": "rgb(17,17,17)"
             }
            },
            "type": "table"
           }
          ]
         },
         "layout": {
          "annotationdefaults": {
           "arrowcolor": "#f2f5fa",
           "arrowhead": 0,
           "arrowwidth": 1
          },
          "autotypenumbers": "strict",
          "coloraxis": {
           "colorbar": {
            "outlinewidth": 0,
            "ticks": ""
           }
          },
          "colorscale": {
           "diverging": [
            [
             0,
             "#8e0152"
            ],
            [
             0.1,
             "#c51b7d"
            ],
            [
             0.2,
             "#de77ae"
            ],
            [
             0.3,
             "#f1b6da"
            ],
            [
             0.4,
             "#fde0ef"
            ],
            [
             0.5,
             "#f7f7f7"
            ],
            [
             0.6,
             "#e6f5d0"
            ],
            [
             0.7,
             "#b8e186"
            ],
            [
             0.8,
             "#7fbc41"
            ],
            [
             0.9,
             "#4d9221"
            ],
            [
             1,
             "#276419"
            ]
           ],
           "sequential": [
            [
             0.0,
             "#0d0887"
            ],
            [
             0.1111111111111111,
             "#46039f"
            ],
            [
             0.2222222222222222,
             "#7201a8"
            ],
            [
             0.3333333333333333,
             "#9c179e"
            ],
            [
             0.4444444444444444,
             "#bd3786"
            ],
            [
             0.5555555555555556,
             "#d8576b"
            ],
            [
             0.6666666666666666,
             "#ed7953"
            ],
            [
             0.7777777777777778,
             "#fb9f3a"
            ],
            [
             0.8888888888888888,
             "#fdca26"
            ],
            [
             1.0,
             "#f0f921"
            ]
           ],
           "sequentialminus": [
            [
             0.0,
             "#0d0887"
            ],
            [
             0.1111111111111111,
             "#46039f"
            ],
            [
             0.2222222222222222,
             "#7201a8"
            ],
            [
             0.3333333333333333,
             "#9c179e"
            ],
            [
             0.4444444444444444,
             "#bd3786"
            ],
            [
             0.5555555555555556,
             "#d8576b"
            ],
            [
             0.6666666666666666,
             "#ed7953"
            ],
            [
             0.7777777777777778,
             "#fb9f3a"
            ],
            [
             0.8888888888888888,
             "#fdca26"
            ],
            [
             1.0,
             "#f0f921"
            ]
           ]
          },
          "colorway": [
           "#636efa",
           "#EF553B",
           "#00cc96",
           "#ab63fa",
           "#FFA15A",
           "#19d3f3",
           "#FF6692",
           "#B6E880",
           "#FF97FF",
           "#FECB52"
          ],
          "font": {
           "color": "#f2f5fa"
          },
          "geo": {
           "bgcolor": "rgb(17,17,17)",
           "lakecolor": "rgb(17,17,17)",
           "landcolor": "rgb(17,17,17)",
           "showlakes": true,
           "showland": true,
           "subunitcolor": "#506784"
          },
          "hoverlabel": {
           "align": "left"
          },
          "hovermode": "closest",
          "mapbox": {
           "style": "dark"
          },
          "paper_bgcolor": "rgb(17,17,17)",
          "plot_bgcolor": "rgb(17,17,17)",
          "polar": {
           "angularaxis": {
            "gridcolor": "#506784",
            "linecolor": "#506784",
            "ticks": ""
           },
           "bgcolor": "rgb(17,17,17)",
           "radialaxis": {
            "gridcolor": "#506784",
            "linecolor": "#506784",
            "ticks": ""
           }
          },
          "scene": {
           "xaxis": {
            "backgroundcolor": "rgb(17,17,17)",
            "gridcolor": "#506784",
            "gridwidth": 2,
            "linecolor": "#506784",
            "showbackground": true,
            "ticks": "",
            "zerolinecolor": "#C8D4E3"
           },
           "yaxis": {
            "backgroundcolor": "rgb(17,17,17)",
            "gridcolor": "#506784",
            "gridwidth": 2,
            "linecolor": "#506784",
            "showbackground": true,
            "ticks": "",
            "zerolinecolor": "#C8D4E3"
           },
           "zaxis": {
            "backgroundcolor": "rgb(17,17,17)",
            "gridcolor": "#506784",
            "gridwidth": 2,
            "linecolor": "#506784",
            "showbackground": true,
            "ticks": "",
            "zerolinecolor": "#C8D4E3"
           }
          },
          "shapedefaults": {
           "line": {
            "color": "#f2f5fa"
           }
          },
          "sliderdefaults": {
           "bgcolor": "#C8D4E3",
           "bordercolor": "rgb(17,17,17)",
           "borderwidth": 1,
           "tickwidth": 0
          },
          "ternary": {
           "aaxis": {
            "gridcolor": "#506784",
            "linecolor": "#506784",
            "ticks": ""
           },
           "baxis": {
            "gridcolor": "#506784",
            "linecolor": "#506784",
            "ticks": ""
           },
           "bgcolor": "rgb(17,17,17)",
           "caxis": {
            "gridcolor": "#506784",
            "linecolor": "#506784",
            "ticks": ""
           }
          },
          "title": {
           "x": 0.05
          },
          "updatemenudefaults": {
           "bgcolor": "#506784",
           "borderwidth": 0
          },
          "xaxis": {
           "automargin": true,
           "gridcolor": "#283442",
           "linecolor": "#506784",
           "ticks": "",
           "title": {
            "standoff": 15
           },
           "zerolinecolor": "#283442",
           "zerolinewidth": 2
          },
          "yaxis": {
           "automargin": true,
           "gridcolor": "#283442",
           "linecolor": "#506784",
           "ticks": "",
           "title": {
            "standoff": 15
           },
           "zerolinecolor": "#283442",
           "zerolinewidth": 2
          }
         }
        },
        "xaxis": {
         "anchor": "y",
         "domain": [
          0.0,
          1.0
         ],
         "title": {
          "text": "country"
         }
        },
        "yaxis": {
         "anchor": "x",
         "domain": [
          0.0,
          1.0
         ],
         "title": {
          "text": "User-ID"
         }
        },
        "legend": {
         "tracegroupgap": 0
        },
        "title": {
         "text": "Cantidad de usuarios por país"
        },
        "barmode": "relative"
       },
       "config": {
        "plotlyServerURL": "https://plot.ly"
       }
      },
      "text/html": "<div>                            <div id=\"0b74a801-5b63-4802-a6a4-4f7d85e11003\" class=\"plotly-graph-div\" style=\"height:525px; width:100%;\"></div>            <script type=\"text/javascript\">                require([\"plotly\"], function(Plotly) {                    window.PLOTLYENV=window.PLOTLYENV || {};                                    if (document.getElementById(\"0b74a801-5b63-4802-a6a4-4f7d85e11003\")) {                    Plotly.newPlot(                        \"0b74a801-5b63-4802-a6a4-4f7d85e11003\",                        [{\"alignmentgroup\":\"True\",\"hovertemplate\":\"country=%{x}<br>User-ID=%{y}<extra></extra>\",\"legendgroup\":\"\",\"marker\":{\"color\":\"#636efa\",\"pattern\":{\"shape\":\"\"}},\"name\":\"\",\"offsetgroup\":\"\",\"orientation\":\"v\",\"showlegend\":false,\"textposition\":\"auto\",\"x\":[\" usa\",\" canada\",\" germany\",\" united kingdom\",\" australia\",\" spain\",\" italy\",\" france\",\" new zealand\",\" netherlands\",\" switzerland\",\" portugal\",\" austria\",\" malaysia\",\" singapore\",\" sweden\",\" ireland\",\" finland\",\" brazil\",\" belgium\"],\"xaxis\":\"x\",\"y\":[52052,7837,4142,3767,2408,2019,1104,796,610,556,500,387,290,193,149,145,145,137,118,105],\"yaxis\":\"y\",\"type\":\"bar\"}],                        {\"template\":{\"data\":{\"bar\":[{\"error_x\":{\"color\":\"#f2f5fa\"},\"error_y\":{\"color\":\"#f2f5fa\"},\"marker\":{\"line\":{\"color\":\"rgb(17,17,17)\",\"width\":0.5},\"pattern\":{\"fillmode\":\"overlay\",\"size\":10,\"solidity\":0.2}},\"type\":\"bar\"}],\"barpolar\":[{\"marker\":{\"line\":{\"color\":\"rgb(17,17,17)\",\"width\":0.5},\"pattern\":{\"fillmode\":\"overlay\",\"size\":10,\"solidity\":0.2}},\"type\":\"barpolar\"}],\"carpet\":[{\"aaxis\":{\"endlinecolor\":\"#A2B1C6\",\"gridcolor\":\"#506784\",\"linecolor\":\"#506784\",\"minorgridcolor\":\"#506784\",\"startlinecolor\":\"#A2B1C6\"},\"baxis\":{\"endlinecolor\":\"#A2B1C6\",\"gridcolor\":\"#506784\",\"linecolor\":\"#506784\",\"minorgridcolor\":\"#506784\",\"startlinecolor\":\"#A2B1C6\"},\"type\":\"carpet\"}],\"choropleth\":[{\"colorbar\":{\"outlinewidth\":0,\"ticks\":\"\"},\"type\":\"choropleth\"}],\"contour\":[{\"colorbar\":{\"outlinewidth\":0,\"ticks\":\"\"},\"colorscale\":[[0.0,\"#0d0887\"],[0.1111111111111111,\"#46039f\"],[0.2222222222222222,\"#7201a8\"],[0.3333333333333333,\"#9c179e\"],[0.4444444444444444,\"#bd3786\"],[0.5555555555555556,\"#d8576b\"],[0.6666666666666666,\"#ed7953\"],[0.7777777777777778,\"#fb9f3a\"],[0.8888888888888888,\"#fdca26\"],[1.0,\"#f0f921\"]],\"type\":\"contour\"}],\"contourcarpet\":[{\"colorbar\":{\"outlinewidth\":0,\"ticks\":\"\"},\"type\":\"contourcarpet\"}],\"heatmap\":[{\"colorbar\":{\"outlinewidth\":0,\"ticks\":\"\"},\"colorscale\":[[0.0,\"#0d0887\"],[0.1111111111111111,\"#46039f\"],[0.2222222222222222,\"#7201a8\"],[0.3333333333333333,\"#9c179e\"],[0.4444444444444444,\"#bd3786\"],[0.5555555555555556,\"#d8576b\"],[0.6666666666666666,\"#ed7953\"],[0.7777777777777778,\"#fb9f3a\"],[0.8888888888888888,\"#fdca26\"],[1.0,\"#f0f921\"]],\"type\":\"heatmap\"}],\"heatmapgl\":[{\"colorbar\":{\"outlinewidth\":0,\"ticks\":\"\"},\"colorscale\":[[0.0,\"#0d0887\"],[0.1111111111111111,\"#46039f\"],[0.2222222222222222,\"#7201a8\"],[0.3333333333333333,\"#9c179e\"],[0.4444444444444444,\"#bd3786\"],[0.5555555555555556,\"#d8576b\"],[0.6666666666666666,\"#ed7953\"],[0.7777777777777778,\"#fb9f3a\"],[0.8888888888888888,\"#fdca26\"],[1.0,\"#f0f921\"]],\"type\":\"heatmapgl\"}],\"histogram\":[{\"marker\":{\"pattern\":{\"fillmode\":\"overlay\",\"size\":10,\"solidity\":0.2}},\"type\":\"histogram\"}],\"histogram2d\":[{\"colorbar\":{\"outlinewidth\":0,\"ticks\":\"\"},\"colorscale\":[[0.0,\"#0d0887\"],[0.1111111111111111,\"#46039f\"],[0.2222222222222222,\"#7201a8\"],[0.3333333333333333,\"#9c179e\"],[0.4444444444444444,\"#bd3786\"],[0.5555555555555556,\"#d8576b\"],[0.6666666666666666,\"#ed7953\"],[0.7777777777777778,\"#fb9f3a\"],[0.8888888888888888,\"#fdca26\"],[1.0,\"#f0f921\"]],\"type\":\"histogram2d\"}],\"histogram2dcontour\":[{\"colorbar\":{\"outlinewidth\":0,\"ticks\":\"\"},\"colorscale\":[[0.0,\"#0d0887\"],[0.1111111111111111,\"#46039f\"],[0.2222222222222222,\"#7201a8\"],[0.3333333333333333,\"#9c179e\"],[0.4444444444444444,\"#bd3786\"],[0.5555555555555556,\"#d8576b\"],[0.6666666666666666,\"#ed7953\"],[0.7777777777777778,\"#fb9f3a\"],[0.8888888888888888,\"#fdca26\"],[1.0,\"#f0f921\"]],\"type\":\"histogram2dcontour\"}],\"mesh3d\":[{\"colorbar\":{\"outlinewidth\":0,\"ticks\":\"\"},\"type\":\"mesh3d\"}],\"parcoords\":[{\"line\":{\"colorbar\":{\"outlinewidth\":0,\"ticks\":\"\"}},\"type\":\"parcoords\"}],\"pie\":[{\"automargin\":true,\"type\":\"pie\"}],\"scatter\":[{\"marker\":{\"line\":{\"color\":\"#283442\"}},\"type\":\"scatter\"}],\"scatter3d\":[{\"line\":{\"colorbar\":{\"outlinewidth\":0,\"ticks\":\"\"}},\"marker\":{\"colorbar\":{\"outlinewidth\":0,\"ticks\":\"\"}},\"type\":\"scatter3d\"}],\"scattercarpet\":[{\"marker\":{\"colorbar\":{\"outlinewidth\":0,\"ticks\":\"\"}},\"type\":\"scattercarpet\"}],\"scattergeo\":[{\"marker\":{\"colorbar\":{\"outlinewidth\":0,\"ticks\":\"\"}},\"type\":\"scattergeo\"}],\"scattergl\":[{\"marker\":{\"line\":{\"color\":\"#283442\"}},\"type\":\"scattergl\"}],\"scattermapbox\":[{\"marker\":{\"colorbar\":{\"outlinewidth\":0,\"ticks\":\"\"}},\"type\":\"scattermapbox\"}],\"scatterpolar\":[{\"marker\":{\"colorbar\":{\"outlinewidth\":0,\"ticks\":\"\"}},\"type\":\"scatterpolar\"}],\"scatterpolargl\":[{\"marker\":{\"colorbar\":{\"outlinewidth\":0,\"ticks\":\"\"}},\"type\":\"scatterpolargl\"}],\"scatterternary\":[{\"marker\":{\"colorbar\":{\"outlinewidth\":0,\"ticks\":\"\"}},\"type\":\"scatterternary\"}],\"surface\":[{\"colorbar\":{\"outlinewidth\":0,\"ticks\":\"\"},\"colorscale\":[[0.0,\"#0d0887\"],[0.1111111111111111,\"#46039f\"],[0.2222222222222222,\"#7201a8\"],[0.3333333333333333,\"#9c179e\"],[0.4444444444444444,\"#bd3786\"],[0.5555555555555556,\"#d8576b\"],[0.6666666666666666,\"#ed7953\"],[0.7777777777777778,\"#fb9f3a\"],[0.8888888888888888,\"#fdca26\"],[1.0,\"#f0f921\"]],\"type\":\"surface\"}],\"table\":[{\"cells\":{\"fill\":{\"color\":\"#506784\"},\"line\":{\"color\":\"rgb(17,17,17)\"}},\"header\":{\"fill\":{\"color\":\"#2a3f5f\"},\"line\":{\"color\":\"rgb(17,17,17)\"}},\"type\":\"table\"}]},\"layout\":{\"annotationdefaults\":{\"arrowcolor\":\"#f2f5fa\",\"arrowhead\":0,\"arrowwidth\":1},\"autotypenumbers\":\"strict\",\"coloraxis\":{\"colorbar\":{\"outlinewidth\":0,\"ticks\":\"\"}},\"colorscale\":{\"diverging\":[[0,\"#8e0152\"],[0.1,\"#c51b7d\"],[0.2,\"#de77ae\"],[0.3,\"#f1b6da\"],[0.4,\"#fde0ef\"],[0.5,\"#f7f7f7\"],[0.6,\"#e6f5d0\"],[0.7,\"#b8e186\"],[0.8,\"#7fbc41\"],[0.9,\"#4d9221\"],[1,\"#276419\"]],\"sequential\":[[0.0,\"#0d0887\"],[0.1111111111111111,\"#46039f\"],[0.2222222222222222,\"#7201a8\"],[0.3333333333333333,\"#9c179e\"],[0.4444444444444444,\"#bd3786\"],[0.5555555555555556,\"#d8576b\"],[0.6666666666666666,\"#ed7953\"],[0.7777777777777778,\"#fb9f3a\"],[0.8888888888888888,\"#fdca26\"],[1.0,\"#f0f921\"]],\"sequentialminus\":[[0.0,\"#0d0887\"],[0.1111111111111111,\"#46039f\"],[0.2222222222222222,\"#7201a8\"],[0.3333333333333333,\"#9c179e\"],[0.4444444444444444,\"#bd3786\"],[0.5555555555555556,\"#d8576b\"],[0.6666666666666666,\"#ed7953\"],[0.7777777777777778,\"#fb9f3a\"],[0.8888888888888888,\"#fdca26\"],[1.0,\"#f0f921\"]]},\"colorway\":[\"#636efa\",\"#EF553B\",\"#00cc96\",\"#ab63fa\",\"#FFA15A\",\"#19d3f3\",\"#FF6692\",\"#B6E880\",\"#FF97FF\",\"#FECB52\"],\"font\":{\"color\":\"#f2f5fa\"},\"geo\":{\"bgcolor\":\"rgb(17,17,17)\",\"lakecolor\":\"rgb(17,17,17)\",\"landcolor\":\"rgb(17,17,17)\",\"showlakes\":true,\"showland\":true,\"subunitcolor\":\"#506784\"},\"hoverlabel\":{\"align\":\"left\"},\"hovermode\":\"closest\",\"mapbox\":{\"style\":\"dark\"},\"paper_bgcolor\":\"rgb(17,17,17)\",\"plot_bgcolor\":\"rgb(17,17,17)\",\"polar\":{\"angularaxis\":{\"gridcolor\":\"#506784\",\"linecolor\":\"#506784\",\"ticks\":\"\"},\"bgcolor\":\"rgb(17,17,17)\",\"radialaxis\":{\"gridcolor\":\"#506784\",\"linecolor\":\"#506784\",\"ticks\":\"\"}},\"scene\":{\"xaxis\":{\"backgroundcolor\":\"rgb(17,17,17)\",\"gridcolor\":\"#506784\",\"gridwidth\":2,\"linecolor\":\"#506784\",\"showbackground\":true,\"ticks\":\"\",\"zerolinecolor\":\"#C8D4E3\"},\"yaxis\":{\"backgroundcolor\":\"rgb(17,17,17)\",\"gridcolor\":\"#506784\",\"gridwidth\":2,\"linecolor\":\"#506784\",\"showbackground\":true,\"ticks\":\"\",\"zerolinecolor\":\"#C8D4E3\"},\"zaxis\":{\"backgroundcolor\":\"rgb(17,17,17)\",\"gridcolor\":\"#506784\",\"gridwidth\":2,\"linecolor\":\"#506784\",\"showbackground\":true,\"ticks\":\"\",\"zerolinecolor\":\"#C8D4E3\"}},\"shapedefaults\":{\"line\":{\"color\":\"#f2f5fa\"}},\"sliderdefaults\":{\"bgcolor\":\"#C8D4E3\",\"bordercolor\":\"rgb(17,17,17)\",\"borderwidth\":1,\"tickwidth\":0},\"ternary\":{\"aaxis\":{\"gridcolor\":\"#506784\",\"linecolor\":\"#506784\",\"ticks\":\"\"},\"baxis\":{\"gridcolor\":\"#506784\",\"linecolor\":\"#506784\",\"ticks\":\"\"},\"bgcolor\":\"rgb(17,17,17)\",\"caxis\":{\"gridcolor\":\"#506784\",\"linecolor\":\"#506784\",\"ticks\":\"\"}},\"title\":{\"x\":0.05},\"updatemenudefaults\":{\"bgcolor\":\"#506784\",\"borderwidth\":0},\"xaxis\":{\"automargin\":true,\"gridcolor\":\"#283442\",\"linecolor\":\"#506784\",\"ticks\":\"\",\"title\":{\"standoff\":15},\"zerolinecolor\":\"#283442\",\"zerolinewidth\":2},\"yaxis\":{\"automargin\":true,\"gridcolor\":\"#283442\",\"linecolor\":\"#506784\",\"ticks\":\"\",\"title\":{\"standoff\":15},\"zerolinecolor\":\"#283442\",\"zerolinewidth\":2}}},\"xaxis\":{\"anchor\":\"y\",\"domain\":[0.0,1.0],\"title\":{\"text\":\"country\"}},\"yaxis\":{\"anchor\":\"x\",\"domain\":[0.0,1.0],\"title\":{\"text\":\"User-ID\"}},\"legend\":{\"tracegroupgap\":0},\"title\":{\"text\":\"Cantidad de usuarios por pa\\u00eds\"},\"barmode\":\"relative\"},                        {\"responsive\": true}                    ).then(function(){\n                            \nvar gd = document.getElementById('0b74a801-5b63-4802-a6a4-4f7d85e11003');\nvar x = new MutationObserver(function (mutations, observer) {{\n        var display = window.getComputedStyle(gd).display;\n        if (!display || display === 'none') {{\n            console.log([gd, 'removed!']);\n            Plotly.purge(gd);\n            observer.disconnect();\n        }}\n}});\n\n// Listen for the removal of the full notebook cells\nvar notebookContainer = gd.closest('#notebook-container');\nif (notebookContainer) {{\n    x.observe(notebookContainer, {childList: true});\n}}\n\n// Listen for the clearing of the current output cell\nvar outputEl = gd.closest('.output');\nif (outputEl) {{\n    x.observe(outputEl, {childList: true});\n}}\n\n                        })                };                });            </script>        </div>"
     },
     "metadata": {},
     "output_type": "display_data"
    }
   ],
   "source": [
    "fig = px.bar(country[:20], x='country', y='User-ID', title = \"Cantidad de usuarios por país\")\n",
    "fig.show()"
   ]
  },
  {
   "cell_type": "markdown",
   "id": "034f019b",
   "metadata": {
    "id": "034f019b"
   },
   "source": [
    "La mayoría de los usuarios son de Estados Unidos, Alemania, Reino Unido, Canadá, España, o Austalia."
   ]
  },
  {
   "cell_type": "markdown",
   "id": "2e5a1a56",
   "metadata": {
    "id": "2e5a1a56"
   },
   "source": [
    "#### Year of publication"
   ]
  },
  {
   "cell_type": "code",
   "execution_count": 46,
   "id": "f15dfa2d",
   "metadata": {
    "id": "f15dfa2d"
   },
   "outputs": [
    {
     "data": {
      "text/plain": "     Año de publicación  cantidad de libros\n0                  1376                   1\n1                  1378                   1\n2                  1900                   2\n3                  1901                   7\n4                  1902                   1\n..                  ...                 ...\n104                2024                   1\n105                2030                   6\n106                2037                   1\n107                2038                   1\n108                2050                   1\n\n[109 rows x 2 columns]",
      "text/html": "<div>\n<style scoped>\n    .dataframe tbody tr th:only-of-type {\n        vertical-align: middle;\n    }\n\n    .dataframe tbody tr th {\n        vertical-align: top;\n    }\n\n    .dataframe thead th {\n        text-align: right;\n    }\n</style>\n<table border=\"1\" class=\"dataframe\">\n  <thead>\n    <tr style=\"text-align: right;\">\n      <th></th>\n      <th>Año de publicación</th>\n      <th>cantidad de libros</th>\n    </tr>\n  </thead>\n  <tbody>\n    <tr>\n      <th>0</th>\n      <td>1376</td>\n      <td>1</td>\n    </tr>\n    <tr>\n      <th>1</th>\n      <td>1378</td>\n      <td>1</td>\n    </tr>\n    <tr>\n      <th>2</th>\n      <td>1900</td>\n      <td>2</td>\n    </tr>\n    <tr>\n      <th>3</th>\n      <td>1901</td>\n      <td>7</td>\n    </tr>\n    <tr>\n      <th>4</th>\n      <td>1902</td>\n      <td>1</td>\n    </tr>\n    <tr>\n      <th>...</th>\n      <td>...</td>\n      <td>...</td>\n    </tr>\n    <tr>\n      <th>104</th>\n      <td>2024</td>\n      <td>1</td>\n    </tr>\n    <tr>\n      <th>105</th>\n      <td>2030</td>\n      <td>6</td>\n    </tr>\n    <tr>\n      <th>106</th>\n      <td>2037</td>\n      <td>1</td>\n    </tr>\n    <tr>\n      <th>107</th>\n      <td>2038</td>\n      <td>1</td>\n    </tr>\n    <tr>\n      <th>108</th>\n      <td>2050</td>\n      <td>1</td>\n    </tr>\n  </tbody>\n</table>\n<p>109 rows × 2 columns</p>\n</div>"
     },
     "execution_count": 46,
     "metadata": {},
     "output_type": "execute_result"
    }
   ],
   "source": [
    "books_copy = books[books[\"Year-Of-Publication\"] > 0]\n",
    "books_vc = books_copy[\"Year-Of-Publication\"].value_counts().reset_index().sort_values('index').reset_index(drop=True)\n",
    "books_vc.rename(columns={\"index\":\"Año de publicación\", \"Year-Of-Publication\":\"cantidad de libros\"}, inplace=True)\n",
    "books_vc"
   ]
  },
  {
   "cell_type": "code",
   "execution_count": 47,
   "id": "49bc50a2",
   "metadata": {
    "id": "49bc50a2"
   },
   "outputs": [
    {
     "data": {
      "application/vnd.plotly.v1+json": {
       "data": [
        {
         "alignmentgroup": "True",
         "hovertemplate": "Año de publicación=%{x}<br>cantidad de libros=%{y}<extra></extra>",
         "legendgroup": "",
         "marker": {
          "color": "#636efa",
          "pattern": {
           "shape": ""
          }
         },
         "name": "",
         "offsetgroup": "",
         "orientation": "v",
         "showlegend": false,
         "textposition": "auto",
         "x": [
          1902,
          1906,
          1908,
          1909,
          1910,
          1911,
          1914,
          1919,
          1920,
          1921,
          1922,
          1923,
          1924,
          1925,
          1926,
          1927,
          1928,
          1929,
          1930,
          1931,
          1932,
          1933,
          1934,
          1935,
          1936,
          1937,
          1938,
          1939,
          1940,
          1941,
          1942,
          1943,
          1944,
          1945,
          1946,
          1947,
          1948,
          1949,
          1950,
          1951,
          1952,
          1953,
          1954,
          1955,
          1956,
          1957,
          1958,
          1959,
          1960,
          1961,
          1962,
          1963,
          1964,
          1965,
          1966,
          1967,
          1968,
          1969,
          1970,
          1971,
          1972,
          1973,
          1974,
          1975,
          1976,
          1977,
          1978,
          1979,
          1980,
          1981,
          1982,
          1983,
          1984,
          1985,
          1986,
          1987,
          1988,
          1989,
          1990,
          1991,
          1992,
          1993,
          1994,
          1995,
          1996,
          1997,
          1998,
          1999,
          2000,
          2001,
          2002,
          2003,
          2004,
          2005,
          2006,
          2008,
          2010,
          2011,
          2020,
          2021,
          2024,
          2030,
          2037
         ],
         "xaxis": "x",
         "y": [
          1,
          1,
          1,
          1,
          1,
          18,
          1,
          1,
          29,
          2,
          2,
          11,
          2,
          2,
          1,
          1,
          2,
          6,
          11,
          3,
          4,
          4,
          1,
          1,
          6,
          3,
          7,
          6,
          29,
          9,
          11,
          6,
          3,
          4,
          13,
          12,
          7,
          11,
          31,
          32,
          26,
          58,
          45,
          57,
          64,
          61,
          69,
          89,
          111,
          114,
          101,
          112,
          129,
          139,
          156,
          149,
          200,
          288,
          373,
          446,
          625,
          730,
          820,
          987,
          1282,
          1532,
          1754,
          1805,
          2212,
          2702,
          3490,
          3676,
          3951,
          4034,
          4392,
          4855,
          5639,
          5903,
          6444,
          6985,
          7228,
          7748,
          8551,
          9887,
          10237,
          10705,
          11129,
          12371,
          12450,
          12576,
          12894,
          10775,
          4605,
          38,
          1,
          1,
          2,
          1,
          3,
          1,
          1,
          6,
          1
         ],
         "yaxis": "y",
         "type": "bar"
        }
       ],
       "layout": {
        "template": {
         "data": {
          "bar": [
           {
            "error_x": {
             "color": "#f2f5fa"
            },
            "error_y": {
             "color": "#f2f5fa"
            },
            "marker": {
             "line": {
              "color": "rgb(17,17,17)",
              "width": 0.5
             },
             "pattern": {
              "fillmode": "overlay",
              "size": 10,
              "solidity": 0.2
             }
            },
            "type": "bar"
           }
          ],
          "barpolar": [
           {
            "marker": {
             "line": {
              "color": "rgb(17,17,17)",
              "width": 0.5
             },
             "pattern": {
              "fillmode": "overlay",
              "size": 10,
              "solidity": 0.2
             }
            },
            "type": "barpolar"
           }
          ],
          "carpet": [
           {
            "aaxis": {
             "endlinecolor": "#A2B1C6",
             "gridcolor": "#506784",
             "linecolor": "#506784",
             "minorgridcolor": "#506784",
             "startlinecolor": "#A2B1C6"
            },
            "baxis": {
             "endlinecolor": "#A2B1C6",
             "gridcolor": "#506784",
             "linecolor": "#506784",
             "minorgridcolor": "#506784",
             "startlinecolor": "#A2B1C6"
            },
            "type": "carpet"
           }
          ],
          "choropleth": [
           {
            "colorbar": {
             "outlinewidth": 0,
             "ticks": ""
            },
            "type": "choropleth"
           }
          ],
          "contour": [
           {
            "colorbar": {
             "outlinewidth": 0,
             "ticks": ""
            },
            "colorscale": [
             [
              0.0,
              "#0d0887"
             ],
             [
              0.1111111111111111,
              "#46039f"
             ],
             [
              0.2222222222222222,
              "#7201a8"
             ],
             [
              0.3333333333333333,
              "#9c179e"
             ],
             [
              0.4444444444444444,
              "#bd3786"
             ],
             [
              0.5555555555555556,
              "#d8576b"
             ],
             [
              0.6666666666666666,
              "#ed7953"
             ],
             [
              0.7777777777777778,
              "#fb9f3a"
             ],
             [
              0.8888888888888888,
              "#fdca26"
             ],
             [
              1.0,
              "#f0f921"
             ]
            ],
            "type": "contour"
           }
          ],
          "contourcarpet": [
           {
            "colorbar": {
             "outlinewidth": 0,
             "ticks": ""
            },
            "type": "contourcarpet"
           }
          ],
          "heatmap": [
           {
            "colorbar": {
             "outlinewidth": 0,
             "ticks": ""
            },
            "colorscale": [
             [
              0.0,
              "#0d0887"
             ],
             [
              0.1111111111111111,
              "#46039f"
             ],
             [
              0.2222222222222222,
              "#7201a8"
             ],
             [
              0.3333333333333333,
              "#9c179e"
             ],
             [
              0.4444444444444444,
              "#bd3786"
             ],
             [
              0.5555555555555556,
              "#d8576b"
             ],
             [
              0.6666666666666666,
              "#ed7953"
             ],
             [
              0.7777777777777778,
              "#fb9f3a"
             ],
             [
              0.8888888888888888,
              "#fdca26"
             ],
             [
              1.0,
              "#f0f921"
             ]
            ],
            "type": "heatmap"
           }
          ],
          "heatmapgl": [
           {
            "colorbar": {
             "outlinewidth": 0,
             "ticks": ""
            },
            "colorscale": [
             [
              0.0,
              "#0d0887"
             ],
             [
              0.1111111111111111,
              "#46039f"
             ],
             [
              0.2222222222222222,
              "#7201a8"
             ],
             [
              0.3333333333333333,
              "#9c179e"
             ],
             [
              0.4444444444444444,
              "#bd3786"
             ],
             [
              0.5555555555555556,
              "#d8576b"
             ],
             [
              0.6666666666666666,
              "#ed7953"
             ],
             [
              0.7777777777777778,
              "#fb9f3a"
             ],
             [
              0.8888888888888888,
              "#fdca26"
             ],
             [
              1.0,
              "#f0f921"
             ]
            ],
            "type": "heatmapgl"
           }
          ],
          "histogram": [
           {
            "marker": {
             "pattern": {
              "fillmode": "overlay",
              "size": 10,
              "solidity": 0.2
             }
            },
            "type": "histogram"
           }
          ],
          "histogram2d": [
           {
            "colorbar": {
             "outlinewidth": 0,
             "ticks": ""
            },
            "colorscale": [
             [
              0.0,
              "#0d0887"
             ],
             [
              0.1111111111111111,
              "#46039f"
             ],
             [
              0.2222222222222222,
              "#7201a8"
             ],
             [
              0.3333333333333333,
              "#9c179e"
             ],
             [
              0.4444444444444444,
              "#bd3786"
             ],
             [
              0.5555555555555556,
              "#d8576b"
             ],
             [
              0.6666666666666666,
              "#ed7953"
             ],
             [
              0.7777777777777778,
              "#fb9f3a"
             ],
             [
              0.8888888888888888,
              "#fdca26"
             ],
             [
              1.0,
              "#f0f921"
             ]
            ],
            "type": "histogram2d"
           }
          ],
          "histogram2dcontour": [
           {
            "colorbar": {
             "outlinewidth": 0,
             "ticks": ""
            },
            "colorscale": [
             [
              0.0,
              "#0d0887"
             ],
             [
              0.1111111111111111,
              "#46039f"
             ],
             [
              0.2222222222222222,
              "#7201a8"
             ],
             [
              0.3333333333333333,
              "#9c179e"
             ],
             [
              0.4444444444444444,
              "#bd3786"
             ],
             [
              0.5555555555555556,
              "#d8576b"
             ],
             [
              0.6666666666666666,
              "#ed7953"
             ],
             [
              0.7777777777777778,
              "#fb9f3a"
             ],
             [
              0.8888888888888888,
              "#fdca26"
             ],
             [
              1.0,
              "#f0f921"
             ]
            ],
            "type": "histogram2dcontour"
           }
          ],
          "mesh3d": [
           {
            "colorbar": {
             "outlinewidth": 0,
             "ticks": ""
            },
            "type": "mesh3d"
           }
          ],
          "parcoords": [
           {
            "line": {
             "colorbar": {
              "outlinewidth": 0,
              "ticks": ""
             }
            },
            "type": "parcoords"
           }
          ],
          "pie": [
           {
            "automargin": true,
            "type": "pie"
           }
          ],
          "scatter": [
           {
            "marker": {
             "line": {
              "color": "#283442"
             }
            },
            "type": "scatter"
           }
          ],
          "scatter3d": [
           {
            "line": {
             "colorbar": {
              "outlinewidth": 0,
              "ticks": ""
             }
            },
            "marker": {
             "colorbar": {
              "outlinewidth": 0,
              "ticks": ""
             }
            },
            "type": "scatter3d"
           }
          ],
          "scattercarpet": [
           {
            "marker": {
             "colorbar": {
              "outlinewidth": 0,
              "ticks": ""
             }
            },
            "type": "scattercarpet"
           }
          ],
          "scattergeo": [
           {
            "marker": {
             "colorbar": {
              "outlinewidth": 0,
              "ticks": ""
             }
            },
            "type": "scattergeo"
           }
          ],
          "scattergl": [
           {
            "marker": {
             "line": {
              "color": "#283442"
             }
            },
            "type": "scattergl"
           }
          ],
          "scattermapbox": [
           {
            "marker": {
             "colorbar": {
              "outlinewidth": 0,
              "ticks": ""
             }
            },
            "type": "scattermapbox"
           }
          ],
          "scatterpolar": [
           {
            "marker": {
             "colorbar": {
              "outlinewidth": 0,
              "ticks": ""
             }
            },
            "type": "scatterpolar"
           }
          ],
          "scatterpolargl": [
           {
            "marker": {
             "colorbar": {
              "outlinewidth": 0,
              "ticks": ""
             }
            },
            "type": "scatterpolargl"
           }
          ],
          "scatterternary": [
           {
            "marker": {
             "colorbar": {
              "outlinewidth": 0,
              "ticks": ""
             }
            },
            "type": "scatterternary"
           }
          ],
          "surface": [
           {
            "colorbar": {
             "outlinewidth": 0,
             "ticks": ""
            },
            "colorscale": [
             [
              0.0,
              "#0d0887"
             ],
             [
              0.1111111111111111,
              "#46039f"
             ],
             [
              0.2222222222222222,
              "#7201a8"
             ],
             [
              0.3333333333333333,
              "#9c179e"
             ],
             [
              0.4444444444444444,
              "#bd3786"
             ],
             [
              0.5555555555555556,
              "#d8576b"
             ],
             [
              0.6666666666666666,
              "#ed7953"
             ],
             [
              0.7777777777777778,
              "#fb9f3a"
             ],
             [
              0.8888888888888888,
              "#fdca26"
             ],
             [
              1.0,
              "#f0f921"
             ]
            ],
            "type": "surface"
           }
          ],
          "table": [
           {
            "cells": {
             "fill": {
              "color": "#506784"
             },
             "line": {
              "color": "rgb(17,17,17)"
             }
            },
            "header": {
             "fill": {
              "color": "#2a3f5f"
             },
             "line": {
              "color": "rgb(17,17,17)"
             }
            },
            "type": "table"
           }
          ]
         },
         "layout": {
          "annotationdefaults": {
           "arrowcolor": "#f2f5fa",
           "arrowhead": 0,
           "arrowwidth": 1
          },
          "autotypenumbers": "strict",
          "coloraxis": {
           "colorbar": {
            "outlinewidth": 0,
            "ticks": ""
           }
          },
          "colorscale": {
           "diverging": [
            [
             0,
             "#8e0152"
            ],
            [
             0.1,
             "#c51b7d"
            ],
            [
             0.2,
             "#de77ae"
            ],
            [
             0.3,
             "#f1b6da"
            ],
            [
             0.4,
             "#fde0ef"
            ],
            [
             0.5,
             "#f7f7f7"
            ],
            [
             0.6,
             "#e6f5d0"
            ],
            [
             0.7,
             "#b8e186"
            ],
            [
             0.8,
             "#7fbc41"
            ],
            [
             0.9,
             "#4d9221"
            ],
            [
             1,
             "#276419"
            ]
           ],
           "sequential": [
            [
             0.0,
             "#0d0887"
            ],
            [
             0.1111111111111111,
             "#46039f"
            ],
            [
             0.2222222222222222,
             "#7201a8"
            ],
            [
             0.3333333333333333,
             "#9c179e"
            ],
            [
             0.4444444444444444,
             "#bd3786"
            ],
            [
             0.5555555555555556,
             "#d8576b"
            ],
            [
             0.6666666666666666,
             "#ed7953"
            ],
            [
             0.7777777777777778,
             "#fb9f3a"
            ],
            [
             0.8888888888888888,
             "#fdca26"
            ],
            [
             1.0,
             "#f0f921"
            ]
           ],
           "sequentialminus": [
            [
             0.0,
             "#0d0887"
            ],
            [
             0.1111111111111111,
             "#46039f"
            ],
            [
             0.2222222222222222,
             "#7201a8"
            ],
            [
             0.3333333333333333,
             "#9c179e"
            ],
            [
             0.4444444444444444,
             "#bd3786"
            ],
            [
             0.5555555555555556,
             "#d8576b"
            ],
            [
             0.6666666666666666,
             "#ed7953"
            ],
            [
             0.7777777777777778,
             "#fb9f3a"
            ],
            [
             0.8888888888888888,
             "#fdca26"
            ],
            [
             1.0,
             "#f0f921"
            ]
           ]
          },
          "colorway": [
           "#636efa",
           "#EF553B",
           "#00cc96",
           "#ab63fa",
           "#FFA15A",
           "#19d3f3",
           "#FF6692",
           "#B6E880",
           "#FF97FF",
           "#FECB52"
          ],
          "font": {
           "color": "#f2f5fa"
          },
          "geo": {
           "bgcolor": "rgb(17,17,17)",
           "lakecolor": "rgb(17,17,17)",
           "landcolor": "rgb(17,17,17)",
           "showlakes": true,
           "showland": true,
           "subunitcolor": "#506784"
          },
          "hoverlabel": {
           "align": "left"
          },
          "hovermode": "closest",
          "mapbox": {
           "style": "dark"
          },
          "paper_bgcolor": "rgb(17,17,17)",
          "plot_bgcolor": "rgb(17,17,17)",
          "polar": {
           "angularaxis": {
            "gridcolor": "#506784",
            "linecolor": "#506784",
            "ticks": ""
           },
           "bgcolor": "rgb(17,17,17)",
           "radialaxis": {
            "gridcolor": "#506784",
            "linecolor": "#506784",
            "ticks": ""
           }
          },
          "scene": {
           "xaxis": {
            "backgroundcolor": "rgb(17,17,17)",
            "gridcolor": "#506784",
            "gridwidth": 2,
            "linecolor": "#506784",
            "showbackground": true,
            "ticks": "",
            "zerolinecolor": "#C8D4E3"
           },
           "yaxis": {
            "backgroundcolor": "rgb(17,17,17)",
            "gridcolor": "#506784",
            "gridwidth": 2,
            "linecolor": "#506784",
            "showbackground": true,
            "ticks": "",
            "zerolinecolor": "#C8D4E3"
           },
           "zaxis": {
            "backgroundcolor": "rgb(17,17,17)",
            "gridcolor": "#506784",
            "gridwidth": 2,
            "linecolor": "#506784",
            "showbackground": true,
            "ticks": "",
            "zerolinecolor": "#C8D4E3"
           }
          },
          "shapedefaults": {
           "line": {
            "color": "#f2f5fa"
           }
          },
          "sliderdefaults": {
           "bgcolor": "#C8D4E3",
           "bordercolor": "rgb(17,17,17)",
           "borderwidth": 1,
           "tickwidth": 0
          },
          "ternary": {
           "aaxis": {
            "gridcolor": "#506784",
            "linecolor": "#506784",
            "ticks": ""
           },
           "baxis": {
            "gridcolor": "#506784",
            "linecolor": "#506784",
            "ticks": ""
           },
           "bgcolor": "rgb(17,17,17)",
           "caxis": {
            "gridcolor": "#506784",
            "linecolor": "#506784",
            "ticks": ""
           }
          },
          "title": {
           "x": 0.05
          },
          "updatemenudefaults": {
           "bgcolor": "#506784",
           "borderwidth": 0
          },
          "xaxis": {
           "automargin": true,
           "gridcolor": "#283442",
           "linecolor": "#506784",
           "ticks": "",
           "title": {
            "standoff": 15
           },
           "zerolinecolor": "#283442",
           "zerolinewidth": 2
          },
          "yaxis": {
           "automargin": true,
           "gridcolor": "#283442",
           "linecolor": "#506784",
           "ticks": "",
           "title": {
            "standoff": 15
           },
           "zerolinecolor": "#283442",
           "zerolinewidth": 2
          }
         }
        },
        "xaxis": {
         "anchor": "y",
         "domain": [
          0.0,
          1.0
         ],
         "title": {
          "text": "Año de publicación"
         }
        },
        "yaxis": {
         "anchor": "x",
         "domain": [
          0.0,
          1.0
         ],
         "title": {
          "text": "cantidad de libros"
         }
        },
        "legend": {
         "tracegroupgap": 0
        },
        "title": {
         "text": "Año de publicación de 1900-2020"
        },
        "barmode": "relative"
       },
       "config": {
        "plotlyServerURL": "https://plot.ly"
       }
      },
      "text/html": "<div>                            <div id=\"1ed8ca90-cc09-4eae-9374-e449812d1147\" class=\"plotly-graph-div\" style=\"height:525px; width:100%;\"></div>            <script type=\"text/javascript\">                require([\"plotly\"], function(Plotly) {                    window.PLOTLYENV=window.PLOTLYENV || {};                                    if (document.getElementById(\"1ed8ca90-cc09-4eae-9374-e449812d1147\")) {                    Plotly.newPlot(                        \"1ed8ca90-cc09-4eae-9374-e449812d1147\",                        [{\"alignmentgroup\":\"True\",\"hovertemplate\":\"A\\u00f1o de publicaci\\u00f3n=%{x}<br>cantidad de libros=%{y}<extra></extra>\",\"legendgroup\":\"\",\"marker\":{\"color\":\"#636efa\",\"pattern\":{\"shape\":\"\"}},\"name\":\"\",\"offsetgroup\":\"\",\"orientation\":\"v\",\"showlegend\":false,\"textposition\":\"auto\",\"x\":[1902,1906,1908,1909,1910,1911,1914,1919,1920,1921,1922,1923,1924,1925,1926,1927,1928,1929,1930,1931,1932,1933,1934,1935,1936,1937,1938,1939,1940,1941,1942,1943,1944,1945,1946,1947,1948,1949,1950,1951,1952,1953,1954,1955,1956,1957,1958,1959,1960,1961,1962,1963,1964,1965,1966,1967,1968,1969,1970,1971,1972,1973,1974,1975,1976,1977,1978,1979,1980,1981,1982,1983,1984,1985,1986,1987,1988,1989,1990,1991,1992,1993,1994,1995,1996,1997,1998,1999,2000,2001,2002,2003,2004,2005,2006,2008,2010,2011,2020,2021,2024,2030,2037],\"xaxis\":\"x\",\"y\":[1,1,1,1,1,18,1,1,29,2,2,11,2,2,1,1,2,6,11,3,4,4,1,1,6,3,7,6,29,9,11,6,3,4,13,12,7,11,31,32,26,58,45,57,64,61,69,89,111,114,101,112,129,139,156,149,200,288,373,446,625,730,820,987,1282,1532,1754,1805,2212,2702,3490,3676,3951,4034,4392,4855,5639,5903,6444,6985,7228,7748,8551,9887,10237,10705,11129,12371,12450,12576,12894,10775,4605,38,1,1,2,1,3,1,1,6,1],\"yaxis\":\"y\",\"type\":\"bar\"}],                        {\"template\":{\"data\":{\"bar\":[{\"error_x\":{\"color\":\"#f2f5fa\"},\"error_y\":{\"color\":\"#f2f5fa\"},\"marker\":{\"line\":{\"color\":\"rgb(17,17,17)\",\"width\":0.5},\"pattern\":{\"fillmode\":\"overlay\",\"size\":10,\"solidity\":0.2}},\"type\":\"bar\"}],\"barpolar\":[{\"marker\":{\"line\":{\"color\":\"rgb(17,17,17)\",\"width\":0.5},\"pattern\":{\"fillmode\":\"overlay\",\"size\":10,\"solidity\":0.2}},\"type\":\"barpolar\"}],\"carpet\":[{\"aaxis\":{\"endlinecolor\":\"#A2B1C6\",\"gridcolor\":\"#506784\",\"linecolor\":\"#506784\",\"minorgridcolor\":\"#506784\",\"startlinecolor\":\"#A2B1C6\"},\"baxis\":{\"endlinecolor\":\"#A2B1C6\",\"gridcolor\":\"#506784\",\"linecolor\":\"#506784\",\"minorgridcolor\":\"#506784\",\"startlinecolor\":\"#A2B1C6\"},\"type\":\"carpet\"}],\"choropleth\":[{\"colorbar\":{\"outlinewidth\":0,\"ticks\":\"\"},\"type\":\"choropleth\"}],\"contour\":[{\"colorbar\":{\"outlinewidth\":0,\"ticks\":\"\"},\"colorscale\":[[0.0,\"#0d0887\"],[0.1111111111111111,\"#46039f\"],[0.2222222222222222,\"#7201a8\"],[0.3333333333333333,\"#9c179e\"],[0.4444444444444444,\"#bd3786\"],[0.5555555555555556,\"#d8576b\"],[0.6666666666666666,\"#ed7953\"],[0.7777777777777778,\"#fb9f3a\"],[0.8888888888888888,\"#fdca26\"],[1.0,\"#f0f921\"]],\"type\":\"contour\"}],\"contourcarpet\":[{\"colorbar\":{\"outlinewidth\":0,\"ticks\":\"\"},\"type\":\"contourcarpet\"}],\"heatmap\":[{\"colorbar\":{\"outlinewidth\":0,\"ticks\":\"\"},\"colorscale\":[[0.0,\"#0d0887\"],[0.1111111111111111,\"#46039f\"],[0.2222222222222222,\"#7201a8\"],[0.3333333333333333,\"#9c179e\"],[0.4444444444444444,\"#bd3786\"],[0.5555555555555556,\"#d8576b\"],[0.6666666666666666,\"#ed7953\"],[0.7777777777777778,\"#fb9f3a\"],[0.8888888888888888,\"#fdca26\"],[1.0,\"#f0f921\"]],\"type\":\"heatmap\"}],\"heatmapgl\":[{\"colorbar\":{\"outlinewidth\":0,\"ticks\":\"\"},\"colorscale\":[[0.0,\"#0d0887\"],[0.1111111111111111,\"#46039f\"],[0.2222222222222222,\"#7201a8\"],[0.3333333333333333,\"#9c179e\"],[0.4444444444444444,\"#bd3786\"],[0.5555555555555556,\"#d8576b\"],[0.6666666666666666,\"#ed7953\"],[0.7777777777777778,\"#fb9f3a\"],[0.8888888888888888,\"#fdca26\"],[1.0,\"#f0f921\"]],\"type\":\"heatmapgl\"}],\"histogram\":[{\"marker\":{\"pattern\":{\"fillmode\":\"overlay\",\"size\":10,\"solidity\":0.2}},\"type\":\"histogram\"}],\"histogram2d\":[{\"colorbar\":{\"outlinewidth\":0,\"ticks\":\"\"},\"colorscale\":[[0.0,\"#0d0887\"],[0.1111111111111111,\"#46039f\"],[0.2222222222222222,\"#7201a8\"],[0.3333333333333333,\"#9c179e\"],[0.4444444444444444,\"#bd3786\"],[0.5555555555555556,\"#d8576b\"],[0.6666666666666666,\"#ed7953\"],[0.7777777777777778,\"#fb9f3a\"],[0.8888888888888888,\"#fdca26\"],[1.0,\"#f0f921\"]],\"type\":\"histogram2d\"}],\"histogram2dcontour\":[{\"colorbar\":{\"outlinewidth\":0,\"ticks\":\"\"},\"colorscale\":[[0.0,\"#0d0887\"],[0.1111111111111111,\"#46039f\"],[0.2222222222222222,\"#7201a8\"],[0.3333333333333333,\"#9c179e\"],[0.4444444444444444,\"#bd3786\"],[0.5555555555555556,\"#d8576b\"],[0.6666666666666666,\"#ed7953\"],[0.7777777777777778,\"#fb9f3a\"],[0.8888888888888888,\"#fdca26\"],[1.0,\"#f0f921\"]],\"type\":\"histogram2dcontour\"}],\"mesh3d\":[{\"colorbar\":{\"outlinewidth\":0,\"ticks\":\"\"},\"type\":\"mesh3d\"}],\"parcoords\":[{\"line\":{\"colorbar\":{\"outlinewidth\":0,\"ticks\":\"\"}},\"type\":\"parcoords\"}],\"pie\":[{\"automargin\":true,\"type\":\"pie\"}],\"scatter\":[{\"marker\":{\"line\":{\"color\":\"#283442\"}},\"type\":\"scatter\"}],\"scatter3d\":[{\"line\":{\"colorbar\":{\"outlinewidth\":0,\"ticks\":\"\"}},\"marker\":{\"colorbar\":{\"outlinewidth\":0,\"ticks\":\"\"}},\"type\":\"scatter3d\"}],\"scattercarpet\":[{\"marker\":{\"colorbar\":{\"outlinewidth\":0,\"ticks\":\"\"}},\"type\":\"scattercarpet\"}],\"scattergeo\":[{\"marker\":{\"colorbar\":{\"outlinewidth\":0,\"ticks\":\"\"}},\"type\":\"scattergeo\"}],\"scattergl\":[{\"marker\":{\"line\":{\"color\":\"#283442\"}},\"type\":\"scattergl\"}],\"scattermapbox\":[{\"marker\":{\"colorbar\":{\"outlinewidth\":0,\"ticks\":\"\"}},\"type\":\"scattermapbox\"}],\"scatterpolar\":[{\"marker\":{\"colorbar\":{\"outlinewidth\":0,\"ticks\":\"\"}},\"type\":\"scatterpolar\"}],\"scatterpolargl\":[{\"marker\":{\"colorbar\":{\"outlinewidth\":0,\"ticks\":\"\"}},\"type\":\"scatterpolargl\"}],\"scatterternary\":[{\"marker\":{\"colorbar\":{\"outlinewidth\":0,\"ticks\":\"\"}},\"type\":\"scatterternary\"}],\"surface\":[{\"colorbar\":{\"outlinewidth\":0,\"ticks\":\"\"},\"colorscale\":[[0.0,\"#0d0887\"],[0.1111111111111111,\"#46039f\"],[0.2222222222222222,\"#7201a8\"],[0.3333333333333333,\"#9c179e\"],[0.4444444444444444,\"#bd3786\"],[0.5555555555555556,\"#d8576b\"],[0.6666666666666666,\"#ed7953\"],[0.7777777777777778,\"#fb9f3a\"],[0.8888888888888888,\"#fdca26\"],[1.0,\"#f0f921\"]],\"type\":\"surface\"}],\"table\":[{\"cells\":{\"fill\":{\"color\":\"#506784\"},\"line\":{\"color\":\"rgb(17,17,17)\"}},\"header\":{\"fill\":{\"color\":\"#2a3f5f\"},\"line\":{\"color\":\"rgb(17,17,17)\"}},\"type\":\"table\"}]},\"layout\":{\"annotationdefaults\":{\"arrowcolor\":\"#f2f5fa\",\"arrowhead\":0,\"arrowwidth\":1},\"autotypenumbers\":\"strict\",\"coloraxis\":{\"colorbar\":{\"outlinewidth\":0,\"ticks\":\"\"}},\"colorscale\":{\"diverging\":[[0,\"#8e0152\"],[0.1,\"#c51b7d\"],[0.2,\"#de77ae\"],[0.3,\"#f1b6da\"],[0.4,\"#fde0ef\"],[0.5,\"#f7f7f7\"],[0.6,\"#e6f5d0\"],[0.7,\"#b8e186\"],[0.8,\"#7fbc41\"],[0.9,\"#4d9221\"],[1,\"#276419\"]],\"sequential\":[[0.0,\"#0d0887\"],[0.1111111111111111,\"#46039f\"],[0.2222222222222222,\"#7201a8\"],[0.3333333333333333,\"#9c179e\"],[0.4444444444444444,\"#bd3786\"],[0.5555555555555556,\"#d8576b\"],[0.6666666666666666,\"#ed7953\"],[0.7777777777777778,\"#fb9f3a\"],[0.8888888888888888,\"#fdca26\"],[1.0,\"#f0f921\"]],\"sequentialminus\":[[0.0,\"#0d0887\"],[0.1111111111111111,\"#46039f\"],[0.2222222222222222,\"#7201a8\"],[0.3333333333333333,\"#9c179e\"],[0.4444444444444444,\"#bd3786\"],[0.5555555555555556,\"#d8576b\"],[0.6666666666666666,\"#ed7953\"],[0.7777777777777778,\"#fb9f3a\"],[0.8888888888888888,\"#fdca26\"],[1.0,\"#f0f921\"]]},\"colorway\":[\"#636efa\",\"#EF553B\",\"#00cc96\",\"#ab63fa\",\"#FFA15A\",\"#19d3f3\",\"#FF6692\",\"#B6E880\",\"#FF97FF\",\"#FECB52\"],\"font\":{\"color\":\"#f2f5fa\"},\"geo\":{\"bgcolor\":\"rgb(17,17,17)\",\"lakecolor\":\"rgb(17,17,17)\",\"landcolor\":\"rgb(17,17,17)\",\"showlakes\":true,\"showland\":true,\"subunitcolor\":\"#506784\"},\"hoverlabel\":{\"align\":\"left\"},\"hovermode\":\"closest\",\"mapbox\":{\"style\":\"dark\"},\"paper_bgcolor\":\"rgb(17,17,17)\",\"plot_bgcolor\":\"rgb(17,17,17)\",\"polar\":{\"angularaxis\":{\"gridcolor\":\"#506784\",\"linecolor\":\"#506784\",\"ticks\":\"\"},\"bgcolor\":\"rgb(17,17,17)\",\"radialaxis\":{\"gridcolor\":\"#506784\",\"linecolor\":\"#506784\",\"ticks\":\"\"}},\"scene\":{\"xaxis\":{\"backgroundcolor\":\"rgb(17,17,17)\",\"gridcolor\":\"#506784\",\"gridwidth\":2,\"linecolor\":\"#506784\",\"showbackground\":true,\"ticks\":\"\",\"zerolinecolor\":\"#C8D4E3\"},\"yaxis\":{\"backgroundcolor\":\"rgb(17,17,17)\",\"gridcolor\":\"#506784\",\"gridwidth\":2,\"linecolor\":\"#506784\",\"showbackground\":true,\"ticks\":\"\",\"zerolinecolor\":\"#C8D4E3\"},\"zaxis\":{\"backgroundcolor\":\"rgb(17,17,17)\",\"gridcolor\":\"#506784\",\"gridwidth\":2,\"linecolor\":\"#506784\",\"showbackground\":true,\"ticks\":\"\",\"zerolinecolor\":\"#C8D4E3\"}},\"shapedefaults\":{\"line\":{\"color\":\"#f2f5fa\"}},\"sliderdefaults\":{\"bgcolor\":\"#C8D4E3\",\"bordercolor\":\"rgb(17,17,17)\",\"borderwidth\":1,\"tickwidth\":0},\"ternary\":{\"aaxis\":{\"gridcolor\":\"#506784\",\"linecolor\":\"#506784\",\"ticks\":\"\"},\"baxis\":{\"gridcolor\":\"#506784\",\"linecolor\":\"#506784\",\"ticks\":\"\"},\"bgcolor\":\"rgb(17,17,17)\",\"caxis\":{\"gridcolor\":\"#506784\",\"linecolor\":\"#506784\",\"ticks\":\"\"}},\"title\":{\"x\":0.05},\"updatemenudefaults\":{\"bgcolor\":\"#506784\",\"borderwidth\":0},\"xaxis\":{\"automargin\":true,\"gridcolor\":\"#283442\",\"linecolor\":\"#506784\",\"ticks\":\"\",\"title\":{\"standoff\":15},\"zerolinecolor\":\"#283442\",\"zerolinewidth\":2},\"yaxis\":{\"automargin\":true,\"gridcolor\":\"#283442\",\"linecolor\":\"#506784\",\"ticks\":\"\",\"title\":{\"standoff\":15},\"zerolinecolor\":\"#283442\",\"zerolinewidth\":2}}},\"xaxis\":{\"anchor\":\"y\",\"domain\":[0.0,1.0],\"title\":{\"text\":\"A\\u00f1o de publicaci\\u00f3n\"}},\"yaxis\":{\"anchor\":\"x\",\"domain\":[0.0,1.0],\"title\":{\"text\":\"cantidad de libros\"}},\"legend\":{\"tracegroupgap\":0},\"title\":{\"text\":\"A\\u00f1o de publicaci\\u00f3n de 1900-2020\"},\"barmode\":\"relative\"},                        {\"responsive\": true}                    ).then(function(){\n                            \nvar gd = document.getElementById('1ed8ca90-cc09-4eae-9374-e449812d1147');\nvar x = new MutationObserver(function (mutations, observer) {{\n        var display = window.getComputedStyle(gd).display;\n        if (!display || display === 'none') {{\n            console.log([gd, 'removed!']);\n            Plotly.purge(gd);\n            observer.disconnect();\n        }}\n}});\n\n// Listen for the removal of the full notebook cells\nvar notebookContainer = gd.closest('#notebook-container');\nif (notebookContainer) {{\n    x.observe(notebookContainer, {childList: true});\n}}\n\n// Listen for the clearing of the current output cell\nvar outputEl = gd.closest('.output');\nif (outputEl) {{\n    x.observe(outputEl, {childList: true});\n}}\n\n                        })                };                });            </script>        </div>"
     },
     "metadata": {},
     "output_type": "display_data"
    }
   ],
   "source": [
    "fig = px.bar(books_vc[4:107], x='Año de publicación', y='cantidad de libros', title = \"Año de publicación de 1900-2020\")\n",
    "fig.show()"
   ]
  },
  {
   "cell_type": "markdown",
   "id": "8fb235a6",
   "metadata": {
    "id": "8fb235a6"
   },
   "source": [
    "El año de publicación de los libros más frecuente es 2002."
   ]
  },
  {
   "cell_type": "code",
   "execution_count": 48,
   "id": "a5ab4d2f",
   "metadata": {
    "id": "a5ab4d2f"
   },
   "outputs": [
    {
     "data": {
      "text/plain": "              ISBN                                         Book-Title  \\\n1007    3257250398                                        Konig Babar   \n1008    3257250053                           Die Geschichte Von Babar   \n1650    0060901012        Brave New World & Brave New World Revisited   \n3195    0340565829  Teach Yourself Furthur Spanish (Teach Yourself...   \n4735    044808919X    Disappearing Floor (Hardy Boys Mystery Stories)   \n...            ...                                                ...   \n196627  9997508769    Murder After Hours/(Variant Title = the Hollow)   \n197090  2070252337                                            Paroles   \n197571  0671825356                                     W D HSE PLANTS   \n198305  0684717999           Green Hills of Africa (Scribner Classic)   \n200720  0840724551               Agneatha and the Peacocks-Blank Book   \n\n               Book-Author  Year-Of-Publication              Publisher  \\\n1007      Jean de Brunhoff                 1920              Not Avail   \n1008      Jean de Brunhoff                 1920               Diogenes   \n1650         Aldous Huxley                 1942              Perennial   \n3195         Kattan Ibarra                 1920     Hodder & Stoughton   \n4735     Franklin W. Dixon                 1940       Grosset & Dunlap   \n...                    ...                  ...                    ...   \n196627     Agatha Christie                 1946              Dodd Mead   \n197090  Jacques PrÃ?Â©vert                 1949              Gallimard   \n197571           Jd Hersey                 1901       Simon & Schuster   \n198305    Ernest Hemingway                 1930          Collier Books   \n200720            Markings                 1920  Nelson Communications   \n\n                                              Image-URL-S  \\\n1007    http://images.amazon.com/images/P/3257250398.0...   \n1008    http://images.amazon.com/images/P/3257250053.0...   \n1650    http://images.amazon.com/images/P/0060901012.0...   \n3195    http://images.amazon.com/images/P/0340565829.0...   \n4735    http://images.amazon.com/images/P/044808919X.0...   \n...                                                   ...   \n196627  http://images.amazon.com/images/P/9997508769.0...   \n197090  http://images.amazon.com/images/P/2070252337.0...   \n197571  http://images.amazon.com/images/P/0671825356.0...   \n198305  http://images.amazon.com/images/P/0684717999.0...   \n200720  http://images.amazon.com/images/P/0840724551.0...   \n\n                                              Image-URL-M  \\\n1007    http://images.amazon.com/images/P/3257250398.0...   \n1008    http://images.amazon.com/images/P/3257250053.0...   \n1650    http://images.amazon.com/images/P/0060901012.0...   \n3195    http://images.amazon.com/images/P/0340565829.0...   \n4735    http://images.amazon.com/images/P/044808919X.0...   \n...                                                   ...   \n196627  http://images.amazon.com/images/P/9997508769.0...   \n197090  http://images.amazon.com/images/P/2070252337.0...   \n197571  http://images.amazon.com/images/P/0671825356.0...   \n198305  http://images.amazon.com/images/P/0684717999.0...   \n200720  http://images.amazon.com/images/P/0840724551.0...   \n\n                                              Image-URL-L  \n1007    http://images.amazon.com/images/P/3257250398.0...  \n1008    http://images.amazon.com/images/P/3257250053.0...  \n1650    http://images.amazon.com/images/P/0060901012.0...  \n3195    http://images.amazon.com/images/P/0340565829.0...  \n4735    http://images.amazon.com/images/P/044808919X.0...  \n...                                                   ...  \n196627  http://images.amazon.com/images/P/9997508769.0...  \n197090  http://images.amazon.com/images/P/2070252337.0...  \n197571  http://images.amazon.com/images/P/0671825356.0...  \n198305  http://images.amazon.com/images/P/0684717999.0...  \n200720  http://images.amazon.com/images/P/0840724551.0...  \n\n[245 rows x 8 columns]",
      "text/html": "<div>\n<style scoped>\n    .dataframe tbody tr th:only-of-type {\n        vertical-align: middle;\n    }\n\n    .dataframe tbody tr th {\n        vertical-align: top;\n    }\n\n    .dataframe thead th {\n        text-align: right;\n    }\n</style>\n<table border=\"1\" class=\"dataframe\">\n  <thead>\n    <tr style=\"text-align: right;\">\n      <th></th>\n      <th>ISBN</th>\n      <th>Book-Title</th>\n      <th>Book-Author</th>\n      <th>Year-Of-Publication</th>\n      <th>Publisher</th>\n      <th>Image-URL-S</th>\n      <th>Image-URL-M</th>\n      <th>Image-URL-L</th>\n    </tr>\n  </thead>\n  <tbody>\n    <tr>\n      <th>1007</th>\n      <td>3257250398</td>\n      <td>Konig Babar</td>\n      <td>Jean de Brunhoff</td>\n      <td>1920</td>\n      <td>Not Avail</td>\n      <td>http://images.amazon.com/images/P/3257250398.0...</td>\n      <td>http://images.amazon.com/images/P/3257250398.0...</td>\n      <td>http://images.amazon.com/images/P/3257250398.0...</td>\n    </tr>\n    <tr>\n      <th>1008</th>\n      <td>3257250053</td>\n      <td>Die Geschichte Von Babar</td>\n      <td>Jean de Brunhoff</td>\n      <td>1920</td>\n      <td>Diogenes</td>\n      <td>http://images.amazon.com/images/P/3257250053.0...</td>\n      <td>http://images.amazon.com/images/P/3257250053.0...</td>\n      <td>http://images.amazon.com/images/P/3257250053.0...</td>\n    </tr>\n    <tr>\n      <th>1650</th>\n      <td>0060901012</td>\n      <td>Brave New World &amp; Brave New World Revisited</td>\n      <td>Aldous Huxley</td>\n      <td>1942</td>\n      <td>Perennial</td>\n      <td>http://images.amazon.com/images/P/0060901012.0...</td>\n      <td>http://images.amazon.com/images/P/0060901012.0...</td>\n      <td>http://images.amazon.com/images/P/0060901012.0...</td>\n    </tr>\n    <tr>\n      <th>3195</th>\n      <td>0340565829</td>\n      <td>Teach Yourself Furthur Spanish (Teach Yourself...</td>\n      <td>Kattan Ibarra</td>\n      <td>1920</td>\n      <td>Hodder &amp; Stoughton</td>\n      <td>http://images.amazon.com/images/P/0340565829.0...</td>\n      <td>http://images.amazon.com/images/P/0340565829.0...</td>\n      <td>http://images.amazon.com/images/P/0340565829.0...</td>\n    </tr>\n    <tr>\n      <th>4735</th>\n      <td>044808919X</td>\n      <td>Disappearing Floor (Hardy Boys Mystery Stories)</td>\n      <td>Franklin W. Dixon</td>\n      <td>1940</td>\n      <td>Grosset &amp; Dunlap</td>\n      <td>http://images.amazon.com/images/P/044808919X.0...</td>\n      <td>http://images.amazon.com/images/P/044808919X.0...</td>\n      <td>http://images.amazon.com/images/P/044808919X.0...</td>\n    </tr>\n    <tr>\n      <th>...</th>\n      <td>...</td>\n      <td>...</td>\n      <td>...</td>\n      <td>...</td>\n      <td>...</td>\n      <td>...</td>\n      <td>...</td>\n      <td>...</td>\n    </tr>\n    <tr>\n      <th>196627</th>\n      <td>9997508769</td>\n      <td>Murder After Hours/(Variant Title = the Hollow)</td>\n      <td>Agatha Christie</td>\n      <td>1946</td>\n      <td>Dodd Mead</td>\n      <td>http://images.amazon.com/images/P/9997508769.0...</td>\n      <td>http://images.amazon.com/images/P/9997508769.0...</td>\n      <td>http://images.amazon.com/images/P/9997508769.0...</td>\n    </tr>\n    <tr>\n      <th>197090</th>\n      <td>2070252337</td>\n      <td>Paroles</td>\n      <td>Jacques PrÃ?Â©vert</td>\n      <td>1949</td>\n      <td>Gallimard</td>\n      <td>http://images.amazon.com/images/P/2070252337.0...</td>\n      <td>http://images.amazon.com/images/P/2070252337.0...</td>\n      <td>http://images.amazon.com/images/P/2070252337.0...</td>\n    </tr>\n    <tr>\n      <th>197571</th>\n      <td>0671825356</td>\n      <td>W D HSE PLANTS</td>\n      <td>Jd Hersey</td>\n      <td>1901</td>\n      <td>Simon &amp; Schuster</td>\n      <td>http://images.amazon.com/images/P/0671825356.0...</td>\n      <td>http://images.amazon.com/images/P/0671825356.0...</td>\n      <td>http://images.amazon.com/images/P/0671825356.0...</td>\n    </tr>\n    <tr>\n      <th>198305</th>\n      <td>0684717999</td>\n      <td>Green Hills of Africa (Scribner Classic)</td>\n      <td>Ernest Hemingway</td>\n      <td>1930</td>\n      <td>Collier Books</td>\n      <td>http://images.amazon.com/images/P/0684717999.0...</td>\n      <td>http://images.amazon.com/images/P/0684717999.0...</td>\n      <td>http://images.amazon.com/images/P/0684717999.0...</td>\n    </tr>\n    <tr>\n      <th>200720</th>\n      <td>0840724551</td>\n      <td>Agneatha and the Peacocks-Blank Book</td>\n      <td>Markings</td>\n      <td>1920</td>\n      <td>Nelson Communications</td>\n      <td>http://images.amazon.com/images/P/0840724551.0...</td>\n      <td>http://images.amazon.com/images/P/0840724551.0...</td>\n      <td>http://images.amazon.com/images/P/0840724551.0...</td>\n    </tr>\n  </tbody>\n</table>\n<p>245 rows × 8 columns</p>\n</div>"
     },
     "execution_count": 48,
     "metadata": {},
     "output_type": "execute_result"
    }
   ],
   "source": [
    "books_copy = books[books[\"Year-Of-Publication\"] > 0]\n",
    "books_copy[books_copy[\"Year-Of-Publication\"] < 1950]"
   ]
  },
  {
   "cell_type": "markdown",
   "id": "ad1ca717",
   "metadata": {
    "id": "ad1ca717"
   },
   "source": [
    "Hay 293 libros que fueron publicados antes de 1950."
   ]
  },
  {
   "cell_type": "markdown",
   "id": "490c68b4",
   "metadata": {
    "id": "490c68b4"
   },
   "source": [
    "#### Publisher"
   ]
  },
  {
   "cell_type": "code",
   "execution_count": 49,
   "id": "f92d9f8f",
   "metadata": {
    "id": "f92d9f8f"
   },
   "outputs": [
    {
     "data": {
      "text/plain": "Pocket                             3310\nBallantine Books                   3067\nBantam Books                       2919\nSimon & Schuster                   2451\nPenguin Books                      2440\n                                   ... \nPermanent Pr Pub Co                   1\nIntl Center for Economic Growth       1\nRed-Letter Press                      1\nCollins Pr                            1\nConnaught                             1\nName: Publisher, Length: 14117, dtype: int64"
     },
     "execution_count": 49,
     "metadata": {},
     "output_type": "execute_result"
    }
   ],
   "source": [
    "books[\"Publisher\"].value_counts()"
   ]
  },
  {
   "cell_type": "markdown",
   "id": "94c63b9f",
   "metadata": {
    "id": "94c63b9f"
   },
   "source": [
    "Las cinco editoriales más frecuentes son Harlequin, Silhouette, Pocket Ballantine Books, y Bantam Books."
   ]
  },
  {
   "cell_type": "markdown",
   "id": "742b3b9d",
   "metadata": {
    "id": "742b3b9d"
   },
   "source": [
    "## Colaborative filtering\n",
    "### Item based filtering\n"
   ]
  },
  {
   "cell_type": "code",
   "source": [
    "#data2 = data.dropna()\n",
    "#data2 = data2[data2[\"Age\"] < 30]\n",
    "#data2.shape"
   ],
   "metadata": {
    "id": "dQ_JM-EZohlb"
   },
   "id": "dQ_JM-EZohlb",
   "execution_count": null,
   "outputs": []
  },
  {
   "cell_type": "code",
   "execution_count": 57,
   "outputs": [
    {
     "data": {
      "text/plain": "(302584, 13)"
     },
     "execution_count": 57,
     "metadata": {},
     "output_type": "execute_result"
    }
   ],
   "source": [
    "data2 = data.copy()\n",
    "data2 = data2[data2[\"Book-Rating\"] > 0]\n",
    "data2.shape"
   ],
   "metadata": {
    "collapsed": false
   }
  },
  {
   "cell_type": "code",
   "execution_count": 58,
   "outputs": [
    {
     "data": {
      "text/plain": "       User-ID        ISBN  Book-Rating                            Book-Title  \\\n1923     15542  8434811634            7  Escarabajos Vuelan Al Atardecer, Los   \n1924    184386  8434811634            8  Escarabajos Vuelan Al Atardecer, Los   \n1933    276786  8478442588            6                El Elogio de La Sombra   \n1934     11676  8478442588            7                El Elogio de La Sombra   \n1935     76699  8478442588            9                El Elogio de La Sombra   \n...        ...         ...          ...                                   ...   \n809121  274555  8420616230            8           El Corazon de Las Tinieblas   \n809127  274619  8420400025            7                       Diablo Guardian   \n809383  275650  8483231328            7                               El Caos   \n809590  276042  8478445137           10                          de Profundis   \n809662  276487  8423307379            4                 Rebelion en la Granja   \n\n           Book-Author  Year-Of-Publication  \\\n1923       Maria Gripe                 1995   \n1924       Maria Gripe                 1995   \n1933          Tanazaki                 1998   \n1934          Tanazaki                 1998   \n1935          Tanazaki                 1998   \n...                ...                  ...   \n809121   Joseph Conrad                 1997   \n809127  Xavier Velasco                 2003   \n809383      Neil Smith                 2002   \n809590     Oscar Wilde                 2000   \n809662   George Orwell                 1998   \n\n                                Publisher  \\\n1923                          S & M Books   \n1924                          S & M Books   \n1933                              Siruela   \n1934                              Siruela   \n1935                              Siruela   \n...                                   ...   \n809121                            Alianza   \n809127  Alfaguara Ediciones, S.A. (Spain)   \n809383         Cambridge University Press   \n809590                            Siruela   \n809662        Espasa Calpe Mexicana, S.A.   \n\n                                              Image-URL-S  \\\n1923    http://images.amazon.com/images/P/8434811634.0...   \n1924    http://images.amazon.com/images/P/8434811634.0...   \n1933    http://images.amazon.com/images/P/8478442588.0...   \n1934    http://images.amazon.com/images/P/8478442588.0...   \n1935    http://images.amazon.com/images/P/8478442588.0...   \n...                                                   ...   \n809121  http://images.amazon.com/images/P/8420616230.0...   \n809127  http://images.amazon.com/images/P/8420400025.0...   \n809383  http://images.amazon.com/images/P/8483231328.0...   \n809590  http://images.amazon.com/images/P/8478445137.0...   \n809662  http://images.amazon.com/images/P/8423307379.0...   \n\n                                              Image-URL-M  \\\n1923    http://images.amazon.com/images/P/8434811634.0...   \n1924    http://images.amazon.com/images/P/8434811634.0...   \n1933    http://images.amazon.com/images/P/8478442588.0...   \n1934    http://images.amazon.com/images/P/8478442588.0...   \n1935    http://images.amazon.com/images/P/8478442588.0...   \n...                                                   ...   \n809121  http://images.amazon.com/images/P/8420616230.0...   \n809127  http://images.amazon.com/images/P/8420400025.0...   \n809383  http://images.amazon.com/images/P/8483231328.0...   \n809590  http://images.amazon.com/images/P/8478445137.0...   \n809662  http://images.amazon.com/images/P/8423307379.0...   \n\n                                              Image-URL-L Language  \\\n1923    http://images.amazon.com/images/P/8434811634.0...       es   \n1924    http://images.amazon.com/images/P/8434811634.0...       es   \n1933    http://images.amazon.com/images/P/8478442588.0...       es   \n1934    http://images.amazon.com/images/P/8478442588.0...       es   \n1935    http://images.amazon.com/images/P/8478442588.0...       es   \n...                                                   ...      ...   \n809121  http://images.amazon.com/images/P/8420616230.0...       es   \n809127  http://images.amazon.com/images/P/8420400025.0...       es   \n809383  http://images.amazon.com/images/P/8483231328.0...       es   \n809590  http://images.amazon.com/images/P/8478445137.0...       es   \n809662  http://images.amazon.com/images/P/8423307379.0...       es   \n\n                                Location   Age  \n1923    vva de la serena, badajoz, spain  18.0  \n1924             móstoles, madrid, spain  23.0  \n1933               madrid, madrid, spain  34.0  \n1934                       n/a, n/a, n/a   NaN  \n1935         etsab, catalunya, catalunya  24.0  \n...                                  ...   ...  \n809121            bilbao, euskadi, spain  49.0  \n809127       castellón, castellón, spain  29.0  \n809383           ourense, ourense, spain  22.0  \n809590             madrid, madrid, spain  28.0  \n809662             teruel, aragon, spain  21.0  \n\n[4253 rows x 13 columns]",
      "text/html": "<div>\n<style scoped>\n    .dataframe tbody tr th:only-of-type {\n        vertical-align: middle;\n    }\n\n    .dataframe tbody tr th {\n        vertical-align: top;\n    }\n\n    .dataframe thead th {\n        text-align: right;\n    }\n</style>\n<table border=\"1\" class=\"dataframe\">\n  <thead>\n    <tr style=\"text-align: right;\">\n      <th></th>\n      <th>User-ID</th>\n      <th>ISBN</th>\n      <th>Book-Rating</th>\n      <th>Book-Title</th>\n      <th>Book-Author</th>\n      <th>Year-Of-Publication</th>\n      <th>Publisher</th>\n      <th>Image-URL-S</th>\n      <th>Image-URL-M</th>\n      <th>Image-URL-L</th>\n      <th>Language</th>\n      <th>Location</th>\n      <th>Age</th>\n    </tr>\n  </thead>\n  <tbody>\n    <tr>\n      <th>1923</th>\n      <td>15542</td>\n      <td>8434811634</td>\n      <td>7</td>\n      <td>Escarabajos Vuelan Al Atardecer, Los</td>\n      <td>Maria Gripe</td>\n      <td>1995</td>\n      <td>S &amp; M Books</td>\n      <td>http://images.amazon.com/images/P/8434811634.0...</td>\n      <td>http://images.amazon.com/images/P/8434811634.0...</td>\n      <td>http://images.amazon.com/images/P/8434811634.0...</td>\n      <td>es</td>\n      <td>vva de la serena, badajoz, spain</td>\n      <td>18.0</td>\n    </tr>\n    <tr>\n      <th>1924</th>\n      <td>184386</td>\n      <td>8434811634</td>\n      <td>8</td>\n      <td>Escarabajos Vuelan Al Atardecer, Los</td>\n      <td>Maria Gripe</td>\n      <td>1995</td>\n      <td>S &amp; M Books</td>\n      <td>http://images.amazon.com/images/P/8434811634.0...</td>\n      <td>http://images.amazon.com/images/P/8434811634.0...</td>\n      <td>http://images.amazon.com/images/P/8434811634.0...</td>\n      <td>es</td>\n      <td>móstoles, madrid, spain</td>\n      <td>23.0</td>\n    </tr>\n    <tr>\n      <th>1933</th>\n      <td>276786</td>\n      <td>8478442588</td>\n      <td>6</td>\n      <td>El Elogio de La Sombra</td>\n      <td>Tanazaki</td>\n      <td>1998</td>\n      <td>Siruela</td>\n      <td>http://images.amazon.com/images/P/8478442588.0...</td>\n      <td>http://images.amazon.com/images/P/8478442588.0...</td>\n      <td>http://images.amazon.com/images/P/8478442588.0...</td>\n      <td>es</td>\n      <td>madrid, madrid, spain</td>\n      <td>34.0</td>\n    </tr>\n    <tr>\n      <th>1934</th>\n      <td>11676</td>\n      <td>8478442588</td>\n      <td>7</td>\n      <td>El Elogio de La Sombra</td>\n      <td>Tanazaki</td>\n      <td>1998</td>\n      <td>Siruela</td>\n      <td>http://images.amazon.com/images/P/8478442588.0...</td>\n      <td>http://images.amazon.com/images/P/8478442588.0...</td>\n      <td>http://images.amazon.com/images/P/8478442588.0...</td>\n      <td>es</td>\n      <td>n/a, n/a, n/a</td>\n      <td>NaN</td>\n    </tr>\n    <tr>\n      <th>1935</th>\n      <td>76699</td>\n      <td>8478442588</td>\n      <td>9</td>\n      <td>El Elogio de La Sombra</td>\n      <td>Tanazaki</td>\n      <td>1998</td>\n      <td>Siruela</td>\n      <td>http://images.amazon.com/images/P/8478442588.0...</td>\n      <td>http://images.amazon.com/images/P/8478442588.0...</td>\n      <td>http://images.amazon.com/images/P/8478442588.0...</td>\n      <td>es</td>\n      <td>etsab, catalunya, catalunya</td>\n      <td>24.0</td>\n    </tr>\n    <tr>\n      <th>...</th>\n      <td>...</td>\n      <td>...</td>\n      <td>...</td>\n      <td>...</td>\n      <td>...</td>\n      <td>...</td>\n      <td>...</td>\n      <td>...</td>\n      <td>...</td>\n      <td>...</td>\n      <td>...</td>\n      <td>...</td>\n      <td>...</td>\n    </tr>\n    <tr>\n      <th>809121</th>\n      <td>274555</td>\n      <td>8420616230</td>\n      <td>8</td>\n      <td>El Corazon de Las Tinieblas</td>\n      <td>Joseph Conrad</td>\n      <td>1997</td>\n      <td>Alianza</td>\n      <td>http://images.amazon.com/images/P/8420616230.0...</td>\n      <td>http://images.amazon.com/images/P/8420616230.0...</td>\n      <td>http://images.amazon.com/images/P/8420616230.0...</td>\n      <td>es</td>\n      <td>bilbao, euskadi, spain</td>\n      <td>49.0</td>\n    </tr>\n    <tr>\n      <th>809127</th>\n      <td>274619</td>\n      <td>8420400025</td>\n      <td>7</td>\n      <td>Diablo Guardian</td>\n      <td>Xavier Velasco</td>\n      <td>2003</td>\n      <td>Alfaguara Ediciones, S.A. (Spain)</td>\n      <td>http://images.amazon.com/images/P/8420400025.0...</td>\n      <td>http://images.amazon.com/images/P/8420400025.0...</td>\n      <td>http://images.amazon.com/images/P/8420400025.0...</td>\n      <td>es</td>\n      <td>castellón, castellón, spain</td>\n      <td>29.0</td>\n    </tr>\n    <tr>\n      <th>809383</th>\n      <td>275650</td>\n      <td>8483231328</td>\n      <td>7</td>\n      <td>El Caos</td>\n      <td>Neil Smith</td>\n      <td>2002</td>\n      <td>Cambridge University Press</td>\n      <td>http://images.amazon.com/images/P/8483231328.0...</td>\n      <td>http://images.amazon.com/images/P/8483231328.0...</td>\n      <td>http://images.amazon.com/images/P/8483231328.0...</td>\n      <td>es</td>\n      <td>ourense, ourense, spain</td>\n      <td>22.0</td>\n    </tr>\n    <tr>\n      <th>809590</th>\n      <td>276042</td>\n      <td>8478445137</td>\n      <td>10</td>\n      <td>de Profundis</td>\n      <td>Oscar Wilde</td>\n      <td>2000</td>\n      <td>Siruela</td>\n      <td>http://images.amazon.com/images/P/8478445137.0...</td>\n      <td>http://images.amazon.com/images/P/8478445137.0...</td>\n      <td>http://images.amazon.com/images/P/8478445137.0...</td>\n      <td>es</td>\n      <td>madrid, madrid, spain</td>\n      <td>28.0</td>\n    </tr>\n    <tr>\n      <th>809662</th>\n      <td>276487</td>\n      <td>8423307379</td>\n      <td>4</td>\n      <td>Rebelion en la Granja</td>\n      <td>George Orwell</td>\n      <td>1998</td>\n      <td>Espasa Calpe Mexicana, S.A.</td>\n      <td>http://images.amazon.com/images/P/8423307379.0...</td>\n      <td>http://images.amazon.com/images/P/8423307379.0...</td>\n      <td>http://images.amazon.com/images/P/8423307379.0...</td>\n      <td>es</td>\n      <td>teruel, aragon, spain</td>\n      <td>21.0</td>\n    </tr>\n  </tbody>\n</table>\n<p>4253 rows × 13 columns</p>\n</div>"
     },
     "execution_count": 58,
     "metadata": {},
     "output_type": "execute_result"
    }
   ],
   "source": [
    "data2 = data2[data2[\"Language\"] == \"es\"]\n",
    "data2"
   ],
   "metadata": {
    "collapsed": false
   }
  },
  {
   "cell_type": "code",
   "execution_count": 59,
   "outputs": [
    {
     "data": {
      "text/plain": "2183"
     },
     "execution_count": 59,
     "metadata": {},
     "output_type": "execute_result"
    }
   ],
   "source": [
    "len(data2[\"Book-Title\"].unique())"
   ],
   "metadata": {
    "collapsed": false
   }
  },
  {
   "cell_type": "code",
   "execution_count": 60,
   "outputs": [
    {
     "data": {
      "text/plain": "2363"
     },
     "execution_count": 60,
     "metadata": {},
     "output_type": "execute_result"
    }
   ],
   "source": [
    "len(data2[\"User-ID\"].unique())"
   ],
   "metadata": {
    "collapsed": false
   }
  },
  {
   "cell_type": "markdown",
   "source": [
    "Se tienen 2183 libros y 2363 usuarios."
   ],
   "metadata": {
    "collapsed": false
   }
  },
  {
   "cell_type": "code",
   "execution_count": 56,
   "outputs": [
    {
     "data": {
      "text/plain": "(159146, 13)"
     },
     "execution_count": 56,
     "metadata": {},
     "output_type": "execute_result"
    }
   ],
   "source": [
    "# Se eliminan los duplicados\n",
    "data2 = data2.dropna()\n",
    "data2.shape"
   ],
   "metadata": {
    "collapsed": false
   }
  },
  {
   "cell_type": "code",
   "execution_count": 61,
   "outputs": [
    {
     "data": {
      "text/plain": "array(['Escarabajos Vuelan Al Atardecer, Los', 'El Elogio de La Sombra',\n       'Nadie Es Perfecto (Narrativa Actual)',\n       'Los Trapos Sucios - Manolito Gafotas', 'El Principito',\n       'Ana Frank: Diario de una adolescente', 'Contacto',\n       'El Hermano Pequeno (Serie Carvalho)',\n       'El cazador del desierto (Espacio abierto)',\n       'El Corazon Del Tartaro (Narrativa)', 'No Pasaran! El Videojuego',\n       'Desaparecido: LA Autentica Historia De LA Ejecucion De Charles Horman',\n       'Murphy Vive En Mi Computadora', 'El ocho', 'La Sombra del Viento',\n       'Cronica De Una Muerte Anunciada',\n       'El Camino (Coleccion Destinolibro)', 'Guerra y Paz',\n       'Bastardo, El', 'La Casa De Bernarda Alba',\n       'Ellen Foster (Vintage contemporaries)',\n       'Reino del Dragon de Oro, El', 'Lost', 'No Safe Place',\n       'Cruel Justice', 'Frames Per Second',\n       'El Hombre Que Susurraba Al Oido De Los Caballos',\n       'Los Pilares de La Tierra', 'Los Renglones Torcidos De Dios',\n       'Mexico', 'Alias Grace', 'Puerto Vallarta Squeeze',\n       'Rhinoceros Success', 'Buried Evidence', 'La Vida Despues de Dios',\n       'Gospel', 'Eden Close', 'Todos Los Fuegos El Fuego',\n       'The Road to El Dorado: Junior Novelization (Road to El Dorado)',\n       'Global Paradox', 'Consequences', 'Eden', 'Mario Lemiuex',\n       'Cuba Libre', 'Felidae. Roman.', 'LA Muerte Del Decano',\n       'El Hombre Solo', 'Nadie Conoce a Nadie (Tiempos modernos)',\n       'El Fantasma De Canterville',\n       'Tu Nombre Escrito En El Agua (La Sonrisa Vertical)',\n       'El Almuerzo Desnudo', 'Cuentos del Planeta Tierra',\n       'Que Se Mueran Los Feos (Fabula)', 'Estudios sobre el amor',\n       'Contact', 'Diario de Ana Frank', 'El Palacio de La Luna',\n       'Mientras Escribo', 'An Accidental Woman',\n       'Espurnes de sang (La Negra)', 'Una casa en Irlanda',\n       'Esperanza Rising', 'La casa de Bernarda Alba', 'La porte obscure',\n       'Lazarillo De Tormes (Biblioteca Didactica Anaya)',\n       'Sangre a Borbotones (Coleccion Nueva Biblioteca)',\n       'Cryptonomicon', 'El Pelo De Van Hoff',\n       'El Ultimo Judio (Punto de Lectura)',\n       'Media Virus!: Hidden Agendas in Popular Culture',\n       'Fronteras de Lo Imposible', 'Falso Movimiento (Gran Angular)',\n       'El Circulo Magico',\n       'Mitologia - Guia Ilustrada de Mitos del Mundo',\n       'Pozo y El Pendulo y Otras Historias Espeluzna',\n       'Mi Gato Angus, El Primer Morreo Y El Pasta', 'El Ultimo Adios',\n       'Carnal Innocence', 'Lost Lady', 'El Tiempo y la Promesa',\n       'CHEKV ENTERPRISE', 'Elidor',\n       'El caballero de la armadura oxidada', 'La Musica del Azar',\n       'La casa pierde', 'London Holiday',\n       'El Vendedor De Noticias (Espasa Juvenil)',\n       'En LA Boca Del Dragon', 'Paradise Lost', 'Decider',\n       'An American Salad', 'El peregrino de Compostela',\n       'Maestro y Margarita, El', 'La venganza de don Mendo (Literatura)',\n       'Pequenos Cuentos Misoginos', 'San Manuel Bueno, Martir',\n       'Niebla (Letras Hispanicas)',\n       'Justina O Los Infortunios de La Virtud',\n       'Del Amor y Otros Demonios',\n       'DOS Mujeres En Praga (Espasa Narrativa)'], dtype=object)"
     },
     "execution_count": 61,
     "metadata": {},
     "output_type": "execute_result"
    }
   ],
   "source": [
    "data2[\"Book-Title\"].unique()[:100]"
   ],
   "metadata": {
    "collapsed": false
   }
  },
  {
   "cell_type": "code",
   "source": [
    "len(data2[\"User-ID\"].unique())"
   ],
   "metadata": {
    "id": "xy0L1PzWo6AV"
   },
   "id": "xy0L1PzWo6AV",
   "execution_count": 62,
   "outputs": [
    {
     "data": {
      "text/plain": "2363"
     },
     "execution_count": 62,
     "metadata": {},
     "output_type": "execute_result"
    }
   ]
  },
  {
   "cell_type": "code",
   "execution_count": 63,
   "outputs": [
    {
     "data": {
      "text/plain": "2183"
     },
     "execution_count": 63,
     "metadata": {},
     "output_type": "execute_result"
    }
   ],
   "source": [
    "len(data2[\"Book-Title\"].unique())"
   ],
   "metadata": {
    "collapsed": false
   }
  },
  {
   "cell_type": "code",
   "execution_count": 64,
   "outputs": [
    {
     "data": {
      "text/plain": "User-ID                  0\nISBN                     0\nBook-Rating              0\nBook-Title               0\nBook-Author              0\nYear-Of-Publication      0\nPublisher                0\nImage-URL-S              0\nImage-URL-M              0\nImage-URL-L              0\nLanguage                 0\nLocation                 0\nAge                    670\ndtype: int64"
     },
     "execution_count": 64,
     "metadata": {},
     "output_type": "execute_result"
    }
   ],
   "source": [
    "data2.isna().sum()"
   ],
   "metadata": {
    "collapsed": false
   }
  },
  {
   "cell_type": "code",
   "execution_count": 68,
   "id": "1c04b215",
   "metadata": {
    "id": "1c04b215"
   },
   "outputs": [
    {
     "data": {
      "text/plain": "     User-ID        ISBN  Book-Rating\n1923   15542  8434811634            7\n1924  184386  8434811634            8\n1933  276786  8478442588            6\n1934   11676  8478442588            7\n1935   76699  8478442588            9",
      "text/html": "<div>\n<style scoped>\n    .dataframe tbody tr th:only-of-type {\n        vertical-align: middle;\n    }\n\n    .dataframe tbody tr th {\n        vertical-align: top;\n    }\n\n    .dataframe thead th {\n        text-align: right;\n    }\n</style>\n<table border=\"1\" class=\"dataframe\">\n  <thead>\n    <tr style=\"text-align: right;\">\n      <th></th>\n      <th>User-ID</th>\n      <th>ISBN</th>\n      <th>Book-Rating</th>\n    </tr>\n  </thead>\n  <tbody>\n    <tr>\n      <th>1923</th>\n      <td>15542</td>\n      <td>8434811634</td>\n      <td>7</td>\n    </tr>\n    <tr>\n      <th>1924</th>\n      <td>184386</td>\n      <td>8434811634</td>\n      <td>8</td>\n    </tr>\n    <tr>\n      <th>1933</th>\n      <td>276786</td>\n      <td>8478442588</td>\n      <td>6</td>\n    </tr>\n    <tr>\n      <th>1934</th>\n      <td>11676</td>\n      <td>8478442588</td>\n      <td>7</td>\n    </tr>\n    <tr>\n      <th>1935</th>\n      <td>76699</td>\n      <td>8478442588</td>\n      <td>9</td>\n    </tr>\n  </tbody>\n</table>\n</div>"
     },
     "execution_count": 68,
     "metadata": {},
     "output_type": "execute_result"
    }
   ],
   "source": [
    "cf_data = data2[[\"User-ID\", \"ISBN\", \"Book-Rating\"]]\n",
    "cf_data.head()"
   ]
  },
  {
   "cell_type": "code",
   "source": [
    "cf_data.shape"
   ],
   "metadata": {
    "id": "owXzdFAeow_V"
   },
   "id": "owXzdFAeow_V",
   "execution_count": 69,
   "outputs": [
    {
     "data": {
      "text/plain": "(4253, 3)"
     },
     "execution_count": 69,
     "metadata": {},
     "output_type": "execute_result"
    }
   ]
  },
  {
   "cell_type": "code",
   "source": [
    "#cf_data = cf_data.sample(frac=.005, random_state=42)\n",
    "#cf_data.shape"
   ],
   "metadata": {
    "id": "N65dqs08QM7V"
   },
   "id": "N65dqs08QM7V",
   "execution_count": 70,
   "outputs": []
  },
  {
   "cell_type": "code",
   "execution_count": 71,
   "id": "0eb0cc76",
   "metadata": {
    "id": "0eb0cc76"
   },
   "outputs": [
    {
     "data": {
      "text/plain": "Text(0.5, 1.0, 'Histograma de distribución de ratings')"
     },
     "execution_count": 71,
     "metadata": {},
     "output_type": "execute_result"
    },
    {
     "data": {
      "text/plain": "<Figure size 720x360 with 1 Axes>",
      "image/png": "[encoded data removed]"
     },
     "metadata": {
      "needs_background": "light"
     },
     "output_type": "display_data"
    }
   ],
   "source": [
    "plt.figure(figsize=(10,5))\n",
    "cf_data[\"Book-Rating\"].hist(bins=15, color=\"orange\")\n",
    "plt.title(\"Histograma de distribución de ratings\", fontsize=20)"
   ]
  },
  {
   "cell_type": "code",
   "execution_count": 72,
   "id": "1a5d3286",
   "metadata": {
    "id": "1a5d3286"
   },
   "outputs": [],
   "source": [
    "reader = Reader(rating_scale=(1, 10))\n",
    "data_ibf = Dataset.load_from_df(cf_data, reader)"
   ]
  },
  {
   "cell_type": "code",
   "execution_count": 73,
   "id": "77cf6f84",
   "metadata": {
    "id": "77cf6f84"
   },
   "outputs": [
    {
     "data": {
      "text/plain": "(4253, 3)"
     },
     "execution_count": 73,
     "metadata": {},
     "output_type": "execute_result"
    }
   ],
   "source": [
    "cf_data.shape"
   ]
  },
  {
   "cell_type": "markdown",
   "id": "f3a2de90",
   "metadata": {
    "id": "f3a2de90"
   },
   "source": [
    "### Modelo KNNWithMeans"
   ]
  },
  {
   "cell_type": "code",
   "source": [
    "# Create the trainset and testset\n",
    "trainset = data_ibf.build_full_trainset()\n",
    "testset = trainset.build_anti_testset() # https://ansegura7.github.io/RS_Surprise/pages/RS_SVD_Tune.html"
   ],
   "metadata": {
    "id": "1cpgz5AyTA2g"
   },
   "id": "1cpgz5AyTA2g",
   "execution_count": 74,
   "outputs": []
  },
  {
   "cell_type": "code",
   "source": [
    "#sim_options = {\n",
    "#    \"n_epochs\": 10,\n",
    "#    \"lr_all\": 0.002,\n",
    "#    \"reg_all\": 0.02}\n",
    "\n",
    "# Se entrena utilizando el modelo SVD y se hacen las predicciones para los pares (u,i) que NO están en el trainingset\n",
    "#start = time.time()\n",
    "#print(\"> Training...\")\n",
    "\n",
    "#algo = SVD(n_epochs = sim_options['n_epochs'],\n",
    "#           lr_all = sim_options['lr_all'],\n",
    "#           reg_all = sim_options['reg_all'])\n",
    "#\n",
    "# Train the algorithm on the trainset, and predict ratings for the testset\n",
    "#algo.fit(trainset)\n",
    "\n",
    "# Then predict ratings for all pairs (u, i) that are NOT in the training set.\n",
    "#predictions1 = algo.test(testset)\n",
    "\n",
    "#end = time.time()\n",
    "#print (\">> DONE \\t\\t It Took\", (end-start), \"seconds\" )"
   ],
   "metadata": {
    "id": "s-2qddxiqkGi"
   },
   "id": "s-2qddxiqkGi",
   "execution_count": 75,
   "outputs": []
  },
  {
   "cell_type": "code",
   "execution_count": 76,
   "id": "8daff53d",
   "metadata": {
    "id": "8daff53d"
   },
   "outputs": [
    {
     "name": "stdout",
     "output_type": "stream",
     "text": [
      "> Training...\n",
      "Computing the msd similarity matrix...\n",
      "Done computing similarity matrix.\n",
      "MAE:  1.2980\n",
      "RMSE: 1.6334\n",
      "MAE: 1.2980015866825558, RMSE: 1.6333719749323292\n",
      ">> DONE \t It Took 110.4708571434021 seconds\n"
     ]
    }
   ],
   "source": [
    "# Se entrena utilizando el modelo KNNWithMeans y se hacen las predicciones para los pares (u,i) que NO están en el trainingset\n",
    "start = time.time()\n",
    "print(\"> Training...\")\n",
    "\n",
    "sim_options = {\n",
    "    \"name\":  \"msd\",\n",
    "    \"min_support\": 6,\n",
    "    \"user_based\": False\n",
    "}\n",
    "\n",
    "algorithm = KNNWithMeans(sim_options=sim_options)\n",
    "\n",
    "# Train the algorithm on the trainset, and predict ratings for the testset\n",
    "algorithm.fit(trainset)\n",
    "\n",
    "# Then predict ratings for all pairs (u, i) that are NOT in the training set.\n",
    "predictions = algorithm.test(testset)\n",
    "print(f'MAE: {accuracy.mae(predictions)}, RMSE: {accuracy.rmse(predictions)}')\n",
    "\n",
    "end = time.time()\n",
    "print (\">> DONE \\t It Took\", (end-start), \"seconds\")"
   ]
  },
  {
   "cell_type": "code",
   "source": [
    "matrix = pd.DataFrame(predictions)\n",
    "matrix.rename(columns={\"uid\":\"User-ID\", \"iid\":\"ISBN\"}, inplace=True)\n",
    "matrix.head(20)"
   ],
   "metadata": {
    "id": "XZRFG1qgTKCB"
   },
   "id": "XZRFG1qgTKCB",
   "execution_count": 77,
   "outputs": [
    {
     "data": {
      "text/plain": "   User-ID        ISBN      r_ui        est  \\\n0    15542  8478442588  7.367505   7.333333   \n1    15542  8478886044  7.367505   8.000000   \n2    15542  8420457477  7.367505   5.500000   \n3    15542  8420636282  7.367505   9.333333   \n4    15542  1400002672  7.367505   8.000000   \n5    15542  8401462231  7.367505   8.285714   \n6    15542  8408011200  7.367505   7.000000   \n7    15542  8420789895  7.367505  10.000000   \n8    15542  8423951537  7.367505   7.000000   \n9    15542  8423970647  7.367505   3.000000   \n10   15542  8427007450  7.367505   7.500000   \n11   15542  8483221306  7.367505   8.000000   \n12   15542  8495501090  7.367505   7.615385   \n13   15542  950491036X  7.367505   9.555556   \n14   15542  9871138016  7.367505   9.000000   \n15   15542  8423310353  7.367505   7.928571   \n16   15542  8426105084  7.367505   7.000000   \n17   15542  8440630921  7.367505   9.000000   \n18   15542  8470394126  7.367505   5.000000   \n19   15542  0394757572  7.367505   8.000000   \n\n                                     details  \n0   {'actual_k': 0, 'was_impossible': False}  \n1   {'actual_k': 0, 'was_impossible': False}  \n2   {'actual_k': 0, 'was_impossible': False}  \n3   {'actual_k': 0, 'was_impossible': False}  \n4   {'actual_k': 0, 'was_impossible': False}  \n5   {'actual_k': 0, 'was_impossible': False}  \n6   {'actual_k': 0, 'was_impossible': False}  \n7   {'actual_k': 0, 'was_impossible': False}  \n8   {'actual_k': 0, 'was_impossible': False}  \n9   {'actual_k': 0, 'was_impossible': False}  \n10  {'actual_k': 0, 'was_impossible': False}  \n11  {'actual_k': 0, 'was_impossible': False}  \n12  {'actual_k': 0, 'was_impossible': False}  \n13  {'actual_k': 0, 'was_impossible': False}  \n14  {'actual_k': 0, 'was_impossible': False}  \n15  {'actual_k': 0, 'was_impossible': False}  \n16  {'actual_k': 0, 'was_impossible': False}  \n17  {'actual_k': 0, 'was_impossible': False}  \n18  {'actual_k': 0, 'was_impossible': False}  \n19  {'actual_k': 0, 'was_impossible': False}  ",
      "text/html": "<div>\n<style scoped>\n    .dataframe tbody tr th:only-of-type {\n        vertical-align: middle;\n    }\n\n    .dataframe tbody tr th {\n        vertical-align: top;\n    }\n\n    .dataframe thead th {\n        text-align: right;\n    }\n</style>\n<table border=\"1\" class=\"dataframe\">\n  <thead>\n    <tr style=\"text-align: right;\">\n      <th></th>\n      <th>User-ID</th>\n      <th>ISBN</th>\n      <th>r_ui</th>\n      <th>est</th>\n      <th>details</th>\n    </tr>\n  </thead>\n  <tbody>\n    <tr>\n      <th>0</th>\n      <td>15542</td>\n      <td>8478442588</td>\n      <td>7.367505</td>\n      <td>7.333333</td>\n      <td>{'actual_k': 0, 'was_impossible': False}</td>\n    </tr>\n    <tr>\n      <th>1</th>\n      <td>15542</td>\n      <td>8478886044</td>\n      <td>7.367505</td>\n      <td>8.000000</td>\n      <td>{'actual_k': 0, 'was_impossible': False}</td>\n    </tr>\n    <tr>\n      <th>2</th>\n      <td>15542</td>\n      <td>8420457477</td>\n      <td>7.367505</td>\n      <td>5.500000</td>\n      <td>{'actual_k': 0, 'was_impossible': False}</td>\n    </tr>\n    <tr>\n      <th>3</th>\n      <td>15542</td>\n      <td>8420636282</td>\n      <td>7.367505</td>\n      <td>9.333333</td>\n      <td>{'actual_k': 0, 'was_impossible': False}</td>\n    </tr>\n    <tr>\n      <th>4</th>\n      <td>15542</td>\n      <td>1400002672</td>\n      <td>7.367505</td>\n      <td>8.000000</td>\n      <td>{'actual_k': 0, 'was_impossible': False}</td>\n    </tr>\n    <tr>\n      <th>5</th>\n      <td>15542</td>\n      <td>8401462231</td>\n      <td>7.367505</td>\n      <td>8.285714</td>\n      <td>{'actual_k': 0, 'was_impossible': False}</td>\n    </tr>\n    <tr>\n      <th>6</th>\n      <td>15542</td>\n      <td>8408011200</td>\n      <td>7.367505</td>\n      <td>7.000000</td>\n      <td>{'actual_k': 0, 'was_impossible': False}</td>\n    </tr>\n    <tr>\n      <th>7</th>\n      <td>15542</td>\n      <td>8420789895</td>\n      <td>7.367505</td>\n      <td>10.000000</td>\n      <td>{'actual_k': 0, 'was_impossible': False}</td>\n    </tr>\n    <tr>\n      <th>8</th>\n      <td>15542</td>\n      <td>8423951537</td>\n      <td>7.367505</td>\n      <td>7.000000</td>\n      <td>{'actual_k': 0, 'was_impossible': False}</td>\n    </tr>\n    <tr>\n      <th>9</th>\n      <td>15542</td>\n      <td>8423970647</td>\n      <td>7.367505</td>\n      <td>3.000000</td>\n      <td>{'actual_k': 0, 'was_impossible': False}</td>\n    </tr>\n    <tr>\n      <th>10</th>\n      <td>15542</td>\n      <td>8427007450</td>\n      <td>7.367505</td>\n      <td>7.500000</td>\n      <td>{'actual_k': 0, 'was_impossible': False}</td>\n    </tr>\n    <tr>\n      <th>11</th>\n      <td>15542</td>\n      <td>8483221306</td>\n      <td>7.367505</td>\n      <td>8.000000</td>\n      <td>{'actual_k': 0, 'was_impossible': False}</td>\n    </tr>\n    <tr>\n      <th>12</th>\n      <td>15542</td>\n      <td>8495501090</td>\n      <td>7.367505</td>\n      <td>7.615385</td>\n      <td>{'actual_k': 0, 'was_impossible': False}</td>\n    </tr>\n    <tr>\n      <th>13</th>\n      <td>15542</td>\n      <td>950491036X</td>\n      <td>7.367505</td>\n      <td>9.555556</td>\n      <td>{'actual_k': 0, 'was_impossible': False}</td>\n    </tr>\n    <tr>\n      <th>14</th>\n      <td>15542</td>\n      <td>9871138016</td>\n      <td>7.367505</td>\n      <td>9.000000</td>\n      <td>{'actual_k': 0, 'was_impossible': False}</td>\n    </tr>\n    <tr>\n      <th>15</th>\n      <td>15542</td>\n      <td>8423310353</td>\n      <td>7.367505</td>\n      <td>7.928571</td>\n      <td>{'actual_k': 0, 'was_impossible': False}</td>\n    </tr>\n    <tr>\n      <th>16</th>\n      <td>15542</td>\n      <td>8426105084</td>\n      <td>7.367505</td>\n      <td>7.000000</td>\n      <td>{'actual_k': 0, 'was_impossible': False}</td>\n    </tr>\n    <tr>\n      <th>17</th>\n      <td>15542</td>\n      <td>8440630921</td>\n      <td>7.367505</td>\n      <td>9.000000</td>\n      <td>{'actual_k': 0, 'was_impossible': False}</td>\n    </tr>\n    <tr>\n      <th>18</th>\n      <td>15542</td>\n      <td>8470394126</td>\n      <td>7.367505</td>\n      <td>5.000000</td>\n      <td>{'actual_k': 0, 'was_impossible': False}</td>\n    </tr>\n    <tr>\n      <th>19</th>\n      <td>15542</td>\n      <td>0394757572</td>\n      <td>7.367505</td>\n      <td>8.000000</td>\n      <td>{'actual_k': 0, 'was_impossible': False}</td>\n    </tr>\n  </tbody>\n</table>\n</div>"
     },
     "execution_count": 77,
     "metadata": {},
     "output_type": "execute_result"
    }
   ]
  },
  {
   "cell_type": "code",
   "execution_count": 78,
   "outputs": [],
   "source": [
    "matrix = matrix.merge(books[[\"ISBN\", \"Book-Title\"]], on=\"ISBN\")"
   ],
   "metadata": {
    "collapsed": false
   }
  },
  {
   "cell_type": "code",
   "execution_count": 3,
   "outputs": [
    {
     "data": {
      "text/plain": "  User-ID        ISBN      r_ui       est  \\\n0   15542  8478442588  7.367505  7.333333   \n1  184386  8478442588  7.367505  7.333333   \n2  276813  8478442588  7.367505  7.333333   \n3  276853  8478442588  7.367505  7.333333   \n4   14541  8478442588  7.367505  7.333333   \n\n                                    details              Book-Title  \n0  {'actual_k': 0, 'was_impossible': False}  El Elogio de La Sombra  \n1  {'actual_k': 0, 'was_impossible': False}  El Elogio de La Sombra  \n2  {'actual_k': 0, 'was_impossible': False}  El Elogio de La Sombra  \n3  {'actual_k': 0, 'was_impossible': False}  El Elogio de La Sombra  \n4  {'actual_k': 0, 'was_impossible': False}  El Elogio de La Sombra  ",
      "text/html": "<div>\n<style scoped>\n    .dataframe tbody tr th:only-of-type {\n        vertical-align: middle;\n    }\n\n    .dataframe tbody tr th {\n        vertical-align: top;\n    }\n\n    .dataframe thead th {\n        text-align: right;\n    }\n</style>\n<table border=\"1\" class=\"dataframe\">\n  <thead>\n    <tr style=\"text-align: right;\">\n      <th></th>\n      <th>User-ID</th>\n      <th>ISBN</th>\n      <th>r_ui</th>\n      <th>est</th>\n      <th>details</th>\n      <th>Book-Title</th>\n    </tr>\n  </thead>\n  <tbody>\n    <tr>\n      <th>0</th>\n      <td>15542</td>\n      <td>8478442588</td>\n      <td>7.367505</td>\n      <td>7.333333</td>\n      <td>{'actual_k': 0, 'was_impossible': False}</td>\n      <td>El Elogio de La Sombra</td>\n    </tr>\n    <tr>\n      <th>1</th>\n      <td>184386</td>\n      <td>8478442588</td>\n      <td>7.367505</td>\n      <td>7.333333</td>\n      <td>{'actual_k': 0, 'was_impossible': False}</td>\n      <td>El Elogio de La Sombra</td>\n    </tr>\n    <tr>\n      <th>2</th>\n      <td>276813</td>\n      <td>8478442588</td>\n      <td>7.367505</td>\n      <td>7.333333</td>\n      <td>{'actual_k': 0, 'was_impossible': False}</td>\n      <td>El Elogio de La Sombra</td>\n    </tr>\n    <tr>\n      <th>3</th>\n      <td>276853</td>\n      <td>8478442588</td>\n      <td>7.367505</td>\n      <td>7.333333</td>\n      <td>{'actual_k': 0, 'was_impossible': False}</td>\n      <td>El Elogio de La Sombra</td>\n    </tr>\n    <tr>\n      <th>4</th>\n      <td>14541</td>\n      <td>8478442588</td>\n      <td>7.367505</td>\n      <td>7.333333</td>\n      <td>{'actual_k': 0, 'was_impossible': False}</td>\n      <td>El Elogio de La Sombra</td>\n    </tr>\n  </tbody>\n</table>\n</div>"
     },
     "execution_count": 3,
     "metadata": {},
     "output_type": "execute_result"
    }
   ],
   "source": [
    "matrix = pd.read_parquet(\"./predictions_matrix.parquet.gzip\")\n",
    "matrix.head()"
   ],
   "metadata": {
    "collapsed": false
   }
  },
  {
   "cell_type": "code",
   "execution_count": 79,
   "outputs": [
    {
     "data": {
      "text/plain": "  User-ID        ISBN      r_ui       est  \\\n0   15542  8478442588  7.367505  7.333333   \n1  184386  8478442588  7.367505  7.333333   \n2  276813  8478442588  7.367505  7.333333   \n3  276853  8478442588  7.367505  7.333333   \n4   14541  8478442588  7.367505  7.333333   \n\n                                    details              Book-Title  \n0  {'actual_k': 0, 'was_impossible': False}  El Elogio de La Sombra  \n1  {'actual_k': 0, 'was_impossible': False}  El Elogio de La Sombra  \n2  {'actual_k': 0, 'was_impossible': False}  El Elogio de La Sombra  \n3  {'actual_k': 0, 'was_impossible': False}  El Elogio de La Sombra  \n4  {'actual_k': 0, 'was_impossible': False}  El Elogio de La Sombra  ",
      "text/html": "<div>\n<style scoped>\n    .dataframe tbody tr th:only-of-type {\n        vertical-align: middle;\n    }\n\n    .dataframe tbody tr th {\n        vertical-align: top;\n    }\n\n    .dataframe thead th {\n        text-align: right;\n    }\n</style>\n<table border=\"1\" class=\"dataframe\">\n  <thead>\n    <tr style=\"text-align: right;\">\n      <th></th>\n      <th>User-ID</th>\n      <th>ISBN</th>\n      <th>r_ui</th>\n      <th>est</th>\n      <th>details</th>\n      <th>Book-Title</th>\n    </tr>\n  </thead>\n  <tbody>\n    <tr>\n      <th>0</th>\n      <td>15542</td>\n      <td>8478442588</td>\n      <td>7.367505</td>\n      <td>7.333333</td>\n      <td>{'actual_k': 0, 'was_impossible': False}</td>\n      <td>El Elogio de La Sombra</td>\n    </tr>\n    <tr>\n      <th>1</th>\n      <td>184386</td>\n      <td>8478442588</td>\n      <td>7.367505</td>\n      <td>7.333333</td>\n      <td>{'actual_k': 0, 'was_impossible': False}</td>\n      <td>El Elogio de La Sombra</td>\n    </tr>\n    <tr>\n      <th>2</th>\n      <td>276813</td>\n      <td>8478442588</td>\n      <td>7.367505</td>\n      <td>7.333333</td>\n      <td>{'actual_k': 0, 'was_impossible': False}</td>\n      <td>El Elogio de La Sombra</td>\n    </tr>\n    <tr>\n      <th>3</th>\n      <td>276853</td>\n      <td>8478442588</td>\n      <td>7.367505</td>\n      <td>7.333333</td>\n      <td>{'actual_k': 0, 'was_impossible': False}</td>\n      <td>El Elogio de La Sombra</td>\n    </tr>\n    <tr>\n      <th>4</th>\n      <td>14541</td>\n      <td>8478442588</td>\n      <td>7.367505</td>\n      <td>7.333333</td>\n      <td>{'actual_k': 0, 'was_impossible': False}</td>\n      <td>El Elogio de La Sombra</td>\n    </tr>\n  </tbody>\n</table>\n</div>"
     },
     "execution_count": 79,
     "metadata": {},
     "output_type": "execute_result"
    }
   ],
   "source": [
    "matrix.head()"
   ],
   "metadata": {
    "collapsed": false
   }
  },
  {
   "cell_type": "code",
   "execution_count": 80,
   "outputs": [],
   "source": [
    "matrix.to_parquet(\"predictions_matrix.parquet.gzip\", compression='gzip')"
   ],
   "metadata": {
    "collapsed": false
   }
  },
  {
   "cell_type": "code",
   "source": [
    "type(matrix[\"User-ID\"][0])"
   ],
   "metadata": {
    "id": "swNQOo1iapW8"
   },
   "id": "swNQOo1iapW8",
   "execution_count": 81,
   "outputs": [
    {
     "data": {
      "text/plain": "str"
     },
     "execution_count": 81,
     "metadata": {},
     "output_type": "execute_result"
    }
   ]
  },
  {
   "cell_type": "code",
   "source": [
    "def recomendacion(user_id):\n",
    "  registros = matrix[matrix[\"User-ID\"] == user_id]\n",
    "  registros = registros.sort_values(\"est\", ascending=False).head(10)\n",
    "  return registros"
   ],
   "metadata": {
    "id": "pK2iq1W0YjX_"
   },
   "id": "pK2iq1W0YjX_",
   "execution_count": null,
   "outputs": []
  },
  {
   "cell_type": "code",
   "execution_count": null,
   "outputs": [],
   "source": [
    "def recommend_book(user_id):\n",
    "    matrix = pd.read_parquet(\"predictions_matrix.parquet.gzip\")\n",
    "    print(matrix.head())\n",
    "    registros = matrix[matrix[\"User-ID\"] == user_id]\n",
    "    registros = registros.sort_values(\"est\", ascending=False).head(10)\n",
    "    rec = registros.merge(books[[\"ISBN\", \"Book-Title\"]], on=\"ISBN\")\n",
    "    books_rec = rec[\"Book-Title\"].tolist()\n",
    "    return {\"Recommendation\": books_rec}\n",
    "recommend_book(\"244651\")"
   ],
   "metadata": {
    "collapsed": false,
    "pycharm": {
     "is_executing": true
    }
   }
  },
  {
   "cell_type": "code",
   "source": [
    "recomendacion(\"244651\")"
   ],
   "metadata": {
    "id": "i4NjqS64agQ8"
   },
   "id": "i4NjqS64agQ8",
   "execution_count": null,
   "outputs": []
  },
  {
   "cell_type": "code",
   "source": [
    "data[data[\"User-ID\"] == \"32440\"]"
   ],
   "metadata": {
    "id": "tYcJdRV-ajJk"
   },
   "id": "tYcJdRV-ajJk",
   "execution_count": null,
   "outputs": []
  },
  {
   "cell_type": "code",
   "source": [
    "data.shape"
   ],
   "metadata": {
    "id": "hQ3caIGNoAp1"
   },
   "id": "hQ3caIGNoAp1",
   "execution_count": null,
   "outputs": []
  },
  {
   "cell_type": "code",
   "source": [
    "data.dropna()"
   ],
   "metadata": {
    "id": "6pmLQOqJoW_e"
   },
   "id": "6pmLQOqJoW_e",
   "execution_count": null,
   "outputs": []
  },
  {
   "cell_type": "code",
   "source": [],
   "metadata": {
    "id": "iSCi--8RoYe7"
   },
   "id": "iSCi--8RoYe7",
   "execution_count": null,
   "outputs": []
  }
 ],
 "metadata": {
  "kernelspec": {
   "display_name": "Python 3 (ipykernel)",
   "language": "python",
   "name": "python3"
  },
  "language_info": {
   "codemirror_mode": {
    "name": "ipython",
    "version": 3
   },
   "file_extension": ".py",
   "mimetype": "text/x-python",
   "name": "python",
   "nbconvert_exporter": "python",
   "pygments_lexer": "ipython3",
   "version": "3.9.12"
  },
  "colab": {
   "provenance": [],
   "collapsed_sections": [
    "e5abc98d",
    "45cad74f",
    "758cfec8"
   ]
  }
 },
 "nbformat": 4,
 "nbformat_minor": 5
}
